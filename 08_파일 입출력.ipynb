{
 "cells": [
  {
   "cell_type": "markdown",
   "metadata": {},
   "source": [
    "# 파일 입출력(IO)\n",
    "\n",
    "외부자원(프로그램 외부의 파일, 넷, DB)을 읽고 쓰는 것\n",
    "\n",
    "<img src=\"8_1.jpg\">\n"
   ]
  },
  {
   "cell_type": "markdown",
   "metadata": {},
   "source": [
    "### 1. 파일연결\n",
    "`open(파일경로, 모드, 인코딩방식)`\n",
    "- 연결된 파일과 입출력 메소드를 제공하는 객채인 TextIOWrapper 객체를 리턴. \n",
    "- 주요 매개변수\n",
    "    - file\n",
    "    - mode: `목적+대상` <br>\n",
    "       *파일을 여는 목적*\n",
    "        - r: 읽기\n",
    "        - w: 새로쓰기\n",
    "        - x: 연결하려는 파일이 있으면 에러, 없으면 만들어 줌\n",
    "        - a: 이어쓰기<br>\n",
    "      *대상의 종류*\n",
    "        - b: binary (text를 제외한 나머지). 씌여있는 그대로 읽음\n",
    "        - t: text (메모장으로 열 수 있는 파일들). text형식에 맞춰서 읽음. text가 기본\n",
    "        - +: 읽기/쓰기 모드<br>\n",
    "        모드는 조합할 수 잇다. \n",
    "        - e.g.) wb\n",
    "        - rt가 기본값\n",
    "        \n",
    "    - `encoding=방식`  <-> decoding <br>\n",
    "         Text를 기계어로 특정 방식에 따라 구현한 리스트. <br>\n",
    "         방식은 다음의 둘 중 하나: <br>\n",
    "         - UTF-8\n",
    "         - CP949(euckr): 윈도우에서는 ANSI         \n",
    "         - ASCII, UTF-8(현재 표준), unicode (2byte) 등의 방식이 있다"
   ]
  },
  {
   "cell_type": "markdown",
   "metadata": {},
   "source": [
    "### 2. 입력/출력\n",
    "입력(파일 읽기)\n",
    "- `read()`: 전체읽기\n",
    "- `readline()`: 한줄읽기\n",
    "- `readlines()`: 한줄씩 리스트로 반환\n",
    "- `for line in 파일명`: for문을 이용해 한줄씩 읽기\n",
    "\n",
    "출력(파일쓰기)\n",
    "- `write()`\n",
    "- `writelines()`"
   ]
  },
  {
   "cell_type": "markdown",
   "metadata": {},
   "source": [
    "### 3. 연결끊기\n",
    "연결이 되어있는 상태에서는 파일을 지울 수 없음"
   ]
  },
  {
   "cell_type": "markdown",
   "metadata": {},
   "source": [
    "CP949형식으로 텍스트 파일 새로쓰기(w)"
   ]
  },
  {
   "cell_type": "code",
   "execution_count": 52,
   "metadata": {},
   "outputs": [],
   "source": [
    "fr = open(\"test_text.txt\", \"wt\") #test_text.txt와 텍스트쓰기 모드로 연결\n",
    "txt = \"\"\" 안녕하세요\n",
    "라라라라\n",
    "1231313\n",
    "끗\"\"\"\n",
    "# \n",
    "fr.write(txt)\n",
    "fr.write(\"마지막 라인\")\n",
    "fr.write(\"새줄\")\n",
    "fr.close()"
   ]
  },
  {
   "cell_type": "markdown",
   "metadata": {},
   "source": [
    "UTF-8형식으로 텍스트 파일 쓰기"
   ]
  },
  {
   "cell_type": "code",
   "execution_count": 57,
   "metadata": {},
   "outputs": [],
   "source": [
    "fr = open(\"test_text.txt\", \"wt\", encoding='UTF-8') #test_text.txt와 텍스트쓰기 모드로 연결\n",
    "txt = \"\"\"안녕하세요\n",
    "라라라라\n",
    "1231313\n",
    "끗\"\"\"\n",
    "# \n",
    "fr.write(txt)\n",
    "fr.write(\"\\n마지막 라인\\n\")\n",
    "fr.write(\"새줄\")\n",
    "fr.close()"
   ]
  },
  {
   "cell_type": "markdown",
   "metadata": {},
   "source": [
    "인코딩 지정하지 않는 경우 CP949로 읽음"
   ]
  },
  {
   "cell_type": "code",
   "execution_count": 58,
   "metadata": {},
   "outputs": [
    {
     "ename": "UnicodeDecodeError",
     "evalue": "'cp949' codec can't decode byte 0xec in position 0: illegal multibyte sequence",
     "output_type": "error",
     "traceback": [
      "\u001b[1;31m---------------------------------------------------------------------------\u001b[0m",
      "\u001b[1;31mUnicodeDecodeError\u001b[0m                        Traceback (most recent call last)",
      "\u001b[1;32m<ipython-input-58-fc9e4ae8b5e7>\u001b[0m in \u001b[0;36m<module>\u001b[1;34m\u001b[0m\n\u001b[0;32m      1\u001b[0m \u001b[0mf\u001b[0m \u001b[1;33m=\u001b[0m \u001b[0mopen\u001b[0m\u001b[1;33m(\u001b[0m\u001b[1;34m'test_text.txt'\u001b[0m\u001b[1;33m,\u001b[0m\u001b[1;34m'rt'\u001b[0m\u001b[1;33m)\u001b[0m\u001b[1;33m\u001b[0m\u001b[1;33m\u001b[0m\u001b[0m\n\u001b[1;32m----> 2\u001b[1;33m \u001b[0mr_txt\u001b[0m \u001b[1;33m=\u001b[0m \u001b[0mf\u001b[0m\u001b[1;33m.\u001b[0m\u001b[0mread\u001b[0m\u001b[1;33m(\u001b[0m\u001b[1;33m)\u001b[0m                        \u001b[1;31m#파일 전체 한번에 읽기\u001b[0m\u001b[1;33m\u001b[0m\u001b[1;33m\u001b[0m\u001b[0m\n\u001b[0m\u001b[0;32m      3\u001b[0m \u001b[0mprint\u001b[0m\u001b[1;33m(\u001b[0m\u001b[0mr_txt\u001b[0m\u001b[1;33m)\u001b[0m\u001b[1;33m\u001b[0m\u001b[1;33m\u001b[0m\u001b[0m\n",
      "\u001b[1;31mUnicodeDecodeError\u001b[0m: 'cp949' codec can't decode byte 0xec in position 0: illegal multibyte sequence"
     ]
    }
   ],
   "source": [
    "f = open('test_text.txt','rt')\n",
    "r_txt = f.read()                        #파일 전체 한번에 읽기\n",
    "print(r_txt)"
   ]
  },
  {
   "cell_type": "markdown",
   "metadata": {},
   "source": [
    "UTF-8으로 읽기"
   ]
  },
  {
   "cell_type": "code",
   "execution_count": 59,
   "metadata": {},
   "outputs": [
    {
     "name": "stdout",
     "output_type": "stream",
     "text": [
      "안녕하세요\n",
      "라라라라\n",
      "1231313\n",
      "끗\n",
      "마지막 라인\n",
      "새줄\n"
     ]
    }
   ],
   "source": [
    "f = open('test_text.txt','rt',encoding=\"UTF-8\")   #연결\n",
    "r_txt = f.read()                           #파일 전체 한번에 읽기\n",
    "print(r_txt)                                      #읽은 파일 프린트\n",
    "f.close()                                         #연결끊기"
   ]
  },
  {
   "cell_type": "markdown",
   "metadata": {},
   "source": [
    "이어쓰기 모드(a)로 파일 생성"
   ]
  },
  {
   "cell_type": "code",
   "execution_count": 75,
   "metadata": {},
   "outputs": [],
   "source": [
    "fr = open(\"test_text.txt\", \"at\", encoding=\"UTF-8\") #test_text.txt와 텍스트쓰기 모드로 연결\n",
    "txt = \"\"\" 안녕하세요\n",
    "라라라라\n",
    "1231313\n",
    "끗\"\"\"\n",
    "# \n",
    "fr.write(txt)\n",
    "fr.write(\"마지막 라인\")\n",
    "fr.write(\"새줄\")\n",
    "fr.close()"
   ]
  },
  {
   "cell_type": "markdown",
   "metadata": {},
   "source": [
    "`readline()`: 한줄읽기"
   ]
  },
  {
   "cell_type": "code",
   "execution_count": 61,
   "metadata": {},
   "outputs": [
    {
     "name": "stdout",
     "output_type": "stream",
     "text": [
      "안녕하세요\n",
      "\n"
     ]
    }
   ],
   "source": [
    "f = open('test_text.txt','rt',encoding=\"UTF-8\")   #연결\n",
    "r_txt = f.readline()                           \n",
    "print(r_txt)                                      #읽은 파일 프린트\n",
    "f.close()     "
   ]
  },
  {
   "cell_type": "markdown",
   "metadata": {},
   "source": [
    "`readlines()`: 한줄씩읽어서 리스트로 반환\n",
    "- 줄 단위로 처리해야 하는 데이터를 읽어야 할 때"
   ]
  },
  {
   "cell_type": "code",
   "execution_count": 64,
   "metadata": {},
   "outputs": [
    {
     "name": "stdout",
     "output_type": "stream",
     "text": [
      "['안녕하세요\\n', '라라라라\\n', '1231313\\n', '끗\\n', '마지막 라인\\n', '새줄 안녕하세요\\n', '라라라라\\n', '1231313\\n', '끗마지막 라인새줄']\n"
     ]
    }
   ],
   "source": [
    "f = open('test_text.txt','rt',encoding=\"UTF-8\")   #연결\n",
    "r_txt = f.readlines()                           \n",
    "print(r_txt)                                      #읽은 파일 프린트\n",
    "f.close()     "
   ]
  },
  {
   "cell_type": "markdown",
   "metadata": {},
   "source": [
    "`for in`문 사용"
   ]
  },
  {
   "cell_type": "code",
   "execution_count": 71,
   "metadata": {},
   "outputs": [
    {
     "name": "stdout",
     "output_type": "stream",
     "text": [
      "안녕하세요\n",
      "라라라라\n",
      "1231313\n",
      "끗\n",
      "마지막 라인\n",
      "새줄 안녕하세요\n",
      "라라라라\n",
      "1231313\n",
      "끗마지막 라인새줄\n"
     ]
    }
   ],
   "source": [
    "f = open('test_text.txt','rt',encoding=\"UTF-8\")   #연결\n",
    "for row in f:                          \n",
    "    print(row.strip())                                      #읽은 파일 프린트\n",
    "f.close()     "
   ]
  },
  {
   "cell_type": "markdown",
   "metadata": {},
   "source": [
    "`for in`문 사용, 라인번호 표시하기"
   ]
  },
  {
   "cell_type": "code",
   "execution_count": 73,
   "metadata": {},
   "outputs": [
    {
     "name": "stdout",
     "output_type": "stream",
     "text": [
      "1 안녕하세요\n",
      "2 라라라라\n",
      "3 1231313\n",
      "4 끗\n",
      "5 마지막 라인\n",
      "6 새줄 안녕하세요\n",
      "7 라라라라\n",
      "8 1231313\n",
      "9 끗마지막 라인새줄\n"
     ]
    }
   ],
   "source": [
    "f = open('test_text.txt','rt',encoding=\"UTF-8\")   #연결\n",
    "for idx, row in enumerate(f,start=1):                          \n",
    "    print(idx, row.strip())                                      #읽은 파일 프린트\n",
    "f.close()     "
   ]
  },
  {
   "cell_type": "markdown",
   "metadata": {},
   "source": [
    "**NB)** read, write 같은 경우, 예외상황 발생 가능성이 있으므로 주로 `try`안에 넣어놓음\n",
    "\n",
    "`finally`와 `.close()` 이용해서 무조건 연결을 끊도록 함"
   ]
  },
  {
   "cell_type": "code",
   "execution_count": 80,
   "metadata": {},
   "outputs": [
    {
     "ename": "IndentationError",
     "evalue": "expected an indented block (<ipython-input-80-cc21f7441eb4>, line 5)",
     "output_type": "error",
     "traceback": [
      "\u001b[1;36m  File \u001b[1;32m\"<ipython-input-80-cc21f7441eb4>\"\u001b[1;36m, line \u001b[1;32m5\u001b[0m\n\u001b[1;33m    except:\u001b[0m\n\u001b[1;37m           ^\u001b[0m\n\u001b[1;31mIndentationError\u001b[0m\u001b[1;31m:\u001b[0m expected an indented block\n"
     ]
    }
   ],
   "source": [
    "try:\n",
    "    f = open('test_text.txt','rt',encoding=\"UTF-8\")   #연결\n",
    "    for idx, row in enumerate(f,start=1):         \n",
    "        \n",
    "except:\n",
    "    print(idx, row.strip())\n",
    "\n",
    "finally:\n",
    "    print(\"finally\")\n",
    "    f.close()     "
   ]
  },
  {
   "cell_type": "markdown",
   "metadata": {},
   "source": [
    "`witth`: 블록을 빠져나오면 자동으로 close()됨"
   ]
  },
  {
   "cell_type": "code",
   "execution_count": 81,
   "metadata": {},
   "outputs": [
    {
     "name": "stdout",
     "output_type": "stream",
     "text": [
      "안녕하세요\n",
      "라라라라\n",
      "1231313\n",
      "끗\n",
      "마지막 라인\n",
      "새줄 안녕하세요\n",
      "라라라라\n",
      "1231313\n",
      "끗마지막 라인새줄 안녕하세요\n",
      "라라라라\n",
      "1231313\n",
      "끗마지막 라인새줄\n",
      "종료\n"
     ]
    }
   ],
   "source": [
    "with open(\"./test_text.txt\", 'rt', encoding=\"utf-8\") as fr:\n",
    "    try:\n",
    "        for s in fr:\n",
    "            print(s.strip())\n",
    "    except:\n",
    "        print(\"오류처리\")\n",
    "        #with block을 빠져나오면 자동으로 close()됨\n",
    "print(\"종료\")"
   ]
  },
  {
   "cell_type": "markdown",
   "metadata": {},
   "source": [
    "## 자원(파일)경로\n",
    "\n",
    "<img src=\"8_2.jpg\">\n",
    "\n",
    "- 절대경로: `c:\\test\\a.txt`\n",
    "    - 시작 경로(Root)부터 쭉 나열하는 것\n",
    "    \n",
    "- 상대경로: `./../test/a.txt`\n",
    "    - 현재 작업디렉토리(현재 패일이 있는 경로)부터 찾아 가는 방식.\n",
    "    - `.`: 현재경로\n",
    "    - `..`: 상위경로\n",
    "    - `\\`, `/`: 경로 구분자로 하위경로로 들어갈때 사용\n",
    "    - 항상 `./`로 시작하기 때문에 생략하기도 한다\n",
    "    "
   ]
  },
  {
   "cell_type": "code",
   "execution_count": 85,
   "metadata": {},
   "outputs": [
    {
     "name": "stdout",
     "output_type": "stream",
     "text": [
      "C:\\Users\\Playdata\\Python기초\n"
     ]
    }
   ],
   "source": [
    "#현재 작업경로\n",
    "# 보통 프로그램이 실행된 디렉토리가 작업 디렉토리가 됨: 파이썬의 디렉토리\n",
    "import os\n",
    "print(os.getcwd())"
   ]
  },
  {
   "cell_type": "markdown",
   "metadata": {},
   "source": [
    "## pickle 모듈\n",
    "- 모든 파이썬 객체(데이터)를 binary로 파일에 저장/읽기 하는 함수 제공\n",
    "- 활용도 높음\n",
    "- `dump(저장할객체,fw)` 파일에 쓰기 함수\n",
    "- `load(fr)`: 파일로부터 읽는 함수\n",
    "- 확장자 `.pkl`을 관례적으로 줌\n",
    "- `open(파일이름,\"wb\"/\"rb\")`로 쓰거나 읽을 수 있음 "
   ]
  },
  {
   "cell_type": "code",
   "execution_count": 7,
   "metadata": {},
   "outputs": [],
   "source": [
    "names = [\"영수\",\"영희\",\"민수\"]\n",
    "ages = [12,32,34]\n",
    "addresses = [\"서울\", \"대전\", \"대구\"]"
   ]
  },
  {
   "cell_type": "code",
   "execution_count": 2,
   "metadata": {},
   "outputs": [],
   "source": [
    "import pickle"
   ]
  },
  {
   "cell_type": "code",
   "execution_count": 3,
   "metadata": {},
   "outputs": [],
   "source": [
    "# 리스트를 기계어 형식(binary) 으로파일에 저장 \n",
    "with open(\"names.pkl\",\"wb\") as fw:\n",
    "    pickle.dump(names,fw)"
   ]
  },
  {
   "cell_type": "code",
   "execution_count": null,
   "metadata": {},
   "outputs": [],
   "source": [
    "#with open('names2.txt', 'wt') as fw2:\n",
    "#    fw2.write(str(names))"
   ]
  },
  {
   "cell_type": "code",
   "execution_count": 4,
   "metadata": {},
   "outputs": [],
   "source": [
    "# 리스트 그대로 읽기\n",
    "with open(\"names.pkl\", \"rb\") as fr:\n",
    "    name2 = pickle.load(fr)"
   ]
  },
  {
   "cell_type": "code",
   "execution_count": 6,
   "metadata": {},
   "outputs": [
    {
     "data": {
      "text/plain": [
       "'영수'"
      ]
     },
     "execution_count": 6,
     "metadata": {},
     "output_type": "execute_result"
    }
   ],
   "source": [
    "name2[0]"
   ]
  },
  {
   "cell_type": "code",
   "execution_count": 25,
   "metadata": {},
   "outputs": [],
   "source": [
    "with open(\"member.pkl\",\"wb\") as fw:\n",
    "    pickle.dump(names, fw)\n",
    "    pickle.dump(ages, fw)\n",
    "    pickle.dump(addresses, fw)"
   ]
  },
  {
   "cell_type": "markdown",
   "metadata": {},
   "source": [
    "dump 한 순서대로 읽음 "
   ]
  },
  {
   "cell_type": "code",
   "execution_count": 26,
   "metadata": {},
   "outputs": [
    {
     "name": "stdout",
     "output_type": "stream",
     "text": [
      "['영수', '영희', '민수']\n",
      "[12, 32, 34]\n",
      "['서울', '대전', '대구']\n"
     ]
    }
   ],
   "source": [
    "with open(\"member.pkl\",\"rb\") as fr:\n",
    "    n = pickle.load(fr)\n",
    "    a = pickle.load(fr)\n",
    "    addr = pickle.load(fr)\n",
    "print(n)\n",
    "print(a)\n",
    "print(addr)"
   ]
  },
  {
   "cell_type": "markdown",
   "metadata": {},
   "source": [
    "EOFError: end of file error - 더이상 읽을 것이 없음"
   ]
  },
  {
   "cell_type": "code",
   "execution_count": 27,
   "metadata": {},
   "outputs": [
    {
     "ename": "EOFError",
     "evalue": "Ran out of input",
     "output_type": "error",
     "traceback": [
      "\u001b[1;31m---------------------------------------------------------------------------\u001b[0m",
      "\u001b[1;31mEOFError\u001b[0m                                  Traceback (most recent call last)",
      "\u001b[1;32m<ipython-input-27-a70980aaef93>\u001b[0m in \u001b[0;36m<module>\u001b[1;34m\u001b[0m\n\u001b[0;32m      3\u001b[0m     \u001b[0ma\u001b[0m \u001b[1;33m=\u001b[0m \u001b[0mpickle\u001b[0m\u001b[1;33m.\u001b[0m\u001b[0mload\u001b[0m\u001b[1;33m(\u001b[0m\u001b[0mfr\u001b[0m\u001b[1;33m)\u001b[0m\u001b[1;33m\u001b[0m\u001b[1;33m\u001b[0m\u001b[0m\n\u001b[0;32m      4\u001b[0m     \u001b[0maddr\u001b[0m \u001b[1;33m=\u001b[0m \u001b[0mpickle\u001b[0m\u001b[1;33m.\u001b[0m\u001b[0mload\u001b[0m\u001b[1;33m(\u001b[0m\u001b[0mfr\u001b[0m\u001b[1;33m)\u001b[0m\u001b[1;33m\u001b[0m\u001b[1;33m\u001b[0m\u001b[0m\n\u001b[1;32m----> 5\u001b[1;33m     \u001b[0mt\u001b[0m \u001b[1;33m=\u001b[0m \u001b[0mpickle\u001b[0m\u001b[1;33m.\u001b[0m\u001b[0mload\u001b[0m\u001b[1;33m(\u001b[0m\u001b[0mfr\u001b[0m\u001b[1;33m)\u001b[0m\u001b[1;33m\u001b[0m\u001b[1;33m\u001b[0m\u001b[0m\n\u001b[0m\u001b[0;32m      6\u001b[0m \u001b[0mprint\u001b[0m\u001b[1;33m(\u001b[0m\u001b[0mn\u001b[0m\u001b[1;33m)\u001b[0m\u001b[1;33m\u001b[0m\u001b[1;33m\u001b[0m\u001b[0m\n\u001b[0;32m      7\u001b[0m \u001b[0mprint\u001b[0m\u001b[1;33m(\u001b[0m\u001b[0ma\u001b[0m\u001b[1;33m)\u001b[0m\u001b[1;33m\u001b[0m\u001b[1;33m\u001b[0m\u001b[0m\n",
      "\u001b[1;31mEOFError\u001b[0m: Ran out of input"
     ]
    }
   ],
   "source": [
    "with open(\"member.pkl\",\"rb\") as fr:\n",
    "    n = pickle.load(fr)\n",
    "    a = pickle.load(fr)\n",
    "    addr = pickle.load(fr)\n",
    "    t = pickle.load(fr)\n",
    "print(n)\n",
    "print(a)\n",
    "print(addr)"
   ]
  },
  {
   "cell_type": "code",
   "execution_count": 28,
   "metadata": {},
   "outputs": [
    {
     "name": "stdout",
     "output_type": "stream",
     "text": [
      "['영수', '영희', '민수']\n",
      "[12, 32, 34]\n",
      "['서울', '대전', '대구']\n",
      "종료\n"
     ]
    }
   ],
   "source": [
    "with open(\"member.pkl\",\"rb\") as fr:\n",
    "    while True:\n",
    "        try:\n",
    "            print(pickle.load(fr))\n",
    "        except:\n",
    "            break\n",
    "print (\"종료\")"
   ]
  },
  {
   "cell_type": "code",
   "execution_count": 45,
   "metadata": {},
   "outputs": [],
   "source": [
    "class Person:\n",
    "    def __init__(self, name, age):\n",
    "        self.name = name\n",
    "        self.age = age\n",
    "    def __str__(self):\n",
    "        return '이름:{}, 나이:{}'.format(self.name, self.age)"
   ]
  },
  {
   "cell_type": "code",
   "execution_count": 55,
   "metadata": {},
   "outputs": [
    {
     "data": {
      "text/plain": [
       "__main__.Person"
      ]
     },
     "execution_count": 55,
     "metadata": {},
     "output_type": "execute_result"
    }
   ],
   "source": [
    "Person"
   ]
  },
  {
   "cell_type": "code",
   "execution_count": 62,
   "metadata": {},
   "outputs": [
    {
     "data": {
      "text/plain": [
       "<__main__.Person at 0x1ddaf280be0>"
      ]
     },
     "execution_count": 62,
     "metadata": {},
     "output_type": "execute_result"
    }
   ],
   "source": [
    "p1 = (Person(\"영수\",20))\n",
    "p2 = (Person(\"영희\",30))\n",
    "p1"
   ]
  },
  {
   "cell_type": "code",
   "execution_count": 63,
   "metadata": {},
   "outputs": [],
   "source": [
    "with open(\"member1.pkl\",\"wb\") as fw:\n",
    "    pickle.dump(p1, fw)\n",
    "    pickle.dump(p2, fw)"
   ]
  },
  {
   "cell_type": "code",
   "execution_count": 64,
   "metadata": {},
   "outputs": [],
   "source": [
    "with open(\"member1.pkl\",\"rb\") as fr:\n",
    "    m1 = pickle.load(fr)\n",
    "    m2 = pickle.load(fr)"
   ]
  },
  {
   "cell_type": "code",
   "execution_count": 66,
   "metadata": {},
   "outputs": [
    {
     "data": {
      "text/plain": [
       "'영수'"
      ]
     },
     "execution_count": 66,
     "metadata": {},
     "output_type": "execute_result"
    }
   ],
   "source": [
    "m1.name\n"
   ]
  },
  {
   "cell_type": "code",
   "execution_count": 58,
   "metadata": {},
   "outputs": [],
   "source": [
    "#답)\n",
    "p1 = Person(\"홍길동\",20)\n",
    "\n",
    "import pickle\n",
    "with open(\"p.pkl\",\"wb\") as fw:\n",
    "    pickle.dump(p1,fw)"
   ]
  },
  {
   "cell_type": "code",
   "execution_count": 59,
   "metadata": {},
   "outputs": [],
   "source": [
    "import pickle\n",
    "with open(\"p.pkl\",\"rb\") as fr:\n",
    "    p1_copy = pickle.load(fr)"
   ]
  },
  {
   "cell_type": "code",
   "execution_count": 61,
   "metadata": {},
   "outputs": [
    {
     "data": {
      "text/plain": [
       "'홍길동'"
      ]
     },
     "execution_count": 61,
     "metadata": {},
     "output_type": "execute_result"
    }
   ],
   "source": [
    "p1_copy.name"
   ]
  },
  {
   "cell_type": "markdown",
   "metadata": {},
   "source": [
    "여러사람들 한꺼번에 리스트로"
   ]
  },
  {
   "cell_type": "code",
   "execution_count": 67,
   "metadata": {},
   "outputs": [],
   "source": [
    "p1 = Person(\"홍길동1\",20)\n",
    "p2 = Person(\"홍길동2\",20)\n",
    "p3 = Person(\"홍길동3\",20)\n",
    "p4 = Person(\"홍길동4\",20)\n",
    "p_list = [p1,p2,p3,p4]"
   ]
  },
  {
   "cell_type": "code",
   "execution_count": 69,
   "metadata": {},
   "outputs": [],
   "source": [
    "import pickle\n",
    "with open(\"p_list.pkl\",\"wb\") as fw:\n",
    "    pickle.dump(p_list,fw)"
   ]
  },
  {
   "cell_type": "code",
   "execution_count": 71,
   "metadata": {},
   "outputs": [],
   "source": [
    "import pickle\n",
    "with open(\"p_list.pkl\",\"rb\") as fr:\n",
    "    p_list_copy = pickle.load(fr)"
   ]
  },
  {
   "cell_type": "code",
   "execution_count": 76,
   "metadata": {},
   "outputs": [
    {
     "data": {
      "text/plain": [
       "'이름:홍길동1, 나이:20'"
      ]
     },
     "execution_count": 76,
     "metadata": {},
     "output_type": "execute_result"
    }
   ],
   "source": [
    "str(p_list_copy[0])"
   ]
  },
  {
   "cell_type": "code",
   "execution_count": 77,
   "metadata": {},
   "outputs": [
    {
     "data": {
      "text/plain": [
       "'홍길동1'"
      ]
     },
     "execution_count": 77,
     "metadata": {},
     "output_type": "execute_result"
    }
   ],
   "source": [
    "str(p_list_copy[0].name)"
   ]
  },
  {
   "cell_type": "code",
   "execution_count": null,
   "metadata": {},
   "outputs": [],
   "source": []
  }
 ],
 "metadata": {
  "kernelspec": {
   "display_name": "Python 3",
   "language": "python",
   "name": "python3"
  },
  "language_info": {
   "codemirror_mode": {
    "name": "ipython",
    "version": 3
   },
   "file_extension": ".py",
   "mimetype": "text/x-python",
   "name": "python",
   "nbconvert_exporter": "python",
   "pygments_lexer": "ipython3",
   "version": "3.7.3"
  }
 },
 "nbformat": 4,
 "nbformat_minor": 2
}
