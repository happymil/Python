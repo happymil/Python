{
 "cells": [
  {
   "cell_type": "markdown",
   "metadata": {},
   "source": [
    "# 예외와 예외처리\n",
    "- 프로그램적으로 처리할 수 있는 에러\n",
    "- 에러 발생했을 때 프로그램이 꺼지지 않고 계속 실행하도록 하는 것\n",
    "- 예외(exception): 프로그램이 더이상 진행하지 못하는 상황. 프로그램 만들 때 제어할 수 없는 상황. 일반적으로 발생하지 않는 상황.\n",
    "- 예외처리: 예외가 난 상황을 처리하고 다음으로 넘어가게 만드는것\n",
    "\n",
    "<img src=\"7_1.jpg\">\n",
    "\n",
    "\n",
    "## 예외\n",
    "종류\n",
    "- system exception: \n",
    "    - 대부분 코드수정을 해야하는 상황.\n",
    "    - 구문규칙을 어겨서 발생하는 경우\n",
    "    - 어느 프로그램이든 에러가 발생하는 경우. e.g.) 10/0\n",
    "    - eg\n",
    "        - SyntaxError: str(10\n",
    "        - NameError: 함수 정의하지 않은 경우\n",
    "        - TypeError:  잘못된 타입이 들어감\n",
    "        - ValueError: 값 자체가 잘못 됨\n",
    "        - IndexError: 없는 인덱스 조회\n",
    "        - KeyError: 없는 키값 조회\n",
    "- application exception: \n",
    "    - 업무 규칙 상 발생하는 상황\n",
    "    - 코드수정 보다는 예외처리를 해야 하는 상황\n",
    "    \n",
    "- 예외:처리 문서로 만들어 두면 도움이 됨\n",
    "\n",
    "\n",
    "## 예외처리\n",
    "\n",
    "```python\n",
    "try: \n",
    "    예외발생 코드\n",
    "    예외 발생 안하면 실행 (else 대신 여기에 입력 가능)\n",
    "except:\n",
    "    예외 처리 코드\n",
    "else:\n",
    "    예외 발생 안하면 실행  \n",
    "finally:\n",
    "    무조건 실행되는 코드 (위에 리턴이 있어도 실행)\n",
    "    close(연결 끊는 작용)를 주로 사용\n",
    "```\n"
   ]
  },
  {
   "cell_type": "markdown",
   "metadata": {},
   "source": [
    "예외는 실행 시점에 발생. 함수정의때는 실행이 되지 않음"
   ]
  },
  {
   "cell_type": "code",
   "execution_count": 2,
   "metadata": {},
   "outputs": [],
   "source": [
    "def my_func():      #함수정의\n",
    "    print(10/0)"
   ]
  },
  {
   "cell_type": "code",
   "execution_count": 3,
   "metadata": {},
   "outputs": [
    {
     "ename": "ZeroDivisionError",
     "evalue": "division by zero",
     "output_type": "error",
     "traceback": [
      "\u001b[1;31m---------------------------------------------------------------------------\u001b[0m",
      "\u001b[1;31mZeroDivisionError\u001b[0m                         Traceback (most recent call last)",
      "\u001b[1;32m<ipython-input-3-db3ada79940f>\u001b[0m in \u001b[0;36m<module>\u001b[1;34m\u001b[0m\n\u001b[1;32m----> 1\u001b[1;33m \u001b[0mmy_func\u001b[0m\u001b[1;33m(\u001b[0m\u001b[1;33m)\u001b[0m\u001b[1;33m\u001b[0m\u001b[1;33m\u001b[0m\u001b[0m\n\u001b[0m",
      "\u001b[1;32m<ipython-input-2-cc28d90ccc56>\u001b[0m in \u001b[0;36mmy_func\u001b[1;34m()\u001b[0m\n\u001b[0;32m      1\u001b[0m \u001b[1;32mdef\u001b[0m \u001b[0mmy_func\u001b[0m\u001b[1;33m(\u001b[0m\u001b[1;33m)\u001b[0m\u001b[1;33m:\u001b[0m      \u001b[1;31m#함수정의\u001b[0m\u001b[1;33m\u001b[0m\u001b[1;33m\u001b[0m\u001b[0m\n\u001b[1;32m----> 2\u001b[1;33m     \u001b[0mprint\u001b[0m\u001b[1;33m(\u001b[0m\u001b[1;36m10\u001b[0m\u001b[1;33m/\u001b[0m\u001b[1;36m0\u001b[0m\u001b[1;33m)\u001b[0m\u001b[1;33m\u001b[0m\u001b[1;33m\u001b[0m\u001b[0m\n\u001b[0m",
      "\u001b[1;31mZeroDivisionError\u001b[0m: division by zero"
     ]
    }
   ],
   "source": [
    "my_func()"
   ]
  },
  {
   "cell_type": "code",
   "execution_count": 49,
   "metadata": {},
   "outputs": [
    {
     "name": "stdout",
     "output_type": "stream",
     "text": [
      "20\n",
      "10\n",
      "10\n",
      "종료\n"
     ]
    }
   ],
   "source": [
    "print(20)\n",
    "try: \n",
    "    #예외발생 가능성 있는 코드\n",
    "    print(a)\n",
    "except:                                    # try에 문제 발생 시 처리\n",
    "    # 예외처리 코드\n",
    "    print(\"발생한 예외를 처리했습니다\")\n",
    "    \n",
    "print(10)\n",
    "print(\"종료\")\n"
   ]
  },
  {
   "cell_type": "code",
   "execution_count": 7,
   "metadata": {},
   "outputs": [
    {
     "name": "stdout",
     "output_type": "stream",
     "text": [
      "20\n",
      "발생한 예외를 처리했습니다\n",
      "name 'a' is not defined\n",
      "10\n",
      "종료\n"
     ]
    }
   ],
   "source": [
    "print(20)\n",
    "try: \n",
    "    #예외발생 가능성 있는 코드\n",
    "    print(a)\n",
    "except NameError as ne:                   # try에 Name Error 발생 시에만 처리. NameError라는 객체 \n",
    "    # 예외처리 코드\n",
    "    print(\"발생한 예외를 처리했습니다\")\n",
    "    print(ne)\n",
    "    \n",
    "print(10)\n",
    "print(\"종료\")\n"
   ]
  },
  {
   "cell_type": "markdown",
   "metadata": {},
   "source": [
    "여러 구문에서 에러가 발생할 가능성이 있는 경우\n",
    "- 서로 연결된 구문은 예외발생 여부와 관계없이 try안에 묶어주어야 함\n",
    "- 연결이 안된 구문들은 따로 try"
   ]
  },
  {
   "cell_type": "markdown",
   "metadata": {},
   "source": [
    "모든 예외를 공통처리\n",
    "- 로그, 재실행 시 사용"
   ]
  },
  {
   "cell_type": "code",
   "execution_count": 10,
   "metadata": {},
   "outputs": [
    {
     "name": "stdout",
     "output_type": "stream",
     "text": [
      "예외 공통처리 -> 로그(기록). 재실행\n"
     ]
    }
   ],
   "source": [
    "try:\n",
    "    a = int (\"aaa\")\n",
    "    print(a+b)\n",
    "    \n",
    "except: \n",
    "    print(\"예외 공통처리 -> 로그(기록). 재실행\")\n"
   ]
  },
  {
   "cell_type": "markdown",
   "metadata": {},
   "source": [
    "다른 종류의 에러를 처리할 경우:"
   ]
  },
  {
   "cell_type": "markdown",
   "metadata": {},
   "source": [
    "a 에서 ValueError 예외처리되고 정상화되어 빠져나감."
   ]
  },
  {
   "cell_type": "code",
   "execution_count": 16,
   "metadata": {},
   "outputs": [
    {
     "name": "stdout",
     "output_type": "stream",
     "text": [
      "ValueError 처리\n",
      "invalid literal for int() with base 10: 'aaa'\n",
      "종료\n"
     ]
    }
   ],
   "source": [
    "try:\n",
    "    a = int (\"aaa\")                               # Value Error\n",
    "    print(a+b)                                    # Name Error\n",
    "except ValueError as e:\n",
    "    print(\"ValueError 처리\")\n",
    "    print(e)\n",
    "except NameError:\n",
    "    print(\"NameError 처리\")\n",
    "except:        \n",
    "    print(\"예외 공통처리 -> 로그(기록). 재실행\")\n",
    "print(\"종료\")"
   ]
  },
  {
   "cell_type": "markdown",
   "metadata": {},
   "source": [
    "print(a+b)에서 NameError 예외처리 되고 빠져나감"
   ]
  },
  {
   "cell_type": "code",
   "execution_count": 17,
   "metadata": {},
   "outputs": [
    {
     "name": "stdout",
     "output_type": "stream",
     "text": [
      "NameError 처리\n",
      "종료\n"
     ]
    }
   ],
   "source": [
    "try:\n",
    "    a = int (\"10\")                               # Value Error\n",
    "    print(a+b)                                    # Name Error\n",
    "except ValueError:                               #elif역학\n",
    "    print(\"ValueError 처리\")\n",
    "except NameError:\n",
    "    print(\"NameError 처리\")\n",
    "except:                                          #else 역할. 생략가능\n",
    "    print(\"예외 공통처리 -> 로그(기록). 재실행\")\n",
    "print(\"종료\")"
   ]
  },
  {
   "cell_type": "code",
   "execution_count": 29,
   "metadata": {},
   "outputs": [
    {
     "name": "stdout",
     "output_type": "stream",
     "text": [
      "20\n"
     ]
    },
    {
     "data": {
      "text/plain": [
       "{'사과': 10, '귤': 20}"
      ]
     },
     "execution_count": 29,
     "metadata": {},
     "output_type": "execute_result"
    }
   ],
   "source": [
    "dic = dict(사과 = 10, 귤 = 20)\n",
    "dic[\"귤\"]\n",
    "\n",
    "try:\n",
    "    print(dic[\"수박\"])\n",
    "except:\n",
    "    print(dic[\"귤\"])"
   ]
  },
  {
   "cell_type": "code",
   "execution_count": 38,
   "metadata": {},
   "outputs": [
    {
     "name": "stdout",
     "output_type": "stream",
     "text": [
      "없는 과일\n"
     ]
    }
   ],
   "source": [
    "dic = dict(사과 = 10, 귤 = 20)\n",
    "dic[\"귤\"]\n",
    "\n",
    "try:\n",
    "    print(dic[\"수박\"])\n",
    "except:\n",
    "    try:\n",
    "        print(dic[\"토마토\"])\n",
    "    except:\n",
    "        print(\"없는 과일\")"
   ]
  },
  {
   "cell_type": "markdown",
   "metadata": {},
   "source": [
    "dic.get(키값,없을시 리턴값)"
   ]
  },
  {
   "cell_type": "code",
   "execution_count": 48,
   "metadata": {},
   "outputs": [
    {
     "name": "stdout",
     "output_type": "stream",
     "text": [
      "20\n"
     ]
    }
   ],
   "source": [
    "if not dic.get(\"수박\"):\n",
    "    print(dic.get(\"귤\"))"
   ]
  },
  {
   "cell_type": "code",
   "execution_count": 46,
   "metadata": {
    "scrolled": true
   },
   "outputs": [
    {
     "name": "stdout",
     "output_type": "stream",
     "text": [
      "20\n"
     ]
    }
   ],
   "source": [
    "if not dic.get(\"수박\",0):  # 값이 없으면\n",
    "    print(dic.get(\"귤\"))"
   ]
  },
  {
   "cell_type": "code",
   "execution_count": 52,
   "metadata": {},
   "outputs": [],
   "source": [
    "def test1(num):\n",
    "    print(10/num)\n",
    "    \n",
    "def test2():\n",
    "    try:\n",
    "        test1(0)\n",
    "    except:\n",
    "        test1(1)    \n",
    "    \n",
    "def test3():\n",
    "    test2()"
   ]
  },
  {
   "cell_type": "code",
   "execution_count": 53,
   "metadata": {},
   "outputs": [
    {
     "name": "stdout",
     "output_type": "stream",
     "text": [
      "10.0\n"
     ]
    }
   ],
   "source": [
    "test3()"
   ]
  },
  {
   "cell_type": "markdown",
   "metadata": {},
   "source": [
    "콜스택: 호출된 곳을 따라감\n",
    "\n",
    "프로그램은 시작한 곳에서 끝남\n",
    "\n",
    "호출한 곳에서 예외처리: 예외 발생된 곳에서 처리하지 않고 발생 이유를 알려주고 exception이 넘어가게 해서 호출한 곳에서 예외처리"
   ]
  },
  {
   "cell_type": "code",
   "execution_count": 88,
   "metadata": {},
   "outputs": [],
   "source": [
    "# 주문처리\n",
    "def order(order_amount):    # 주문량\n",
    "    stock_amount = 10        # 재고량\n",
    "    # 주문량, 재고량 비교 -> 재고가 충분할때만 주문처리\n",
    "    if stock_amount < order_amount:\n",
    "        pass # 주문처리가 되면 안됨 \n",
    "    else:\n",
    "        stock_amount -= order_amount\n",
    "        print(\"주문처리 완료: 남은 재고량 - {}\".format(stock_amount))\n",
    "    return print(\"주문완료 메일전송\")"
   ]
  },
  {
   "cell_type": "code",
   "execution_count": 89,
   "metadata": {},
   "outputs": [
    {
     "name": "stdout",
     "output_type": "stream",
     "text": [
      "주문처리 완료: 남은 재고량 - 5\n",
      "주문완료 메일전송\n"
     ]
    }
   ],
   "source": [
    "order(5)"
   ]
  },
  {
   "cell_type": "code",
   "execution_count": 90,
   "metadata": {},
   "outputs": [
    {
     "name": "stdout",
     "output_type": "stream",
     "text": [
      "주문완료 메일전송\n"
     ]
    }
   ],
   "source": [
    "order(23) # 오류발생 상황에서도 정상적으로 리턴이 됨"
   ]
  },
  {
   "cell_type": "markdown",
   "metadata": {},
   "source": [
    "### 사용자정의 예외\n",
    "- 예외발생 시키기\n",
    "- `raise 객체`\n",
    "- 비정상적으로 끝났을 경우 예외발생 이유를 가지고 돌아감."
   ]
  },
  {
   "cell_type": "code",
   "execution_count": 91,
   "metadata": {},
   "outputs": [],
   "source": [
    "# 주문처리\n",
    "def order(order_amount):    # 주문량\n",
    "    stock_amount = 10        # 재고량\n",
    "    # 주문량, 재고량 비교 -> 재고가 충분할때만 주문처리\n",
    "    if stock_amount < order_amount:\n",
    "        raise Exception(\"재고가 부족\")\n",
    "    else:\n",
    "        stock_amount -= order_amount\n",
    "        print(\"주문처리 완료: 남은 재고량 - {}\".format(stock_amount))\n",
    "    print(\"주문완료 메일전송\")"
   ]
  },
  {
   "cell_type": "code",
   "execution_count": 94,
   "metadata": {},
   "outputs": [
    {
     "name": "stdout",
     "output_type": "stream",
     "text": [
      "주문처리 완료: 남은 재고량 - 5\n",
      "주문완료 메일전송\n",
      "주문량 다시입력\n"
     ]
    }
   ],
   "source": [
    "order(5)\n",
    "try: \n",
    "    order(23)\n",
    "    print(\"주문완료\")\n",
    "except:\n",
    "    print(\"주문량 다시입력\")"
   ]
  },
  {
   "cell_type": "markdown",
   "metadata": {},
   "source": [
    "### 사용자정의 Exception 클래스 구현\n",
    "- 클래스 이름: XXXXError, XXXX- 예외상황을 표현할 수 있는 단어나 문장\n",
    "- Exception 을 상속해서 구현\n",
    "- application exception\n",
    "<img src=\"7_2.jpg\">"
   ]
  },
  {
   "cell_type": "code",
   "execution_count": 104,
   "metadata": {},
   "outputs": [],
   "source": [
    "class NotEnoughStockError(Exception):\n",
    "    \n",
    "    def __init__(self, message=None, stock_amount=None):\n",
    "        self.stock_amount = stock_amount\n",
    "        self.message = message #super().__init__(message)\n",
    "    \n",
    "    def get_stock_amount(self):\n",
    "        return self.stock_amount\n",
    "    \n",
    "    def __str__(self):                  #str(객체)시 값을 str로 나타냄\n",
    "        return str(self.message)"
   ]
  },
  {
   "cell_type": "code",
   "execution_count": 105,
   "metadata": {},
   "outputs": [],
   "source": [
    "# 주문처리\n",
    "def order(order_amount):    # 주문량\n",
    "    stock_amount = 10        # 재고량\n",
    "    # 주문량, 재고량 비교 -> 재고가 충분할때만 주문처리\n",
    "    if stock_amount < order_amount:\n",
    "        raise NotEnoughStockError(\"재고부족\", stock_amount)\n",
    "    else:\n",
    "        stock_amount -= order_amount\n",
    "        print(\"주문처리 완료: 남은 재고량 - {}\".format(stock_amount))\n",
    "    print(\"주문완료 메일전송\")"
   ]
  },
  {
   "cell_type": "code",
   "execution_count": 112,
   "metadata": {},
   "outputs": [
    {
     "name": "stdout",
     "output_type": "stream",
     "text": [
      "5\n",
      "주문처리 완료: 남은 재고량 - 5\n",
      "주문완료 메일전송\n",
      "주문완료\n"
     ]
    }
   ],
   "source": [
    "a = int(input())\n",
    "try: \n",
    "    order(a)\n",
    "    print(\"주문완료\")\n",
    "except NotEnoughStockError as e:\n",
    "    print(\"주문량 다시입력\")\n",
    "    print(\"재고량:%d\" %e.get_stock_amount())  # 재고량 조회\n",
    "    print(e)   #str(e)\n",
    "    order(e.get_stock_amount())               # 재고량 만큼 재주문"
   ]
  },
  {
   "cell_type": "code",
   "execution_count": 114,
   "metadata": {},
   "outputs": [
    {
     "name": "stdout",
     "output_type": "stream",
     "text": [
      "40\n",
      "주문량 다시입력\n",
      "재고량:10\n",
      "재고부족\n",
      "주문처리 완료: 남은 재고량 - 0\n",
      "주문완료 메일전송\n",
      "**********\n"
     ]
    }
   ],
   "source": [
    "a = int(input())\n",
    "try: \n",
    "    order(a)\n",
    "    print(\"주문완료\")\n",
    "except NotEnoughStockError as e:\n",
    "    print(\"주문량 다시입력\")\n",
    "    print(\"재고량:%d\" %e.get_stock_amount())  # 재고량 조회\n",
    "    print(e)   #str(e)\n",
    "    order(e.get_stock_amount())       # 재고량 만큼 재주문"
   ]
  },
  {
   "cell_type": "code",
   "execution_count": null,
   "metadata": {},
   "outputs": [],
   "source": []
  }
 ],
 "metadata": {
  "kernelspec": {
   "display_name": "Python 3",
   "language": "python",
   "name": "python3"
  },
  "language_info": {
   "codemirror_mode": {
    "name": "ipython",
    "version": 3
   },
   "file_extension": ".py",
   "mimetype": "text/x-python",
   "name": "python",
   "nbconvert_exporter": "python",
   "pygments_lexer": "ipython3",
   "version": "3.7.3"
  }
 },
 "nbformat": 4,
 "nbformat_minor": 2
}
