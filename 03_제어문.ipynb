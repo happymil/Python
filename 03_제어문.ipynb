{
 "cells": [
  {
   "cell_type": "markdown",
   "metadata": {},
   "source": [
    "# 제어문\n",
    "\n",
    "순차적 진행(1->2->3->4->5)이 아닌 다른 흐름으로 프로그램이 실행되는 방식을 제어."
   ]
  },
  {
   "cell_type": "markdown",
   "metadata": {},
   "source": [
    "\n",
    "\n",
    "1) 조건문\n",
    "\n",
    "\n",
    "- `if else`\n",
    "- 조건 (True, False) 에 따라 흐름을 제어\n",
    "\n",
    "2) 반복문\n",
    "- `while`\n",
    "- `for in`\n",
    "- 구간을 True 인 동안 반복. False면 끝냄\n",
    "\n",
    "3) 컴프리헨션 (comprehension)\n",
    "- 반복문을 이용"
   ]
  },
  {
   "cell_type": "markdown",
   "metadata": {},
   "source": [
    "***\n",
    "REV)"
   ]
  },
  {
   "cell_type": "code",
   "execution_count": 2,
   "metadata": {},
   "outputs": [
    {
     "data": {
      "text/plain": [
       "(True, False)"
      ]
     },
     "execution_count": 2,
     "metadata": {},
     "output_type": "execute_result"
    }
   ],
   "source": [
    "bool([1,2]), bool({})"
   ]
  },
  {
   "cell_type": "markdown",
   "metadata": {},
   "source": [
    "***"
   ]
  },
  {
   "cell_type": "markdown",
   "metadata": {},
   "source": [
    "## 1) 조건문 (분기문)\n",
    "- 특정 순서에서 흐름이 나눠져야 하는 경우\n",
    "\n",
    "<img src=\"3_1.jpg\">"
   ]
  },
  {
   "cell_type": "markdown",
   "metadata": {},
   "source": [
    "### `if`문"
   ]
  },
  {
   "cell_type": "markdown",
   "metadata": {},
   "source": [
    "`if 조건:` 조건문 선언 <font color=\"blue\"> :(콜론) 빠뜨리면 안됨  </font><br>\n",
    "(들여쓰기)`명령문1` <font color=\"blue\">일정하게. 관례적으로 4칸(tab) 들여쓰기를 한다. 들여쓰기 자체가 문법. 괄호로 묶지 않음. </font><br>\n",
    "(들여쓰기)`명령문2` <font color=\"blue\">tab 보다 4칸 들여쓰기가 더 자주 사용됨. </font><br>\n",
    "(들여쓰기)`명령문3` <font color=\"blue\">tab, 4칸 들여쓰기 혼용해서 쓰면 에러남. 에디터에서 설정 가능 </font><br>\n",
    "\n",
    "-> 조건이 참이면 명령문1,2,3 해라"
   ]
  },
  {
   "cell_type": "code",
   "execution_count": 4,
   "metadata": {},
   "outputs": [
    {
     "name": "stdout",
     "output_type": "stream",
     "text": [
      "0\n",
      "영\n",
      "종료\n"
     ]
    }
   ],
   "source": [
    "num = 0\n",
    "if num == 0: #if문 선언부\n",
    "    print(\"0\")\n",
    "    print(\"영\")\n",
    "\n",
    "print(\"종료\") #if문 밖에 있음. 순차적으로 실행."
   ]
  },
  {
   "cell_type": "markdown",
   "metadata": {},
   "source": [
    "### `if else` 문\n",
    "- 조건이 True 일 경우와 False 일 경우<br>\n",
    "\n",
    "\n",
    "`if 조건:`<br>\n",
    "(들여쓰기)`명령문1`<font color=\"blue\">참 명령문</font><br> \n",
    "(들여쓰기)`명령문2`<br>\n",
    "(들여쓰기)`명령문3`<br>\n",
    "`else:`\n",
    "(들여쓰기)`명령문a`<font color=\"blue\">들여쓰기: 위의 참인 명령문과 같아야만 함.</font><br>\n",
    "(들여쓰기)`명령문b`<br>\n",
    "\n",
    "\n",
    "\n",
    "-> 조건이 True면 명령문1,2,3 실행.<br>\n",
    "-> 조견이 True가 아닌 경우 명령문a,b 실행."
   ]
  },
  {
   "cell_type": "code",
   "execution_count": 21,
   "metadata": {},
   "outputs": [
    {
     "name": "stdout",
     "output_type": "stream",
     "text": [
      "0\n",
      "영\n",
      "종료\n"
     ]
    }
   ],
   "source": [
    "num = 0\n",
    "if num == 0: #if문 선언부\n",
    "    print(\"0\")\n",
    "    print(\"영\")\n",
    "else:\n",
    "    print(\"0이 아님\")\n",
    "    print(\"숫자:\",num)\n",
    "print(\"종료\") #if문 밖에 있음. 순차적으로 실행."
   ]
  },
  {
   "cell_type": "markdown",
   "metadata": {},
   "source": [
    "**NB** indentation error 주의!"
   ]
  },
  {
   "cell_type": "code",
   "execution_count": 23,
   "metadata": {},
   "outputs": [
    {
     "ename": "IndentationError",
     "evalue": "unexpected indent (<ipython-input-23-a9e438d9e376>, line 4)",
     "output_type": "error",
     "traceback": [
      "\u001b[1;36m  File \u001b[1;32m\"<ipython-input-23-a9e438d9e376>\"\u001b[1;36m, line \u001b[1;32m4\u001b[0m\n\u001b[1;33m    print(\"영\")\u001b[0m\n\u001b[1;37m    ^\u001b[0m\n\u001b[1;31mIndentationError\u001b[0m\u001b[1;31m:\u001b[0m unexpected indent\n"
     ]
    }
   ],
   "source": [
    "num = 0\n",
    "if num == 0: #if문 선언부\n",
    "    print(\"0\")\n",
    "     print(\"영\")\n",
    "else:\n",
    "    print(\"0이 아님\")\n",
    "    print(\"숫자:\",num)\n",
    "print(\"종료\") #if문 밖에 있음. 순차적으로 실행."
   ]
  },
  {
   "cell_type": "markdown",
   "metadata": {},
   "source": [
    "`if elif`문\n",
    "\n",
    "- 조건이 여러개일 경우\n",
    "\n",
    "`if 조건1:`<br>\n",
    "(들여쓰기)`명령문1a`<br>\n",
    "(들여쓰기)`명령문1b`<br>\n",
    "(들여쓰기)`명령문1c`<br>\n",
    "\n",
    "`elif 조건2:`<br>\n",
    "(들여쓰기)`명령문2a`<br>\n",
    "(들여쓰기)`명령문2b`<br>\n",
    "\n",
    "`elif 조건3:`<br>\n",
    "(들여쓰기)`명령문3a`<br>\n",
    "(들여쓰기)`명령문3b`<br>\n",
    "(들여쓰기)`명령문3c`<br>\n",
    "\n",
    "`else:`<br>\n",
    "(들여쓰기)`명령문4a`<br>\n",
    "(들여쓰기)`명령문4b`<br>\n",
    "\n",
    "-> 조건1이 참인 경우 명령문 1<br>\n",
    "-> 조건2이 참인 경우 명령문 2<br>\n",
    "-> 조건3이 참인 경우 명령문 3<br>\n",
    "-> 조건1,2,3 모두 참이 아닌 경우 명령문 4<br>"
   ]
  },
  {
   "cell_type": "markdown",
   "metadata": {},
   "source": [
    "**NB** \n",
    "\n",
    "`if elif` 문은 <font color=\"blue\"> -> 여러 조건중 하나만 실행 </font>\n",
    "\n",
    "`if 조건1`<br>\n",
    "`if 조건2`<br>\n",
    "`if 조건3`      <font color=\"blue\"> ->조건 1,2,3, 모두 실행 </font> <br>\n",
    "과 다름."
   ]
  },
  {
   "cell_type": "code",
   "execution_count": 12,
   "metadata": {},
   "outputs": [
    {
     "name": "stdout",
     "output_type": "stream",
     "text": [
      "음수\n",
      "종료\n"
     ]
    }
   ],
   "source": [
    "num = -7\n",
    "if num == 0: #if문 선언부\n",
    "    print(\"0\")\n",
    "    print(\"영\")\n",
    "elif num > 0:\n",
    "    print(\"양수\")\n",
    "elif num < 0:   #else: 로 대체 가능\n",
    "    print(\"음수\")\n",
    "\n",
    "print(\"종료\")"
   ]
  },
  {
   "cell_type": "code",
   "execution_count": 20,
   "metadata": {},
   "outputs": [
    {
     "name": "stdout",
     "output_type": "stream",
     "text": [
      "id:ㅇㅁㄹ\n",
      "ㅇㅁㄹ를 저장했습니다\n"
     ]
    }
   ],
   "source": [
    "id = input('id:')\n",
    "# id를 입력했으면 저장, 안했으면 오류 메세지\n",
    "# if len(id) != 0 \n",
    "# if len(id)\n",
    "# if id #빈 문자열: false, 1글자 이상: True\n",
    "# --> 다 사용가능\n",
    "\n",
    "if id.strip():  #.strip: 공백을 없앰\n",
    "    print(id+\"를 저장했습니다\")\n",
    "else:\n",
    "    print(\"id를 입력하세요\")"
   ]
  },
  {
   "cell_type": "code",
   "execution_count": 28,
   "metadata": {},
   "outputs": [
    {
     "name": "stdout",
     "output_type": "stream",
     "text": [
      "도시명:인천시\n",
      "인천시는 광역시\n",
      "인천시는 광역시\n",
      "인천시는 광역시\n",
      "인천시는 광역시\n"
     ]
    }
   ],
   "source": [
    "city = input(\"도시명:\").strip()\n",
    "\n",
    "if city ==\"서울시\":\n",
    "    print(\"서울시: 특별시\")\n",
    "elif city in ['인천시', '대구시','대전시','부산시','광주시','울산시']:\n",
    "    print(city+\"는 광역시\")\n",
    "    print(f'{city}는 광역시')\n",
    "    print('{}는 광역시'.format(city))\n",
    "    print('%s는 광역시'% city)\n",
    "else:\n",
    "    print('{}는 일반시')\n"
   ]
  },
  {
   "cell_type": "markdown",
   "metadata": {},
   "source": [
    "## 2) 반복문\n",
    "\n",
    "- 프로그램을 위로 올라가서 다시 시작하는 것은 반복문 밖에 없음\n",
    "- python 에서는 `while` 과 `for in` 문의 사용 구분이 다른 랭기지 보다 명확함.\n",
    "\n",
    "### while\n",
    "- 특정조건이 True인 동안 구문을 반복.\n",
    "\n",
    "<img src=\"3_2.jpg\">\n",
    "\n",
    "`while 조건:`<br>\n",
    "(띄어쓰기)`반복문1`<br>\n",
    "(띄어쓰기)`반복문2`<br>\n"
   ]
  },
  {
   "cell_type": "code",
   "execution_count": 30,
   "metadata": {},
   "outputs": [
    {
     "name": "stdout",
     "output_type": "stream",
     "text": [
      "limit:5\n",
      "0\n",
      "1\n",
      "2\n",
      "3\n",
      "4\n"
     ]
    }
   ],
   "source": [
    "limit = int(input(\"limit:\")) #숫자로 input 받기위해 int로 변환\n",
    "count = 0\n",
    "while count < limit:\n",
    "    print(count)\n",
    "#    count = count+1\n",
    "    count += 1 #대입연산자"
   ]
  },
  {
   "cell_type": "markdown",
   "metadata": {},
   "source": [
    "많이 사용하는 while문:\n",
    "    \n",
    "`while True:`\n",
    "\n",
    "- 계속 끄지않고 돌릴때 사용"
   ]
  },
  {
   "cell_type": "code",
   "execution_count": 46,
   "metadata": {},
   "outputs": [
    {
     "name": "stdout",
     "output_type": "stream",
     "text": [
      "\n",
      "1. Add\n",
      "2. Del\n",
      "3. List\n",
      "4. Quit\n",
      "Enter number:\n",
      "\n"
     ]
    }
   ],
   "source": [
    "prompt = \"\"\"\n",
    "1. Add\n",
    "2. Del\n",
    "3. List\n",
    "4. Quit\n",
    "Enter number:\n",
    "\"\"\"\n",
    "print (prompt)"
   ]
  },
  {
   "cell_type": "code",
   "execution_count": 47,
   "metadata": {},
   "outputs": [
    {
     "name": "stdout",
     "output_type": "stream",
     "text": [
      "\n",
      "1. Add\n",
      "2. Del\n",
      "3. List\n",
      "4. Quit\n",
      "Enter number:\n",
      "\n",
      "5\n",
      "\n",
      "1. Add\n",
      "2. Del\n",
      "3. List\n",
      "4. Quit\n",
      "Enter number:\n",
      "\n",
      "1\n",
      "\n",
      "1. Add\n",
      "2. Del\n",
      "3. List\n",
      "4. Quit\n",
      "Enter number:\n",
      "\n",
      "2\n",
      "\n",
      "1. Add\n",
      "2. Del\n",
      "3. List\n",
      "4. Quit\n",
      "Enter number:\n",
      "\n",
      "3\n",
      "\n",
      "1. Add\n",
      "2. Del\n",
      "3. List\n",
      "4. Quit\n",
      "Enter number:\n",
      "\n",
      "4\n"
     ]
    }
   ],
   "source": [
    "number = 0\n",
    "while number !=4: \n",
    "    print (prompt)\n",
    "    number = int(input())"
   ]
  },
  {
   "cell_type": "code",
   "execution_count": 48,
   "metadata": {},
   "outputs": [
    {
     "name": "stdout",
     "output_type": "stream",
     "text": [
      "돈을 넣어주세요:400\n",
      "거스름돈 100를 주고 커피를 줍니다.\n",
      "돈을 넣어주세요:500\n",
      "거스름돈 200를 주고 커피를 줍니다.\n",
      "돈을 넣어주세요:100\n",
      "돈을 다시 돌려주고 커피를 주지 않습니다.\n",
      "남은 커피의 양은 8개 입니다.\n",
      "돈을 넣어주세요:300\n",
      "커피를 줍니다\n",
      "돈을 넣어주세요:300\n",
      "커피를 줍니다\n",
      "돈을 넣어주세요:300\n",
      "커피를 줍니다\n",
      "돈을 넣어주세요:500\n",
      "거스름돈 200를 주고 커피를 줍니다.\n",
      "돈을 넣어주세요:500\n",
      "거스름돈 200를 주고 커피를 줍니다.\n",
      "돈을 넣어주세요:200\n",
      "돈을 다시 돌려주고 커피를 주지 않습니다.\n",
      "남은 커피의 양은 3개 입니다.\n",
      "돈을 넣어주세요:300\n",
      "커피를 줍니다\n",
      "돈을 넣어주세요:305\n",
      "거스름돈 5를 주고 커피를 줍니다.\n",
      "돈을 넣어주세요:300\n",
      "커피를 줍니다\n",
      "커피가 떨어졌습니다. 판매를 중지합니다.\n"
     ]
    }
   ],
   "source": [
    "coffee = 10\n",
    "while True:\n",
    "    money = int(input(\"돈을 넣어주세요:\"))\n",
    "    if money == 300:\n",
    "        print(\"커피를 줍니다\")\n",
    "        coffee = coffee - 1\n",
    "    elif money > 300:\n",
    "        print(\"거스름돈 %d를 주고 커피를 줍니다.\" % (money-300))\n",
    "        coffee = coffee - 1\n",
    "    else:\n",
    "        print(\"돈을 다시 돌려주고 커피를 주지 않습니다.\")\n",
    "        print(\"남은 커피의 양은 %d개 입니다.\" % (coffee))\n",
    "    \n",
    "    if coffee == 0:\n",
    "        print(\"커피가 떨어졌습니다. 판매를 중지합니다.\")\n",
    "        break\n",
    "        "
   ]
  },
  {
   "cell_type": "markdown",
   "metadata": {},
   "source": [
    "### for in\n",
    "- iterable 객체 (자료구조, 문자열, set, dictionary 등 반복가능한 객체가 모여있는 객체)가 값이 없을때까지 반복 조회 \n",
    "\n",
    "\n",
    "\n",
    "\n",
    "Iterable = [객체,객체,...] <font color=\"blue\"> Iterable을 정의</font> <br>\n",
    "    \n",
    "    \n",
    "`for` 변수 `in` Iterable:<font color=\"blue\"> 선언부</font> <br>\n",
    "(띄어쓰기)`반복구문1` <font color=\"blue\"> 구현부</font><br>\n",
    "(띄어쓰기)`반복구문2` <br>\n",
    "    \n",
    "    -> Iterable에 있는 원소들을 다 쓰면 반복문에서 빠져나옴\n",
    "    -> 반복구문1,2를 원소의 수만큼 반복"
   ]
  },
  {
   "cell_type": "code",
   "execution_count": 31,
   "metadata": {},
   "outputs": [
    {
     "name": "stdout",
     "output_type": "stream",
     "text": [
      "10\n",
      "20\n",
      "30\n",
      "40\n",
      "50\n"
     ]
    }
   ],
   "source": [
    "nums = [10,20,30,40,50]\n",
    "for num in nums:\n",
    "    print(num)"
   ]
  },
  {
   "cell_type": "code",
   "execution_count": 32,
   "metadata": {},
   "outputs": [
    {
     "name": "stdout",
     "output_type": "stream",
     "text": [
      "1\n",
      "2\n",
      "3\n",
      "4\n"
     ]
    }
   ],
   "source": [
    "t = 1,2,3,4\n",
    "for num in t:\n",
    "    print(num)"
   ]
  },
  {
   "cell_type": "code",
   "execution_count": 2,
   "metadata": {},
   "outputs": [
    {
     "data": {
      "text/plain": [
       "{'a': 10, 'b': 20, 'c': 30}"
      ]
     },
     "execution_count": 2,
     "metadata": {},
     "output_type": "execute_result"
    }
   ],
   "source": [
    "dic = dict(a=10, b=20, c=30)\n",
    "dic"
   ]
  },
  {
   "cell_type": "code",
   "execution_count": 4,
   "metadata": {},
   "outputs": [
    {
     "name": "stdout",
     "output_type": "stream",
     "text": [
      "a\n",
      "10\n",
      "b\n",
      "20\n",
      "c\n",
      "30\n"
     ]
    }
   ],
   "source": [
    "for key in dic: #key값이 반복조회\n",
    "    print(key) #print key\n",
    "    print(dic[key]) #print value"
   ]
  },
  {
   "cell_type": "code",
   "execution_count": 38,
   "metadata": {},
   "outputs": [
    {
     "name": "stdout",
     "output_type": "stream",
     "text": [
      "안\n",
      "녕\n",
      "하\n",
      "세\n",
      "요\n",
      ".\n",
      " \n",
      "a\n",
      "b\n",
      "e\n"
     ]
    }
   ],
   "source": [
    "for c in \"안녕하세요. abe\":\n",
    "    print (c)"
   ]
  },
  {
   "cell_type": "code",
   "execution_count": 51,
   "metadata": {},
   "outputs": [
    {
     "name": "stdout",
     "output_type": "stream",
     "text": [
      "3\n",
      "7\n",
      "11\n",
      "김밥\n"
     ]
    }
   ],
   "source": [
    "a = [(1,2),(3,4),(5,6),(\"김\",\"밥\")]\n",
    "for (first,last) in a:\n",
    "    print(first+last)"
   ]
  },
  {
   "cell_type": "code",
   "execution_count": 52,
   "metadata": {},
   "outputs": [
    {
     "name": "stdout",
     "output_type": "stream",
     "text": [
      "student 1: passed\n",
      "student 2: failed\n",
      "student 3: passed\n",
      "student 4: failed\n",
      "student 5: passed\n"
     ]
    }
   ],
   "source": [
    "marks = [90,25,67,45,80]\n",
    "student_no = 0\n",
    "for student_mark in marks:\n",
    "    student_no = student_no + 1\n",
    "    if student_mark >= 60:\n",
    "        print(\"student %d: passed\" % (student_no))\n",
    "    else:\n",
    "        print(\"student %d: failed\" % (student_no))\n",
    "        "
   ]
  },
  {
   "cell_type": "markdown",
   "metadata": {},
   "source": [
    "### break, continue\n",
    "- 반복문에서 사용하는 예약어\n",
    "\n",
    "\n",
    "`break`: 반복을 멈춰라.\n",
    "<img src=\"3_3.jpg\">\n",
    "\n",
    "\n",
    "`continue`: 나머지 부분을 실행하지 않고 다시 다음 반복 시작.\n",
    "<img src=\"3_4.jpg\">"
   ]
  },
  {
   "cell_type": "code",
   "execution_count": 40,
   "metadata": {},
   "outputs": [
    {
     "name": "stdout",
     "output_type": "stream",
     "text": [
      "0\n",
      "1\n",
      "2\n",
      "3\n",
      "4\n",
      "5\n",
      "6\n",
      "7\n",
      "8\n",
      "9\n"
     ]
    }
   ],
   "source": [
    "num = 0\n",
    "while True:\n",
    "    if num >= 10: \n",
    "        break \n",
    "    print(num)\n",
    "    num += 1"
   ]
  },
  {
   "cell_type": "code",
   "execution_count": 41,
   "metadata": {},
   "outputs": [
    {
     "name": "stdout",
     "output_type": "stream",
     "text": [
      "0\n",
      "5\n",
      "10\n",
      "15\n",
      "20\n",
      "25\n",
      "30\n",
      "35\n",
      "40\n",
      "45\n",
      "50\n",
      "55\n",
      "60\n",
      "65\n",
      "70\n",
      "75\n",
      "80\n",
      "85\n",
      "90\n",
      "95\n",
      "100\n"
     ]
    }
   ],
   "source": [
    "num = 0\n",
    "while num <= 100:\n",
    "    if num%5 == 0: #5의 배수\n",
    "        print(num)\n",
    "    num +=1"
   ]
  },
  {
   "cell_type": "code",
   "execution_count": 43,
   "metadata": {},
   "outputs": [
    {
     "name": "stdout",
     "output_type": "stream",
     "text": [
      "0\n",
      "5\n",
      "10\n",
      "15\n",
      "20\n",
      "25\n",
      "30\n",
      "35\n",
      "40\n",
      "45\n",
      "50\n",
      "55\n",
      "60\n",
      "65\n",
      "70\n",
      "75\n",
      "80\n",
      "85\n",
      "90\n",
      "95\n",
      "100\n"
     ]
    }
   ],
   "source": [
    "num = 0\n",
    "while num <= 100:\n",
    "    if num%5 != 0: #5의 배수가 아닐 때\n",
    "        num += 1\n",
    "        continue   #위의 while 구문으로 돌아가서 반복\n",
    "    print(num)\n",
    "    num +=1"
   ]
  },
  {
   "cell_type": "markdown",
   "metadata": {},
   "source": [
    "for문과 continue"
   ]
  },
  {
   "cell_type": "code",
   "execution_count": 55,
   "metadata": {},
   "outputs": [
    {
     "name": "stdout",
     "output_type": "stream",
     "text": [
      "student 1: passed\n",
      "try again\n",
      "student 3: passed\n",
      "try again\n",
      "student 5: passed\n"
     ]
    }
   ],
   "source": [
    "marks = [90,25,67,45,80]\n",
    "student_no = 0\n",
    "for student_mark in marks:\n",
    "    student_no = student_no + 1\n",
    "    if student_mark < 60:\n",
    "        print(\"try again\")\n",
    "        continue\n",
    "    print(\"student %d: passed\" % (student_no))"
   ]
  },
  {
   "cell_type": "markdown",
   "metadata": {},
   "source": [
    "### for in 연관 내장함수\n",
    "\n",
    "#### `range()`\n",
    "- range ([시작값], 멈춤값, [증강값[)\n",
    "- [] 생략가능\n",
    "- 멈춤값 포함하지 않음\n",
    "- [범위)\n",
    "- 시작값 생략 가능: 0부터 시작\n",
    "- 멈춤값 생략 불가능\n",
    "- 증감값 생략 가능: 1씩 증가\n",
    "- 리스트로 만들기: list(range(1,20))\n",
    "- for문에 사용: for num in range(1,20)"
   ]
  },
  {
   "cell_type": "code",
   "execution_count": 1,
   "metadata": {},
   "outputs": [
    {
     "name": "stdout",
     "output_type": "stream",
     "text": [
      "range(1, 100, 5)\n"
     ]
    }
   ],
   "source": [
    "print(range(1,100,5))"
   ]
  },
  {
   "cell_type": "code",
   "execution_count": 2,
   "metadata": {},
   "outputs": [
    {
     "name": "stdout",
     "output_type": "stream",
     "text": [
      "[1, 6, 11, 16, 21, 26, 31, 36, 41, 46, 51, 56, 61, 66, 71, 76, 81, 86, 91, 96]\n"
     ]
    }
   ],
   "source": [
    "print(list(range(1,100,5)))"
   ]
  },
  {
   "cell_type": "code",
   "execution_count": 19,
   "metadata": {},
   "outputs": [
    {
     "name": "stdout",
     "output_type": "stream",
     "text": [
      "{0, 1, 2, 3, 4, 5, 6, 7, 8, 9}\n"
     ]
    }
   ],
   "source": [
    "print(set(range(10)))"
   ]
  },
  {
   "cell_type": "code",
   "execution_count": 20,
   "metadata": {},
   "outputs": [
    {
     "name": "stdout",
     "output_type": "stream",
     "text": [
      "(10, 9, 8, 7, 6, 5, 4, 3, 2, 1)\n"
     ]
    }
   ],
   "source": [
    "print(tuple(range(10,0,-1)))"
   ]
  },
  {
   "cell_type": "code",
   "execution_count": 24,
   "metadata": {},
   "outputs": [
    {
     "name": "stdout",
     "output_type": "stream",
     "text": [
      "0\t1\t2\t3\t4\t5\t6\t7\t8\t9\t"
     ]
    }
   ],
   "source": [
    "for num in range(10):\n",
    "    print(num,end = '\\t') # 끝에 tab을 치고 다음 print 를 붙여줌"
   ]
  },
  {
   "cell_type": "markdown",
   "metadata": {},
   "source": [
    "- 특정 작업 n번 반복"
   ]
  },
  {
   "cell_type": "code",
   "execution_count": 39,
   "metadata": {},
   "outputs": [
    {
     "name": "stdout",
     "output_type": "stream",
     "text": [
      "안녕\n",
      "안녕\n",
      "안녕\n",
      "안녕\n",
      "안녕\n",
      "안녕\n",
      "안녕\n",
      "안녕\n",
      "안녕\n",
      "안녕\n"
     ]
    }
   ],
   "source": [
    "# 안녕 10번 출력\n",
    "for _ in range(10): #변수명으로 _를 쓸때: 관례적으로 소모하는 변수라고 표현\n",
    "    print(\"안녕\")\n"
   ]
  },
  {
   "cell_type": "markdown",
   "metadata": {},
   "source": [
    "#### `enumerate`<br>\n",
    "- 원소의 index와 원소를 튜플로 묶어서 반환 <br>\n",
    "- 구문: `for i, num in enumerate(l,start = 1)`  ==> (i,num) <br>\n",
    "- i = start 부터 시작하는 번호, 생략시 index  \n",
    "- num = 원소\n"
   ]
  },
  {
   "cell_type": "code",
   "execution_count": 26,
   "metadata": {},
   "outputs": [
    {
     "data": {
      "text/plain": [
       "[0, 1, 2, 3, 4, 5, 6, 7, 8, 9]"
      ]
     },
     "execution_count": 26,
     "metadata": {},
     "output_type": "execute_result"
    }
   ],
   "source": [
    "l2 = list(range(10))\n",
    "l2"
   ]
  },
  {
   "cell_type": "code",
   "execution_count": 74,
   "metadata": {},
   "outputs": [
    {
     "name": "stdout",
     "output_type": "stream",
     "text": [
      "(0, 0)\n",
      "(1, 1)\n",
      "(2, 2)\n",
      "(3, 3)\n",
      "(4, 4)\n",
      "(5, 5)\n",
      "(6, 6)\n",
      "(7, 7)\n",
      "(8, 8)\n",
      "(9, 9)\n"
     ]
    },
    {
     "data": {
      "text/plain": [
       "tuple"
      ]
     },
     "execution_count": 74,
     "metadata": {},
     "output_type": "execute_result"
    }
   ],
   "source": [
    "for num in enumerate(l2):# num = (index,value)\n",
    "    print(num)\n",
    "type(num)"
   ]
  },
  {
   "cell_type": "code",
   "execution_count": 31,
   "metadata": {},
   "outputs": [
    {
     "name": "stdout",
     "output_type": "stream",
     "text": [
      "0 0\n",
      "1 1\n",
      "2 2\n",
      "3 3\n",
      "4 4\n",
      "5 5\n",
      "6 6\n",
      "7 7\n",
      "8 8\n",
      "9 9\n"
     ]
    }
   ],
   "source": [
    "for idx, num in enumerate(l2): #idx = index, num = value\n",
    "    print(idx,num)"
   ]
  },
  {
   "cell_type": "code",
   "execution_count": 34,
   "metadata": {},
   "outputs": [
    {
     "name": "stdout",
     "output_type": "stream",
     "text": [
      "0 가\n",
      "2 다\n"
     ]
    }
   ],
   "source": [
    "s = [\"가\", \"나\", \"다\"]\n",
    "for i, ss in enumerate(s):\n",
    "    if i % 2 == 0: #짝수일때만 프린트 하기\n",
    "        print(i,ss)"
   ]
  },
  {
   "cell_type": "code",
   "execution_count": 36,
   "metadata": {},
   "outputs": [
    {
     "name": "stdout",
     "output_type": "stream",
     "text": [
      "100 0\n",
      "101 1\n",
      "102 2\n",
      "103 3\n",
      "104 4\n",
      "105 5\n",
      "106 6\n",
      "107 7\n",
      "108 8\n",
      "109 9\n"
     ]
    }
   ],
   "source": [
    "for i,num in enumerate(l2,start=100): #start from 100\n",
    "    print(i,num)"
   ]
  },
  {
   "cell_type": "markdown",
   "metadata": {},
   "source": [
    "#### `zip` 함수<br>\n",
    "- 구문: `zip(자료구조들,...)` <br>\n",
    "- 반복시마다 같은 index의 값들을 묶어서 tuple로 반환\n",
    "a = [10, 20, 30]<br>\n",
    "b =[A, B, C]<br>\n",
    "for z in zip(a,b) ==> (10,'A')<br>\n",
    "- a와 b의 길이가 다르면, 길이가 짧은것에 맞춰서 반복."
   ]
  },
  {
   "cell_type": "code",
   "execution_count": 152,
   "metadata": {},
   "outputs": [
    {
     "name": "stdout",
     "output_type": "stream",
     "text": [
      "('id1', 10, 120)\n",
      "('id2', 20, 123)\n",
      "('id3', 30, 130)\n",
      "('id4', 40, 170)\n",
      "('id5', 50, 190)\n"
     ]
    },
    {
     "data": {
      "text/plain": [
       "[('id1', 10, 120),\n",
       " ('id2', 20, 123),\n",
       " ('id3', 30, 130),\n",
       " ('id4', 40, 170),\n",
       " ('id5', 50, 190)]"
      ]
     },
     "execution_count": 152,
     "metadata": {},
     "output_type": "execute_result"
    }
   ],
   "source": [
    "ids = [\"id1\",\"id2\",\"id3\",\"id4\",\"id5\",\"id6\"]\n",
    "ages = [10, 20, 30, 40, 50]\n",
    "talls = [120, 123, 130, 170, 190]\n",
    "i = []\n",
    "for info in zip(ids,ages,talls):\n",
    "    print (info)\n",
    "    i.append(info)\n",
    "i"
   ]
  },
  {
   "cell_type": "code",
   "execution_count": 54,
   "metadata": {},
   "outputs": [
    {
     "name": "stdout",
     "output_type": "stream",
     "text": [
      "('id1', 10, 120)\n",
      "아이디:id1, 나이:10, 키:120\n",
      "('id2', 20, 123)\n",
      "아이디:id2, 나이:20, 키:123\n",
      "('id3', 30, 130)\n",
      "아이디:id3, 나이:30, 키:130\n",
      "('id4', 40, 170)\n",
      "아이디:id4, 나이:40, 키:170\n",
      "('id4', 40, 170)\n"
     ]
    }
   ],
   "source": [
    "ids = [\"id1\",\"id2\",\"id3\",\"id4\",\"id5\",\"id6\",\"id7\"] # 가장 짧은 length에 맞춤\n",
    "ages = [10, 20, 30, 40, 50]\n",
    "talls = [120, 123, 130, 170]\n",
    "for id,age,tall in zip(ids,ages,talls):\n",
    "    z = (id,age,tall)\n",
    "    print (z)\n",
    "    print(f'아이디:{id}, 나이:{age}, 키:{tall}')\n",
    "print(z)"
   ]
  },
  {
   "cell_type": "markdown",
   "metadata": {},
   "source": [
    "Note:\n",
    "- `\\n`: enter\n",
    "- `\\t`: tab"
   ]
  },
  {
   "cell_type": "code",
   "execution_count": 51,
   "metadata": {},
   "outputs": [
    {
     "name": "stdout",
     "output_type": "stream",
     "text": [
      "abe\n",
      "dkljsf\tjlkjsf\n"
     ]
    }
   ],
   "source": [
    "print(\"abe\\ndkljsf\\tjlkjsf\")"
   ]
  },
  {
   "cell_type": "markdown",
   "metadata": {},
   "source": [
    "- `\\\\`: 경로표시"
   ]
  },
  {
   "cell_type": "code",
   "execution_count": 58,
   "metadata": {},
   "outputs": [
    {
     "name": "stdout",
     "output_type": "stream",
     "text": [
      "c:\\temp\n"
     ]
    }
   ],
   "source": [
    "print(\"c:\\\\temp\")"
   ]
  },
  {
   "cell_type": "markdown",
   "metadata": {},
   "source": [
    "### comprehension (컴프리헨션_내포)\n",
    "- 구문 안에 `for in` 문을 씀\n",
    "- [자료구조 -> 원소처리 -> 결과] 를 구문으로 만든 것 \n",
    "\n",
    "- 처리한 결과를 어디에 넣는지에 따라:\n",
    "    - 리스트 컴프리헨션\n",
    "        - 자료구조의 원소를 처리한 값을 **리스트**에 넣는 구문\n",
    "        - 구문: `결과 = [원소처리 for 원소 in 자료구조]`\n",
    "    - 셋(set) 컴프리헨션\n",
    "    - 딕셔너리(dictionary) 컴프리헨션: `{키:원소처리 for 키,원소 in enumerate(자료구조)}`\n",
    "    \n",
    "    \n",
    " - 튜플 컴프리헨션은 없다\n",
    " - set/dictionary 컴프리헨션은 파이썬 3.0에 추가된 문법\n",
    " \n",
    " <img src=\"3_5.jpg\">"
   ]
  },
  {
   "cell_type": "code",
   "execution_count": 60,
   "metadata": {},
   "outputs": [
    {
     "data": {
      "text/plain": [
       "[0, 1, 2, 3, 4, 5, 6, 7, 8, 9]"
      ]
     },
     "execution_count": 60,
     "metadata": {},
     "output_type": "execute_result"
    }
   ],
   "source": [
    "l3 = list(range(10))\n",
    "l3"
   ]
  },
  {
   "cell_type": "markdown",
   "metadata": {},
   "source": [
    "e.g.) l3의 각 원소*10 한 값을 가진 리스트를 생성.<br>\n",
    "l3x10 -> l3 10번 반복"
   ]
  },
  {
   "cell_type": "markdown",
   "metadata": {},
   "source": [
    "comprehension 사용하지 않으면:"
   ]
  },
  {
   "cell_type": "code",
   "execution_count": 125,
   "metadata": {
    "scrolled": true
   },
   "outputs": [
    {
     "name": "stdout",
     "output_type": "stream",
     "text": [
      "[0]\n",
      "0\n",
      "[0, 10]\n",
      "1\n",
      "[0, 10, 20]\n",
      "2\n",
      "[0, 10, 20, 30]\n",
      "3\n",
      "[0, 10, 20, 30, 40]\n",
      "4\n",
      "[0, 10, 20, 30, 40, 50]\n",
      "5\n",
      "[0, 10, 20, 30, 40, 50, 60]\n",
      "6\n",
      "[0, 10, 20, 30, 40, 50, 60, 70]\n",
      "7\n",
      "[0, 10, 20, 30, 40, 50, 60, 70, 80]\n",
      "8\n",
      "[0, 10, 20, 30, 40, 50, 60, 70, 80, 90]\n",
      "9\n"
     ]
    }
   ],
   "source": [
    "del num\n",
    "result_list = []\n",
    "for num in l3:\n",
    "    result_list.append(num*10) #list.append(값): list에 값을 추가 b\n",
    "    print(result_list)\n",
    "    print(num)"
   ]
  },
  {
   "cell_type": "markdown",
   "metadata": {},
   "source": [
    "comprehension 사용:"
   ]
  },
  {
   "cell_type": "code",
   "execution_count": 135,
   "metadata": {},
   "outputs": [
    {
     "data": {
      "text/plain": [
       "[0, 10, 20, 30, 40, 50, 60, 70, 80, 90]"
      ]
     },
     "execution_count": 135,
     "metadata": {},
     "output_type": "execute_result"
    }
   ],
   "source": [
    "results = [num*10 for num in l3] #num은 variable로 반환되지 않고 comprehension 구문 안에서 소비.\n",
    "results"
   ]
  },
  {
   "cell_type": "code",
   "execution_count": 130,
   "metadata": {},
   "outputs": [
    {
     "data": {
      "text/plain": [
       "[-10, -9, -8, -7, -6, -5, -4, -3, -2, -1]"
      ]
     },
     "execution_count": 130,
     "metadata": {},
     "output_type": "execute_result"
    }
   ],
   "source": [
    "# l3의 각 원소의 값-10 값들을 가지는 리스트를 생성\n",
    "result2 = [num-10 for num in l3]\n",
    "result2"
   ]
  },
  {
   "cell_type": "code",
   "execution_count": 80,
   "metadata": {},
   "outputs": [
    {
     "data": {
      "text/plain": [
       "{-10, -9, -8, -7, -6, -5, -4, -3, -2, -1}"
      ]
     },
     "execution_count": 80,
     "metadata": {},
     "output_type": "execute_result"
    }
   ],
   "source": [
    "{num-10 for num in l3}"
   ]
  },
  {
   "cell_type": "markdown",
   "metadata": {},
   "source": [
    "딕셔너리 컴프리헨션"
   ]
  },
  {
   "cell_type": "code",
   "execution_count": 119,
   "metadata": {},
   "outputs": [
    {
     "name": "stdout",
     "output_type": "stream",
     "text": [
      "[0, 1, 2, 3, 4, 5, 6, 7, 8, 9]\n"
     ]
    },
    {
     "data": {
      "text/plain": [
       "{'key0': -10,\n",
       " 'key1': -9,\n",
       " 'key2': -8,\n",
       " 'key3': -7,\n",
       " 'key4': -6,\n",
       " 'key5': -5,\n",
       " 'key6': -4,\n",
       " 'key7': -3,\n",
       " 'key8': -2,\n",
       " 'key9': -1}"
      ]
     },
     "execution_count": 119,
     "metadata": {},
     "output_type": "execute_result"
    }
   ],
   "source": [
    "dic1 = {'key'+str(i):num-10 for i,num in enumerate(l3)} #enumerate: (index,value) 반환\n",
    "print(l3)\n",
    "dic1"
   ]
  },
  {
   "cell_type": "code",
   "execution_count": 84,
   "metadata": {
    "collapsed": true
   },
   "outputs": [
    {
     "data": {
      "text/plain": [
       "[0,\n",
       " 1,\n",
       " 2,\n",
       " 3,\n",
       " 4,\n",
       " 5,\n",
       " 6,\n",
       " 7,\n",
       " 8,\n",
       " 9,\n",
       " 10,\n",
       " 11,\n",
       " 12,\n",
       " 13,\n",
       " 14,\n",
       " 15,\n",
       " 16,\n",
       " 17,\n",
       " 18,\n",
       " 19,\n",
       " 20,\n",
       " 21,\n",
       " 22,\n",
       " 23,\n",
       " 24,\n",
       " 25,\n",
       " 26,\n",
       " 27,\n",
       " 28,\n",
       " 29,\n",
       " 30,\n",
       " 31,\n",
       " 32,\n",
       " 33,\n",
       " 34,\n",
       " 35,\n",
       " 36,\n",
       " 37,\n",
       " 38,\n",
       " 39,\n",
       " 40,\n",
       " 41,\n",
       " 42,\n",
       " 43,\n",
       " 44,\n",
       " 45,\n",
       " 46,\n",
       " 47,\n",
       " 48,\n",
       " 49,\n",
       " 50,\n",
       " 51,\n",
       " 52,\n",
       " 53,\n",
       " 54,\n",
       " 55,\n",
       " 56,\n",
       " 57,\n",
       " 58,\n",
       " 59,\n",
       " 60,\n",
       " 61,\n",
       " 62,\n",
       " 63,\n",
       " 64,\n",
       " 65,\n",
       " 66,\n",
       " 67,\n",
       " 68,\n",
       " 69,\n",
       " 70,\n",
       " 71,\n",
       " 72,\n",
       " 73,\n",
       " 74,\n",
       " 75,\n",
       " 76,\n",
       " 77,\n",
       " 78,\n",
       " 79,\n",
       " 80,\n",
       " 81,\n",
       " 82,\n",
       " 83,\n",
       " 84,\n",
       " 85,\n",
       " 86,\n",
       " 87,\n",
       " 88,\n",
       " 89,\n",
       " 90,\n",
       " 91,\n",
       " 92,\n",
       " 93,\n",
       " 94,\n",
       " 95,\n",
       " 96,\n",
       " 97,\n",
       " 98,\n",
       " 99,\n",
       " 100]"
      ]
     },
     "execution_count": 84,
     "metadata": {},
     "output_type": "execute_result"
    }
   ],
   "source": [
    "l4 = list(range(0,101))\n",
    "l4"
   ]
  },
  {
   "cell_type": "code",
   "execution_count": 136,
   "metadata": {
    "scrolled": false
   },
   "outputs": [
    {
     "name": "stdout",
     "output_type": "stream",
     "text": [
      "21\n"
     ]
    },
    {
     "data": {
      "text/plain": [
       "[0,\n",
       " 25,\n",
       " 50,\n",
       " 75,\n",
       " 100,\n",
       " 125,\n",
       " 150,\n",
       " 175,\n",
       " 200,\n",
       " 225,\n",
       " 250,\n",
       " 275,\n",
       " 300,\n",
       " 325,\n",
       " 350,\n",
       " 375,\n",
       " 400,\n",
       " 425,\n",
       " 450,\n",
       " 475,\n",
       " 500]"
      ]
     },
     "execution_count": 136,
     "metadata": {},
     "output_type": "execute_result"
    }
   ],
   "source": [
    "#l4의 원소 중 5 배수값들인 원소 *5들을 가지는 리스트 생성\n",
    "result_list3 = []\n",
    "for num in l4:\n",
    "    if num%5 == 0:\n",
    "        result_list3.append(num*5)\n",
    "print (len(result_list3))\n",
    "result_list3"
   ]
  },
  {
   "cell_type": "code",
   "execution_count": 175,
   "metadata": {},
   "outputs": [
    {
     "data": {
      "text/plain": [
       "[0,\n",
       " 25,\n",
       " 50,\n",
       " 75,\n",
       " 100,\n",
       " 125,\n",
       " 150,\n",
       " 175,\n",
       " 200,\n",
       " 225,\n",
       " 250,\n",
       " 275,\n",
       " 300,\n",
       " 325,\n",
       " 350,\n",
       " 375,\n",
       " 400,\n",
       " 425,\n",
       " 450,\n",
       " 475,\n",
       " 500]"
      ]
     },
     "execution_count": 175,
     "metadata": {},
     "output_type": "execute_result"
    }
   ],
   "source": [
    "result_list5 = [num*5 for num in l4 if num%5 == 0] ## 이정도 까지 컴프리헨션 사용. 더 복잡해 지면==> 풀어서 쓰기\n",
    "result_list5"
   ]
  },
  {
   "cell_type": "code",
   "execution_count": 138,
   "metadata": {},
   "outputs": [
    {
     "data": {
      "text/plain": [
       "21"
      ]
     },
     "execution_count": 138,
     "metadata": {},
     "output_type": "execute_result"
    }
   ],
   "source": [
    "len(result_list5)"
   ]
  },
  {
   "cell_type": "markdown",
   "metadata": {},
   "source": [
    "자료구조 중첩된 경우"
   ]
  },
  {
   "cell_type": "code",
   "execution_count": 94,
   "metadata": {},
   "outputs": [
    {
     "name": "stdout",
     "output_type": "stream",
     "text": [
      "[1, 2, 3]\n",
      "[10, 20, 30]\n"
     ]
    }
   ],
   "source": [
    "l5 = [[1,2,3],[10,20,30]]\n",
    "for i in l5:\n",
    "    print(i)"
   ]
  },
  {
   "cell_type": "markdown",
   "metadata": {},
   "source": [
    "- 컴프리헨션 사용 안하면:"
   ]
  },
  {
   "cell_type": "code",
   "execution_count": 155,
   "metadata": {},
   "outputs": [
    {
     "name": "stdout",
     "output_type": "stream",
     "text": [
      "1\t2\t3\t\n",
      "10\t20\t30\t\n"
     ]
    }
   ],
   "source": [
    "l5 = [[1,2,3],[10,20,30]]\n",
    "for i in l5:\n",
    "    for j in i:\n",
    "        print(j, end= \"\\t\")\n",
    "        \n",
    "    print()\n",
    "    "
   ]
  },
  {
   "cell_type": "code",
   "execution_count": 174,
   "metadata": {},
   "outputs": [
    {
     "data": {
      "text/plain": [
       "[1, 2, 3, 10, 20, 30]"
      ]
     },
     "execution_count": 174,
     "metadata": {},
     "output_type": "execute_result"
    }
   ],
   "source": [
    "l5 = [[1,2,3],[10,20,30]]\n",
    "[j for i in l5 for j in i]"
   ]
  },
  {
   "cell_type": "markdown",
   "metadata": {},
   "source": [
    "- 컴프리헨션 사용:"
   ]
  },
  {
   "cell_type": "code",
   "execution_count": 101,
   "metadata": {},
   "outputs": [
    {
     "data": {
      "text/plain": [
       "[2, 10, 20, 30]"
      ]
     },
     "execution_count": 101,
     "metadata": {},
     "output_type": "execute_result"
    }
   ],
   "source": [
    "[j for i in l5   for j in i   if j%2 ==0] ## 헷갈려요 ㅠㅠㅠㅠㅠㅠㅠㅠ. 실수하기 쉬움 ==> 풀어서 쓰는게 나음"
   ]
  }
 ],
 "metadata": {
  "kernelspec": {
   "display_name": "Python 3",
   "language": "python",
   "name": "python3"
  },
  "language_info": {
   "codemirror_mode": {
    "name": "ipython",
    "version": 3
   },
   "file_extension": ".py",
   "mimetype": "text/x-python",
   "name": "python",
   "nbconvert_exporter": "python",
   "pygments_lexer": "ipython3",
   "version": "3.7.3"
  }
 },
 "nbformat": 4,
 "nbformat_minor": 2
}
