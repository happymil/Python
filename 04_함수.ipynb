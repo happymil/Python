{
 "cells": [
  {
   "cell_type": "markdown",
   "metadata": {},
   "source": [
    "# 함수\n",
    "작업을 처리하기 위한 명령문들의 묶음\n",
    "- 재사용 가능\n",
    "- 함수 정의: 함수 만들기\n",
    "- 함수 호출: 함수 사용하기\n",
    "- 파이썬에서 함수는 일급 시민 객채 (First Class Clitizen Object)\n",
    "    - 값처럼 쓸수 있음 (변수, 인수(argument), 반환값으로 사용 가능)\n"
   ]
  },
  {
   "cell_type": "markdown",
   "metadata": {},
   "source": [
    "## 함수의 호출\n",
    "\n",
    "`함수이름([인수, 인수,]`<br>\n",
    "int(\"100\") <br>\n",
    "=>>>100\n",
    "- int: 함수의 이름\n",
    "- \"100\": 인수(Argument)\n",
    "- 100: 반환값(return value). 반환값이 없으면 None이 반환"
   ]
  },
  {
   "cell_type": "markdown",
   "metadata": {},
   "source": [
    "## 함수의 정의\n",
    "파이썬 실행환경 메로리에 올리는 것<br>\n",
    "새로운 함수를 만드는 것.<br>\n",
    "선언부와 구현부로 나누어진다\n",
    "- 함수의 선언 부(Header): 함수의 이름과 인수를 받을 변수를 지정한다.\n",
    "- 함수의 구현 부(Body): 함수가 호출 되었을 때 실행할 실행문들을 지정한다.\n",
    "\n",
    "**def** `함수이름(인자, 인자, ...):`<font color=blue> 선언 부(Header)</font> <br>\n",
    "(공백4개)`실행구문1`<font color=blue> 구현 부(Body)</font> <br>\n",
    "(공백4개)`실행구문2`<br>\n",
    "(공백4개)`실행구문3`<br>\n",
    "...<br>\n",
    "(공백4개)`return 결과값, 결과값, ...`  <br>\n",
    "- 매개변수(인자, Parameter)는 인수를 만들기 위한 변수로 **0개이상** 선언할 수 있다.\n"
   ]
  },
  {
   "cell_type": "code",
   "execution_count": 7,
   "metadata": {},
   "outputs": [],
   "source": [
    "# 함수정의: 파이썬 실행환경 메로리에 올리는 것\n",
    "def greeting(): #선언 부:함수의 사용법 ()가 비어있을 때: parameter가 없는 함수.\n",
    "                # greeting() 으로 이름으로 함수를 호출.\n",
    "    print(\"안녕하세요\") #구현 부: 알고리즘. 함수가 호출되었을때 하는 일\n",
    "    print(\"반갑습니다\") \n",
    "    \n",
    "    \n",
    "    "
   ]
  },
  {
   "cell_type": "code",
   "execution_count": 4,
   "metadata": {},
   "outputs": [
    {
     "name": "stdout",
     "output_type": "stream",
     "text": [
      "안녕하세요\n",
      "반갑습니다\n"
     ]
    }
   ],
   "source": [
    "#호출 : 이름([값,...])\n",
    "greeting()"
   ]
  },
  {
   "cell_type": "markdown",
   "metadata": {},
   "source": [
    "## 함수의 매개변수(Parameter)\n",
    "피연산자와 같은 역할"
   ]
  },
  {
   "cell_type": "code",
   "execution_count": 20,
   "metadata": {},
   "outputs": [],
   "source": [
    "def greeting2(name):                        # 호출하는 곳에서 변수를 받음\n",
    "    print(f\"{name}님 안녕하세요\")\n",
    "    "
   ]
  },
  {
   "cell_type": "code",
   "execution_count": 26,
   "metadata": {},
   "outputs": [
    {
     "name": "stdout",
     "output_type": "stream",
     "text": [
      "홍길동님 안녕하세요\n",
      "2님 안녕하세요\n"
     ]
    }
   ],
   "source": [
    "greeting2(\"홍길동\")                         # greeting2에 일시키기\n",
    "n = 2\n",
    "greeting2(n)"
   ]
  },
  {
   "cell_type": "code",
   "execution_count": 40,
   "metadata": {},
   "outputs": [],
   "source": [
    "def plus(num1, num2, num3):\n",
    "    print(\"{}+{}+{}+={}\".format(num1,num2,num3,num1+num2+num3)) \n",
    "#   return None이 생략되어 있음\n",
    "#==> 결과값을 출력밖에 못함\n",
    "  "
   ]
  },
  {
   "cell_type": "code",
   "execution_count": 41,
   "metadata": {},
   "outputs": [
    {
     "name": "stdout",
     "output_type": "stream",
     "text": [
      "1+2+3+=6\n",
      "2+3+0+=5\n",
      "2+dl+ㄹ+=2dlㄹ\n",
      "None\n"
     ]
    }
   ],
   "source": [
    "plus(1,2,3)\n",
    "plus(2,3,0)\n",
    "r = plus(\"2\",\"dl\",\"ㄹ\")\n",
    "print(r)"
   ]
  },
  {
   "cell_type": "markdown",
   "metadata": {},
   "source": [
    "### 기본값이 있는 매개변수(parameter)\n",
    "- 기본값이 있는 매개변수 뒤에는 일반 매개변수(기본값없는)는 선언 할 수없다"
   ]
  },
  {
   "cell_type": "code",
   "execution_count": 78,
   "metadata": {},
   "outputs": [],
   "source": [
    "# age=0 호출할때 전달 값이 있으면 그 값이 대입되고 없으면 age는 0을 기본값으로 사용\n",
    "def printInfo(id, name, age=0, address=None, hobby=[], ): # id, name 필수. age는 선택사항\n",
    "    print(id, name, age, address, hobby)"
   ]
  },
  {
   "cell_type": "code",
   "execution_count": 79,
   "metadata": {},
   "outputs": [
    {
     "name": "stdout",
     "output_type": "stream",
     "text": [
      "id-1 이름 0 None []\n"
     ]
    }
   ],
   "source": [
    "printInfo(\"id-1\",\"이름\")"
   ]
  },
  {
   "cell_type": "code",
   "execution_count": 80,
   "metadata": {},
   "outputs": [
    {
     "name": "stdout",
     "output_type": "stream",
     "text": [
      "id-2 홍길동 20 None []\n"
     ]
    }
   ],
   "source": [
    "printInfo('id-2', \"홍길동\", 20)"
   ]
  },
  {
   "cell_type": "code",
   "execution_count": 85,
   "metadata": {},
   "outputs": [
    {
     "name": "stdout",
     "output_type": "stream",
     "text": [
      "id-3 이순신 서울 None []\n"
     ]
    }
   ],
   "source": [
    "# id, 이름, address\n",
    "printInfo('id-3',\"이순신\",\"서울\") #서울이 age에 대입"
   ]
  },
  {
   "cell_type": "code",
   "execution_count": 76,
   "metadata": {},
   "outputs": [
    {
     "ename": "SyntaxError",
     "evalue": "invalid syntax (<ipython-input-76-708b2726eeb8>, line 4)",
     "output_type": "error",
     "traceback": [
      "\u001b[1;36m  File \u001b[1;32m\"<ipython-input-76-708b2726eeb8>\"\u001b[1;36m, line \u001b[1;32m4\u001b[0m\n\u001b[1;33m    ==> 기본값이 있는 매개변수 뒤에는 일반 매개변수(기본값없는)는 선언 할 수없다\u001b[0m\n\u001b[1;37m     ^\u001b[0m\n\u001b[1;31mSyntaxError\u001b[0m\u001b[1;31m:\u001b[0m invalid syntax\n"
     ]
    }
   ],
   "source": [
    "def f(x,y,z=None,k):\n",
    "    pass                       # 구현문이 없을 경우 실행만 되게 함\n",
    "\n",
    "==> 기본값이 있는 매개변수 뒤에는 일반 매개변수(기본값없는)는 선언 할 수없다"
   ]
  },
  {
   "cell_type": "code",
   "execution_count": 77,
   "metadata": {},
   "outputs": [],
   "source": [
    "def f(x,y,z,k=None):\n",
    "    pass    "
   ]
  },
  {
   "cell_type": "markdown",
   "metadata": {},
   "source": [
    "#### 키워드 인수 (Keyword argument): \n",
    "- 호출할때 매개변수명을 지정해서 값 전달"
   ]
  },
  {
   "cell_type": "code",
   "execution_count": 86,
   "metadata": {},
   "outputs": [
    {
     "name": "stdout",
     "output_type": "stream",
     "text": [
      "id-4 김영수 0 None ['독서', '음악감상']\n"
     ]
    }
   ],
   "source": [
    "printInfo(\"id-4\", \"김영수\", hobby = ['독서', '음악감상'])"
   ]
  },
  {
   "cell_type": "code",
   "execution_count": 90,
   "metadata": {},
   "outputs": [
    {
     "name": "stdout",
     "output_type": "stream",
     "text": [
      "myid 김영수 20 인천 []\n"
     ]
    }
   ],
   "source": [
    "printInfo(age=20, address=\"인천\", name=\"김영수\", id=\"myid\")"
   ]
  },
  {
   "cell_type": "markdown",
   "metadata": {},
   "source": [
    "### 가변인수: `*변수명`\n",
    "- 0 - n개의 전달값을 튜플로 묶어서 받는다\n",
    "- 가변인수는 하나의 함수에 한개씩만 선언할 수 있다\n",
    "- `*`를 인수(argument) 앞에 붙여줌으로 가변인수를 만듦\n",
    "- 몇개의 값을 받을 지 모를 때 나열해서 입력 하면 자동적으로 튜플로 받음"
   ]
  },
  {
   "cell_type": "markdown",
   "metadata": {},
   "source": [
    "*반복문 사용*"
   ]
  },
  {
   "cell_type": "code",
   "execution_count": 120,
   "metadata": {},
   "outputs": [],
   "source": [
    "def sum_nums1(num_list):\n",
    "    result = 0\n",
    "    for num in num_list:\n",
    "        result += num\n",
    "    print(type(num_list))\n",
    "    return result"
   ]
  },
  {
   "cell_type": "markdown",
   "metadata": {},
   "source": [
    "*parameter를 묶어서 집어넣지 않으면 에러남*"
   ]
  },
  {
   "cell_type": "code",
   "execution_count": 121,
   "metadata": {},
   "outputs": [
    {
     "name": "stdout",
     "output_type": "stream",
     "text": [
      "<class 'list'>\n",
      "15\n",
      "<class 'tuple'>\n",
      "15\n"
     ]
    },
    {
     "ename": "TypeError",
     "evalue": "sum_nums1() takes 1 positional argument but 3 were given",
     "output_type": "error",
     "traceback": [
      "\u001b[1;31m---------------------------------------------------------------------------\u001b[0m",
      "\u001b[1;31mTypeError\u001b[0m                                 Traceback (most recent call last)",
      "\u001b[1;32m<ipython-input-121-442babe1007c>\u001b[0m in \u001b[0;36m<module>\u001b[1;34m\u001b[0m\n\u001b[0;32m      5\u001b[0m \u001b[0mprint\u001b[0m\u001b[1;33m(\u001b[0m\u001b[0mv\u001b[0m\u001b[1;33m)\u001b[0m\u001b[1;33m\u001b[0m\u001b[1;33m\u001b[0m\u001b[0m\n\u001b[0;32m      6\u001b[0m \u001b[1;33m\u001b[0m\u001b[0m\n\u001b[1;32m----> 7\u001b[1;33m \u001b[0mv\u001b[0m \u001b[1;33m=\u001b[0m \u001b[0msum_nums1\u001b[0m\u001b[1;33m(\u001b[0m\u001b[1;36m1\u001b[0m\u001b[1;33m,\u001b[0m\u001b[1;36m2\u001b[0m\u001b[1;33m,\u001b[0m\u001b[1;36m3\u001b[0m\u001b[1;33m)\u001b[0m\u001b[1;33m\u001b[0m\u001b[1;33m\u001b[0m\u001b[0m\n\u001b[0m\u001b[0;32m      8\u001b[0m \u001b[0mprint\u001b[0m\u001b[1;33m(\u001b[0m\u001b[0mv\u001b[0m\u001b[1;33m)\u001b[0m\u001b[1;33m\u001b[0m\u001b[1;33m\u001b[0m\u001b[0m\n",
      "\u001b[1;31mTypeError\u001b[0m: sum_nums1() takes 1 positional argument but 3 were given"
     ]
    }
   ],
   "source": [
    "v = sum_nums1([1,2,3,4,5])\n",
    "print(v)\n",
    "\n",
    "v = sum_nums1((1,2,3,4,5))\n",
    "print(v)\n",
    "\n",
    "v = sum_nums1(1,2,3)\n",
    "print(v)"
   ]
  },
  {
   "cell_type": "markdown",
   "metadata": {},
   "source": [
    "- `*`를 인수(argument) 앞에 붙여줌으로 가변인수를 만듦\n",
    "- 몇개의 값을 받을 지 모를 때 나열해서 입력 하면 자동적으로 튜플로 받음"
   ]
  },
  {
   "cell_type": "code",
   "execution_count": 116,
   "metadata": {},
   "outputs": [],
   "source": [
    "def sum_nums2(*num_list):\n",
    "    result = 0\n",
    "    for num in num_list:\n",
    "        print(type(num_list))\n",
    "        result += num\n",
    "    return result"
   ]
  },
  {
   "cell_type": "code",
   "execution_count": 117,
   "metadata": {},
   "outputs": [
    {
     "name": "stdout",
     "output_type": "stream",
     "text": [
      "<class 'tuple'>\n",
      "<class 'tuple'>\n",
      "<class 'tuple'>\n",
      "6\n",
      "0\n"
     ]
    }
   ],
   "source": [
    "v = sum_nums2(1,2,3)\n",
    "print(v)\n",
    "print(sum_nums2())"
   ]
  },
  {
   "cell_type": "markdown",
   "metadata": {},
   "source": [
    "*가변인수-보통인자: 형태가 안맞기 때문에 에러남* <br>\n",
    "*가변인수-가변인자로 형태를 맞추어 주어야함*"
   ]
  },
  {
   "cell_type": "code",
   "execution_count": 122,
   "metadata": {
    "scrolled": true
   },
   "outputs": [
    {
     "name": "stdout",
     "output_type": "stream",
     "text": [
      "<class 'tuple'>\n"
     ]
    },
    {
     "ename": "TypeError",
     "evalue": "unsupported operand type(s) for +=: 'int' and 'list'",
     "output_type": "error",
     "traceback": [
      "\u001b[1;31m---------------------------------------------------------------------------\u001b[0m",
      "\u001b[1;31mTypeError\u001b[0m                                 Traceback (most recent call last)",
      "\u001b[1;32m<ipython-input-122-9d15a3887311>\u001b[0m in \u001b[0;36m<module>\u001b[1;34m\u001b[0m\n\u001b[0;32m      1\u001b[0m \u001b[0ml\u001b[0m \u001b[1;33m=\u001b[0m \u001b[1;33m[\u001b[0m\u001b[1;36m1\u001b[0m\u001b[1;33m,\u001b[0m\u001b[1;36m2\u001b[0m\u001b[1;33m,\u001b[0m\u001b[1;36m3\u001b[0m\u001b[1;33m,\u001b[0m\u001b[1;36m4\u001b[0m\u001b[1;33m,\u001b[0m\u001b[1;36m5\u001b[0m\u001b[1;33m]\u001b[0m\u001b[1;33m\u001b[0m\u001b[1;33m\u001b[0m\u001b[0m\n\u001b[1;32m----> 2\u001b[1;33m \u001b[0mv\u001b[0m \u001b[1;33m=\u001b[0m \u001b[0msum_nums2\u001b[0m\u001b[1;33m(\u001b[0m\u001b[0ml\u001b[0m\u001b[1;33m)\u001b[0m\u001b[1;33m\u001b[0m\u001b[1;33m\u001b[0m\u001b[0m\n\u001b[0m",
      "\u001b[1;32m<ipython-input-116-8aaeb18f1f63>\u001b[0m in \u001b[0;36msum_nums2\u001b[1;34m(*num_list)\u001b[0m\n\u001b[0;32m      3\u001b[0m     \u001b[1;32mfor\u001b[0m \u001b[0mnum\u001b[0m \u001b[1;32min\u001b[0m \u001b[0mnum_list\u001b[0m\u001b[1;33m:\u001b[0m\u001b[1;33m\u001b[0m\u001b[1;33m\u001b[0m\u001b[0m\n\u001b[0;32m      4\u001b[0m         \u001b[0mprint\u001b[0m\u001b[1;33m(\u001b[0m\u001b[0mtype\u001b[0m\u001b[1;33m(\u001b[0m\u001b[0mnum_list\u001b[0m\u001b[1;33m)\u001b[0m\u001b[1;33m)\u001b[0m\u001b[1;33m\u001b[0m\u001b[1;33m\u001b[0m\u001b[0m\n\u001b[1;32m----> 5\u001b[1;33m         \u001b[0mresult\u001b[0m \u001b[1;33m+=\u001b[0m \u001b[0mnum\u001b[0m\u001b[1;33m\u001b[0m\u001b[1;33m\u001b[0m\u001b[0m\n\u001b[0m\u001b[0;32m      6\u001b[0m     \u001b[1;32mreturn\u001b[0m \u001b[0mresult\u001b[0m\u001b[1;33m\u001b[0m\u001b[1;33m\u001b[0m\u001b[0m\n",
      "\u001b[1;31mTypeError\u001b[0m: unsupported operand type(s) for +=: 'int' and 'list'"
     ]
    }
   ],
   "source": [
    "l = [1,2,3,4,5]\n",
    "v = sum_nums2(l)\n",
    "# --> [list]+num (0)가 되기 때문에 에러남"
   ]
  },
  {
   "cell_type": "markdown",
   "metadata": {},
   "source": [
    "- `*`를 인자(parameter) 앖에 붙여줌으로 가변인자를 만듦. "
   ]
  },
  {
   "cell_type": "code",
   "execution_count": 123,
   "metadata": {
    "scrolled": true
   },
   "outputs": [
    {
     "name": "stdout",
     "output_type": "stream",
     "text": [
      "<class 'tuple'>\n",
      "<class 'tuple'>\n",
      "<class 'tuple'>\n",
      "<class 'tuple'>\n",
      "<class 'tuple'>\n"
     ]
    }
   ],
   "source": [
    "l = [1,2,3,4,5]\n",
    "v = sum_nums2(*l) #리스트(튜플)의 원소들을 가변인자로 전달. "
   ]
  },
  {
   "cell_type": "markdown",
   "metadata": {},
   "source": [
    "### 가변인수: `**변수명`\n",
    "- 호출할때 keyword 인수 형태로 전달하고 가변인수는 전달된 값을 dictionary로 처리한다\n",
    "- 값의 개수는 제한없음"
   ]
  },
  {
   "cell_type": "code",
   "execution_count": 125,
   "metadata": {},
   "outputs": [],
   "source": [
    "def personInfo(**info):\n",
    "    print(\"ID:\", info.get(\"id\"))\n",
    "    print(\"이름:\", info.get(\"name\"))\n",
    "    print(\"I나이:\", info.get(\"age\"))\n",
    "    print(type(info))\n",
    "    print(info)"
   ]
  },
  {
   "cell_type": "code",
   "execution_count": 127,
   "metadata": {},
   "outputs": [
    {
     "name": "stdout",
     "output_type": "stream",
     "text": [
      "ID: id-0\n",
      "이름: None\n",
      "I나이: 20\n",
      "<class 'dict'>\n",
      "{'id': 'id-0', 'age': 20, 'address': '서울'}\n"
     ]
    }
   ],
   "source": [
    "personInfo(id=\"id-0\", age=20, address = \"서울\")"
   ]
  },
  {
   "cell_type": "code",
   "execution_count": 130,
   "metadata": {},
   "outputs": [
    {
     "name": "stdout",
     "output_type": "stream",
     "text": [
      "ID: id-0\n",
      "이름: None\n",
      "I나이: 20\n",
      "<class 'dict'>\n",
      "{'id': 'id-0', 'age': 20, 'address': '서울'}\n"
     ]
    }
   ],
   "source": [
    "info = {'id': 'id-0', 'age': 20, 'address': '서울'}\n",
    "personInfo(**info)"
   ]
  },
  {
   "cell_type": "markdown",
   "metadata": {},
   "source": [
    "- 가변인수는 하나의 함수에 한개씩만 선언 할 수 있다.\n",
    "- 가변인수는 일반 매개변수 다음에 선언해야 한다.\n",
    "- 변수명 관례: `*args`, `**kwargs`"
   ]
  },
  {
   "cell_type": "code",
   "execution_count": 133,
   "metadata": {},
   "outputs": [
    {
     "ename": "SyntaxError",
     "evalue": "invalid syntax (<ipython-input-133-b3fb24211880>, line 5)",
     "output_type": "error",
     "traceback": [
      "\u001b[1;36m  File \u001b[1;32m\"<ipython-input-133-b3fb24211880>\"\u001b[1;36m, line \u001b[1;32m5\u001b[0m\n\u001b[1;33m    def a(*c,*d):\u001b[0m\n\u001b[1;37m             ^\u001b[0m\n\u001b[1;31mSyntaxError\u001b[0m\u001b[1;31m:\u001b[0m invalid syntax\n"
     ]
    }
   ],
   "source": [
    "#가능\n",
    "def a(n, m, *x, **y):\n",
    "    pass\n",
    "#불가능\n",
    "def a(*c,*d):\n",
    "    pass"
   ]
  },
  {
   "cell_type": "code",
   "execution_count": 137,
   "metadata": {},
   "outputs": [
    {
     "ename": "SyntaxError",
     "evalue": "invalid syntax (<ipython-input-137-3bda2965a67b>, line 2)",
     "output_type": "error",
     "traceback": [
      "\u001b[1;36m  File \u001b[1;32m\"<ipython-input-137-3bda2965a67b>\"\u001b[1;36m, line \u001b[1;32m2\u001b[0m\n\u001b[1;33m    def a(**y, m):\u001b[0m\n\u001b[1;37m               ^\u001b[0m\n\u001b[1;31mSyntaxError\u001b[0m\u001b[1;31m:\u001b[0m invalid syntax\n"
     ]
    }
   ],
   "source": [
    "#불가능\n",
    "def a(**y, m):\n",
    "    pass"
   ]
  },
  {
   "cell_type": "markdown",
   "metadata": {},
   "source": [
    "## 리턴값(Return value)\n",
    "- return 반환값: 호출한 곳으로 반환값을 가지고 돌아가라\n",
    "- return: 호출한 곳으로 돌아가라\n",
    "- 반환값 생략시 None이 반환\n",
    "- 반환값이 없을 경우(None) return 구문 생략할 수 있다"
   ]
  },
  {
   "cell_type": "code",
   "execution_count": 70,
   "metadata": {},
   "outputs": [],
   "source": [
    "def plus2(num1, num2, num3):\n",
    "    result = num1 + num2 + num3\n",
    "    return result #return 반환값(result)"
   ]
  },
  {
   "cell_type": "code",
   "execution_count": 49,
   "metadata": {},
   "outputs": [
    {
     "data": {
      "text/plain": [
       "-14"
      ]
     },
     "execution_count": 49,
     "metadata": {},
     "output_type": "execute_result"
    }
   ],
   "source": [
    "i = plus2(1,2,3)\n",
    "i-20"
   ]
  },
  {
   "cell_type": "markdown",
   "metadata": {},
   "source": [
    "반환값이 여러개인 경우 => 자료구조로 묶어서 반환. (반환값은 1개만 가능하기 때문)"
   ]
  },
  {
   "cell_type": "markdown",
   "metadata": {},
   "source": [
    "- 튜플로 반환"
   ]
  },
  {
   "cell_type": "code",
   "execution_count": null,
   "metadata": {},
   "outputs": [],
   "source": [
    "def calculate(num1, num2):\n",
    "    r1 = num1+num2\n",
    "    r2 = num1-num2\n",
    "    r3 = num1*num2\n",
    "    r4 = num1/num2\n",
    "    return r1, r2, r3, r4 #튜플로 묶어준 형식.()가 생략됨\n"
   ]
  },
  {
   "cell_type": "markdown",
   "metadata": {},
   "source": [
    "- 리스트로 반환"
   ]
  },
  {
   "cell_type": "code",
   "execution_count": 54,
   "metadata": {},
   "outputs": [],
   "source": [
    "def calculate(num1, num2):\n",
    "    r1 = num1+num2\n",
    "    r2 = num1-num2\n",
    "    r3 = num1*num2\n",
    "    r4 = num1/num2\n",
    "    return [r1,r2,r3,r4]"
   ]
  },
  {
   "cell_type": "code",
   "execution_count": 55,
   "metadata": {},
   "outputs": [
    {
     "name": "stdout",
     "output_type": "stream",
     "text": [
      "3 -1 2 0.5\n"
     ]
    }
   ],
   "source": [
    "add,sub,mult,div = calculate(1,2) #튜풀대입/리스트 대입 의 형식으로 반환\n",
    "print(add,sub,mult,div)"
   ]
  },
  {
   "cell_type": "code",
   "execution_count": 56,
   "metadata": {},
   "outputs": [
    {
     "name": "stdout",
     "output_type": "stream",
     "text": [
      "[30, -10, 200, 0.5]\n"
     ]
    }
   ],
   "source": [
    "v = calculate(10,20)\n",
    "print(v)"
   ]
  },
  {
   "cell_type": "markdown",
   "metadata": {},
   "source": [
    "- 딕셔너리로 반환"
   ]
  },
  {
   "cell_type": "code",
   "execution_count": 67,
   "metadata": {},
   "outputs": [],
   "source": [
    "def calculate2(num1, num2):\n",
    "    r1 = num1+num2\n",
    "    r2 = num1-num2\n",
    "    r3 = num1*num2\n",
    "    r4 = num1/num2\n",
    "    return{\n",
    "        \"덧셈\":r1, \"뺄셈\":r2, \"곱셈\":r3, \"나눗셉\":r4\n",
    "    } "
   ]
  },
  {
   "cell_type": "code",
   "execution_count": 69,
   "metadata": {},
   "outputs": [
    {
     "name": "stdout",
     "output_type": "stream",
     "text": [
      "3\n",
      "{'덧셈': 3, '뺄셈': -1, '곱셈': 2, '나눗셉': 0.5}\n"
     ]
    }
   ],
   "source": [
    "d = calculate2(1,2)\n",
    "print(d[\"덧셈\"])\n",
    "print(d)"
   ]
  },
  {
   "cell_type": "markdown",
   "metadata": {},
   "source": [
    "# 함수는 일급시민객체 (First Class Citizen Object)\n",
    "- 일급시민객체\n",
    "    - 변수에 대입 가능\n",
    "    - 함수 호출시 매개변수로 전달 할 수 있어야 한다.\n",
    "    - 함수의 반환값으로 사용할 수 있어야 한다."
   ]
  },
  {
   "cell_type": "code",
   "execution_count": 140,
   "metadata": {},
   "outputs": [],
   "source": [
    "def hello(name):\n",
    "    print(name+\" 안녕하세요.\")"
   ]
  },
  {
   "cell_type": "code",
   "execution_count": 141,
   "metadata": {},
   "outputs": [
    {
     "name": "stdout",
     "output_type": "stream",
     "text": [
      "홍길동 안녕하세요.\n"
     ]
    }
   ],
   "source": [
    "hello(\"홍길동\")"
   ]
  },
  {
   "cell_type": "code",
   "execution_count": 143,
   "metadata": {},
   "outputs": [
    {
     "name": "stdout",
     "output_type": "stream",
     "text": [
      "이순신 안녕하세요.\n"
     ]
    }
   ],
   "source": [
    "my_hello = hello #my_hello로 hello와 같은 함수정의를 함\n",
    "my_hello(\"이순신\")"
   ]
  },
  {
   "cell_type": "markdown",
   "metadata": {},
   "source": [
    "함수2 = 함수1 => 함수2도 함수1과 같은 일을 하게 만듦"
   ]
  },
  {
   "cell_type": "code",
   "execution_count": 148,
   "metadata": {},
   "outputs": [
    {
     "name": "stdout",
     "output_type": "stream",
     "text": [
      "<class 'dict'>\n",
      "{'덧셉': 3, '뺄셈': -1, '곱셈': 2, '나눗셉': 0.5}\n",
      "<class 'function'>\n",
      "<function calculate at 0x000001D0B2169AE8>\n"
     ]
    },
    {
     "data": {
      "text/plain": [
       "{'덧셉': 3, '뺄셈': -1, '곱셈': 2, '나눗셉': 0.5}"
      ]
     },
     "execution_count": 148,
     "metadata": {},
     "output_type": "execute_result"
    }
   ],
   "source": [
    "calculate(1,2)\n",
    "calc1 = calculate(1,2) #함수호출. calc1이 반환값\n",
    "calc2 = calculate      #calc2를 calculate함수와 같은 일을 하는 함수로 정의\n",
    "\n",
    "print(type(calc1))\n",
    "print(calc1)\n",
    "print(type(calc2))\n",
    "print(calc2)\n",
    "calc2(1,2)"
   ]
  },
  {
   "cell_type": "markdown",
   "metadata": {},
   "source": [
    "값은 있는데 어떤 일을 할지 모르는 경우\n",
    "- 함수를 불러서 함수를 처리"
   ]
  },
  {
   "cell_type": "code",
   "execution_count": 150,
   "metadata": {},
   "outputs": [],
   "source": [
    "def calculate3(func):\n",
    "    num1 = 10\n",
    "    num2 = 20\n",
    "    result = func(num1,num2)\n",
    "    print(result)"
   ]
  },
  {
   "cell_type": "code",
   "execution_count": 151,
   "metadata": {},
   "outputs": [],
   "source": [
    "def plus(n1,n2):\n",
    "    return n1+n2"
   ]
  },
  {
   "cell_type": "code",
   "execution_count": 153,
   "metadata": {},
   "outputs": [
    {
     "name": "stdout",
     "output_type": "stream",
     "text": [
      "30\n"
     ]
    }
   ],
   "source": [
    "calculate3(plus)"
   ]
  },
  {
   "cell_type": "code",
   "execution_count": 155,
   "metadata": {},
   "outputs": [],
   "source": [
    "def minus(n1,n2):\n",
    "    return n1-n2"
   ]
  },
  {
   "cell_type": "code",
   "execution_count": 156,
   "metadata": {},
   "outputs": [
    {
     "name": "stdout",
     "output_type": "stream",
     "text": [
      "-10\n"
     ]
    }
   ],
   "source": [
    "calculate3(minus)"
   ]
  },
  {
   "cell_type": "markdown",
   "metadata": {},
   "source": [
    "## 람다식(Lambda) - 익명함수\n",
    "- 단일 구문으로 표현하는 익명의 함수\n",
    "- 익명함수: 이름없이 구현만 가지고 있는 함수\n",
    "- 일회성 함수를 만들 때 사용한다\n",
    "- 구문\n",
    "\n",
    "\n",
    "```python \n",
    "#[] 생략가능\n",
    "lambda [매개변수] : 명령문\n",
    "\n",
    "```\n",
    "- 명령문: \n",
    "    - 하나의 명령문만 가능. \n",
    "    - 반환값이 있어야 한다 (명령문이 반환하는 값을 람다함수가 변환)"
   ]
  },
  {
   "cell_type": "code",
   "execution_count": 160,
   "metadata": {},
   "outputs": [
    {
     "data": {
      "text/plain": [
       "<function __main__.minus(n1, n2)>"
      ]
     },
     "execution_count": 160,
     "metadata": {},
     "output_type": "execute_result"
    }
   ],
   "source": [
    "def minus(n1,n2):\n",
    "    return n1-n2\n",
    "minus"
   ]
  },
  {
   "cell_type": "code",
   "execution_count": 158,
   "metadata": {},
   "outputs": [
    {
     "data": {
      "text/plain": [
       "<function __main__.<lambda>(n1, n2)>"
      ]
     },
     "execution_count": 158,
     "metadata": {},
     "output_type": "execute_result"
    }
   ],
   "source": [
    "lambda n1,n2 : n1-n2"
   ]
  },
  {
   "cell_type": "code",
   "execution_count": 163,
   "metadata": {},
   "outputs": [
    {
     "data": {
      "text/plain": [
       "-1"
      ]
     },
     "execution_count": 163,
     "metadata": {},
     "output_type": "execute_result"
    }
   ],
   "source": [
    "fun = lambda n1,n2 : n1-n2 # 재사용 가능\n",
    "fun(1,2)"
   ]
  },
  {
   "cell_type": "code",
   "execution_count": 162,
   "metadata": {},
   "outputs": [
    {
     "data": {
      "text/plain": [
       "200"
      ]
     },
     "execution_count": 162,
     "metadata": {},
     "output_type": "execute_result"
    }
   ],
   "source": [
    "(lambda x:x*20)(10) # 한번 쓰고 소모하는 함수"
   ]
  },
  {
   "cell_type": "code",
   "execution_count": 164,
   "metadata": {},
   "outputs": [],
   "source": [
    "def calculate3(func):\n",
    "    num1 = 1\n",
    "    num2 = 2\n",
    "    result = func(num1,num2)\n",
    "    print(result)"
   ]
  },
  {
   "cell_type": "code",
   "execution_count": 168,
   "metadata": {},
   "outputs": [
    {
     "name": "stdout",
     "output_type": "stream",
     "text": [
      "-1\n"
     ]
    }
   ],
   "source": [
    "calculate3(lambda x,y:x-y)"
   ]
  },
  {
   "cell_type": "code",
   "execution_count": 169,
   "metadata": {},
   "outputs": [
    {
     "name": "stdout",
     "output_type": "stream",
     "text": [
      "2\n"
     ]
    }
   ],
   "source": [
    "calculate3(lambda x,y:x*y)"
   ]
  },
  {
   "cell_type": "code",
   "execution_count": 171,
   "metadata": {},
   "outputs": [
    {
     "data": {
      "text/plain": [
       "['234234fsdaffda', 'dfaf', 'e', 'fafsdff', 'werw']"
      ]
     },
     "execution_count": 171,
     "metadata": {},
     "output_type": "execute_result"
    }
   ],
   "source": [
    "str_list = ['dfaf','fafsdff','werw','e','234234fsdaffda']\n",
    "str_list.sort() # 사전식 배열로 sort\n",
    "str_list"
   ]
  },
  {
   "cell_type": "code",
   "execution_count": 172,
   "metadata": {},
   "outputs": [
    {
     "data": {
      "text/plain": [
       "['e', 'dfaf', 'werw', 'fafsdff', '234234fsdaffda']"
      ]
     },
     "execution_count": 172,
     "metadata": {},
     "output_type": "execute_result"
    }
   ],
   "source": [
    "str_list = ['dfaf','fafsdff','werw','e','234234fsdaffda']\n",
    "str_list.sort(key=lambda x:len(x)) #.sort(key=함수): 함수가 반환하는 순서로 정렬\n",
    "str_list"
   ]
  },
  {
   "cell_type": "code",
   "execution_count": 228,
   "metadata": {},
   "outputs": [
    {
     "data": {
      "text/plain": [
       "['e', 'dfaf', 'werw', 'fafsdff', '234234fsdaffda']"
      ]
     },
     "execution_count": 228,
     "metadata": {},
     "output_type": "execute_result"
    }
   ],
   "source": [
    "str_list = ['dfaf','fafsdff','werw','e','234234fsdaffda']\n",
    "str_list.sort(key=len)\n",
    "str_list"
   ]
  },
  {
   "cell_type": "markdown",
   "metadata": {},
   "source": [
    "`filter(함수, 리스트)`:\n",
    "- 리스트내 원소들중 특정 조건을 만족하는 것들만 걸러내는 함수.\n",
    "- 원소 하나 하나를 함수에 전달해 True를 반환하는 것만 남긴다. \n",
    "- 반환타입은 bool이 됨"
   ]
  },
  {
   "cell_type": "code",
   "execution_count": 2,
   "metadata": {},
   "outputs": [
    {
     "data": {
      "text/plain": [
       "<filter at 0x1ddfe28b470>"
      ]
     },
     "execution_count": 2,
     "metadata": {},
     "output_type": "execute_result"
    }
   ],
   "source": [
    "num_list = list(range(1,100))\n",
    "even_list = filter(lambda x:x%2==0 ,num_list) # 일을 할 방법을 가지고 있다가 호출 됐을때 일을 함. (lazy실행). 한번 쓰고 버림\n",
    "even_list #iterable type (generator - range()같은 역할을 함) \n",
    "\n",
    "#print(list(even_list))  "
   ]
  },
  {
   "cell_type": "code",
   "execution_count": 223,
   "metadata": {},
   "outputs": [
    {
     "name": "stdout",
     "output_type": "stream",
     "text": [
      "2 4 6 8 10 12 14 16 18 20 22 24 26 28 30 32 34 36 38 40 42 44 46 48 50 52 54 56 58 60 62 64 66 68 70 72 74 76 78 80 82 84 86 88 90 92 94 96 98 "
     ]
    }
   ],
   "source": [
    "for i in even_list:\n",
    "    print(i, end=\" \")"
   ]
  },
  {
   "cell_type": "code",
   "execution_count": 226,
   "metadata": {
    "collapsed": true
   },
   "outputs": [
    {
     "data": {
      "text/plain": [
       "[2,\n",
       " 4,\n",
       " 6,\n",
       " 8,\n",
       " 10,\n",
       " 12,\n",
       " 14,\n",
       " 16,\n",
       " 18,\n",
       " 20,\n",
       " 22,\n",
       " 24,\n",
       " 26,\n",
       " 28,\n",
       " 30,\n",
       " 32,\n",
       " 34,\n",
       " 36,\n",
       " 38,\n",
       " 40,\n",
       " 42,\n",
       " 44,\n",
       " 46,\n",
       " 48,\n",
       " 50,\n",
       " 52,\n",
       " 54,\n",
       " 56,\n",
       " 58,\n",
       " 60,\n",
       " 62,\n",
       " 64,\n",
       " 66,\n",
       " 68,\n",
       " 70,\n",
       " 72,\n",
       " 74,\n",
       " 76,\n",
       " 78,\n",
       " 80,\n",
       " 82,\n",
       " 84,\n",
       " 86,\n",
       " 88,\n",
       " 90,\n",
       " 92,\n",
       " 94,\n",
       " 96,\n",
       " 98]"
      ]
     },
     "execution_count": 226,
     "metadata": {},
     "output_type": "execute_result"
    }
   ],
   "source": [
    "ㅣ = [num for num in num_list if num%2 == 0] #list(even_list)와 같은 일을 함\n",
    "                                              # 실행되는 시점에 결과값을 메모리에 저장 (램 자리 차지하고 있음)\n",
    "                                              # filter는 방법을 가지고 있다가 사용할때 값을 만들음. "
   ]
  },
  {
   "cell_type": "markdown",
   "metadata": {},
   "source": [
    "`map(함수, 리스트)`: \n",
    "- 리스트내 원소들을 처리해서 변형한 결과를 iterable로 반환한다"
   ]
  },
  {
   "cell_type": "code",
   "execution_count": 236,
   "metadata": {
    "collapsed": true
   },
   "outputs": [
    {
     "data": {
      "text/plain": [
       "[200,\n",
       " 400,\n",
       " 600,\n",
       " 800,\n",
       " 1000,\n",
       " 1200,\n",
       " 1400,\n",
       " 1600,\n",
       " 1800,\n",
       " 2000,\n",
       " 2200,\n",
       " 2400,\n",
       " 2600,\n",
       " 2800,\n",
       " 3000,\n",
       " 3200,\n",
       " 3400,\n",
       " 3600,\n",
       " 3800,\n",
       " 4000,\n",
       " 4200,\n",
       " 4400,\n",
       " 4600,\n",
       " 4800,\n",
       " 5000,\n",
       " 5200,\n",
       " 5400,\n",
       " 5600,\n",
       " 5800,\n",
       " 6000,\n",
       " 6200,\n",
       " 6400,\n",
       " 6600,\n",
       " 6800,\n",
       " 7000,\n",
       " 7200,\n",
       " 7400,\n",
       " 7600,\n",
       " 7800,\n",
       " 8000,\n",
       " 8200,\n",
       " 8400,\n",
       " 8600,\n",
       " 8800,\n",
       " 9000,\n",
       " 9200,\n",
       " 9400,\n",
       " 9600,\n",
       " 9800,\n",
       " 10000,\n",
       " 10200,\n",
       " 10400,\n",
       " 10600,\n",
       " 10800,\n",
       " 11000,\n",
       " 11200,\n",
       " 11400,\n",
       " 11600,\n",
       " 11800,\n",
       " 12000,\n",
       " 12200,\n",
       " 12400,\n",
       " 12600,\n",
       " 12800,\n",
       " 13000,\n",
       " 13200,\n",
       " 13400,\n",
       " 13600,\n",
       " 13800,\n",
       " 14000,\n",
       " 14200,\n",
       " 14400,\n",
       " 14600,\n",
       " 14800,\n",
       " 15000,\n",
       " 15200,\n",
       " 15400,\n",
       " 15600,\n",
       " 15800,\n",
       " 16000,\n",
       " 16200,\n",
       " 16400,\n",
       " 16600,\n",
       " 16800,\n",
       " 17000,\n",
       " 17200,\n",
       " 17400,\n",
       " 17600,\n",
       " 17800,\n",
       " 18000,\n",
       " 18200,\n",
       " 18400,\n",
       " 18600,\n",
       " 18800,\n",
       " 19000,\n",
       " 19200,\n",
       " 19400,\n",
       " 19600,\n",
       " 19800]"
      ]
     },
     "execution_count": 236,
     "metadata": {},
     "output_type": "execute_result"
    }
   ],
   "source": [
    "m = map(lambda x:x*200,num_list) #게으른 실행\n",
    "list(m)"
   ]
  },
  {
   "cell_type": "code",
   "execution_count": 235,
   "metadata": {
    "collapsed": true
   },
   "outputs": [
    {
     "data": {
      "text/plain": [
       "[200,\n",
       " 400,\n",
       " 600,\n",
       " 800,\n",
       " 1000,\n",
       " 1200,\n",
       " 1400,\n",
       " 1600,\n",
       " 1800,\n",
       " 2000,\n",
       " 2200,\n",
       " 2400,\n",
       " 2600,\n",
       " 2800,\n",
       " 3000,\n",
       " 3200,\n",
       " 3400,\n",
       " 3600,\n",
       " 3800,\n",
       " 4000,\n",
       " 4200,\n",
       " 4400,\n",
       " 4600,\n",
       " 4800,\n",
       " 5000,\n",
       " 5200,\n",
       " 5400,\n",
       " 5600,\n",
       " 5800,\n",
       " 6000,\n",
       " 6200,\n",
       " 6400,\n",
       " 6600,\n",
       " 6800,\n",
       " 7000,\n",
       " 7200,\n",
       " 7400,\n",
       " 7600,\n",
       " 7800,\n",
       " 8000,\n",
       " 8200,\n",
       " 8400,\n",
       " 8600,\n",
       " 8800,\n",
       " 9000,\n",
       " 9200,\n",
       " 9400,\n",
       " 9600,\n",
       " 9800,\n",
       " 10000,\n",
       " 10200,\n",
       " 10400,\n",
       " 10600,\n",
       " 10800,\n",
       " 11000,\n",
       " 11200,\n",
       " 11400,\n",
       " 11600,\n",
       " 11800,\n",
       " 12000,\n",
       " 12200,\n",
       " 12400,\n",
       " 12600,\n",
       " 12800,\n",
       " 13000,\n",
       " 13200,\n",
       " 13400,\n",
       " 13600,\n",
       " 13800,\n",
       " 14000,\n",
       " 14200,\n",
       " 14400,\n",
       " 14600,\n",
       " 14800,\n",
       " 15000,\n",
       " 15200,\n",
       " 15400,\n",
       " 15600,\n",
       " 15800,\n",
       " 16000,\n",
       " 16200,\n",
       " 16400,\n",
       " 16600,\n",
       " 16800,\n",
       " 17000,\n",
       " 17200,\n",
       " 17400,\n",
       " 17600,\n",
       " 17800,\n",
       " 18000,\n",
       " 18200,\n",
       " 18400,\n",
       " 18600,\n",
       " 18800,\n",
       " 19000,\n",
       " 19200,\n",
       " 19400,\n",
       " 19600,\n",
       " 19800]"
      ]
     },
     "execution_count": 235,
     "metadata": {},
     "output_type": "execute_result"
    }
   ],
   "source": [
    "[num*200 for num in num_list]"
   ]
  },
  {
   "cell_type": "markdown",
   "metadata": {},
   "source": [
    "- map\n",
    "- filter\n",
    "- reduce: 계산하면서 줄여나감. \n",
    "<img src=\"4_1.jpg\">"
   ]
  },
  {
   "cell_type": "code",
   "execution_count": 3,
   "metadata": {},
   "outputs": [
    {
     "data": {
      "text/plain": [
       "[100,\n",
       " 300,\n",
       " 500,\n",
       " 700,\n",
       " 900,\n",
       " 1100,\n",
       " 1300,\n",
       " 1500,\n",
       " 1700,\n",
       " 1900,\n",
       " 2100,\n",
       " 2300,\n",
       " 2500,\n",
       " 2700,\n",
       " 2900,\n",
       " 3100,\n",
       " 3300,\n",
       " 3500,\n",
       " 3700,\n",
       " 3900,\n",
       " 4100,\n",
       " 4300,\n",
       " 4500,\n",
       " 4700,\n",
       " 4900,\n",
       " 5100,\n",
       " 5300,\n",
       " 5500,\n",
       " 5700,\n",
       " 5900,\n",
       " 6100,\n",
       " 6300,\n",
       " 6500,\n",
       " 6700,\n",
       " 6900,\n",
       " 7100,\n",
       " 7300,\n",
       " 7500,\n",
       " 7700,\n",
       " 7900,\n",
       " 8100,\n",
       " 8300,\n",
       " 8500,\n",
       " 8700,\n",
       " 8900,\n",
       " 9100,\n",
       " 9300,\n",
       " 9500,\n",
       " 9700,\n",
       " 9900]"
      ]
     },
     "execution_count": 3,
     "metadata": {},
     "output_type": "execute_result"
    }
   ],
   "source": [
    "#num_list 홀수 * 100\n",
    "m = map(lambda x:x*100,filter(lambda x:x%2!=0,num_list))\n",
    "list(m)"
   ]
  },
  {
   "cell_type": "code",
   "execution_count": 238,
   "metadata": {
    "collapsed": true
   },
   "outputs": [
    {
     "data": {
      "text/plain": [
       "[100,\n",
       " 300,\n",
       " 500,\n",
       " 700,\n",
       " 900,\n",
       " 1100,\n",
       " 1300,\n",
       " 1500,\n",
       " 1700,\n",
       " 1900,\n",
       " 2100,\n",
       " 2300,\n",
       " 2500,\n",
       " 2700,\n",
       " 2900,\n",
       " 3100,\n",
       " 3300,\n",
       " 3500,\n",
       " 3700,\n",
       " 3900,\n",
       " 4100,\n",
       " 4300,\n",
       " 4500,\n",
       " 4700,\n",
       " 4900,\n",
       " 5100,\n",
       " 5300,\n",
       " 5500,\n",
       " 5700,\n",
       " 5900,\n",
       " 6100,\n",
       " 6300,\n",
       " 6500,\n",
       " 6700,\n",
       " 6900,\n",
       " 7100,\n",
       " 7300,\n",
       " 7500,\n",
       " 7700,\n",
       " 7900,\n",
       " 8100,\n",
       " 8300,\n",
       " 8500,\n",
       " 8700,\n",
       " 8900,\n",
       " 9100,\n",
       " 9300,\n",
       " 9500,\n",
       " 9700,\n",
       " 9900]"
      ]
     },
     "execution_count": 238,
     "metadata": {},
     "output_type": "execute_result"
    }
   ],
   "source": [
    "[num*100 for num in num_list if num%2!=0]"
   ]
  },
  {
   "cell_type": "markdown",
   "metadata": {},
   "source": [
    "`tab`: 자동완성 단축키\n",
    "- 메모리에 있는 애들만 나움\n",
    "- 오타 안나게 도움됨\n",
    "\n",
    "\n",
    "`shift + tab`: 설명나옴\n",
    "\n",
    "\n",
    "`shift + tab + tab`: 설명 펼쳐짐\n",
    "\n",
    "`?printInfo`: 설명 펼쳐짐\n",
    "\n",
    "docstring\n",
    "- 함수에 대한 설명\n",
    "- 함수의 구현부의 첫번째어 여러줄 문자열로 작성\n",
    "- 함수 매개변수/리턴타입에 대한 힌트(주석)\n",
    "- 설명넣는 방법:\n",
    "\n",
    "```python\n",
    "def printInfo(id:\"아이디-int\", name:str, age:int, address:\"주소\"=None)->\"리턴값주석\":\n",
    "    \"\"\"설명\n",
    "    매개변수 설명\n",
    "    리턴값 설명\n",
    "    예제\"\"\"\n",
    "\n",
    "```"
   ]
  },
  {
   "cell_type": "code",
   "execution_count": 251,
   "metadata": {},
   "outputs": [],
   "source": [
    "#함수에 대한 설명\n",
    "def printInfo(id:\"아이디-int\", name, age:int, address=None)->\"리턴값주석\":\n",
    "    \"\"\"설명\n",
    "    매개변수 설명\n",
    "    리턴값 설명\n",
    "    예제\"\"\"\n",
    "\n",
    "    return f'{id},{name},{age},{address}'"
   ]
  },
  {
   "cell_type": "code",
   "execution_count": 252,
   "metadata": {
    "scrolled": true
   },
   "outputs": [
    {
     "data": {
      "text/plain": [
       "<function __main__.printInfo(id: '아이디-int', name, age: int, address=None) -> '리턴값주석'>"
      ]
     },
     "execution_count": 252,
     "metadata": {},
     "output_type": "execute_result"
    }
   ],
   "source": [
    "printInfo"
   ]
  }
 ],
 "metadata": {
  "kernelspec": {
   "display_name": "Python 3",
   "language": "python",
   "name": "python3"
  },
  "language_info": {
   "codemirror_mode": {
    "name": "ipython",
    "version": 3
   },
   "file_extension": ".py",
   "mimetype": "text/x-python",
   "name": "python",
   "nbconvert_exporter": "python",
   "pygments_lexer": "ipython3",
   "version": "3.7.3"
  }
 },
 "nbformat": 4,
 "nbformat_minor": 2
}
