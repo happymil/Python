{
 "cells": [
  {
   "cell_type": "markdown",
   "metadata": {},
   "source": [
    "강사: 김성환<br>\n",
    "수업관련 질문: kgmyh@naver.com <br>\n",
    "http://192.168.0.7/share/ 에서 강사가 올린 자료들 받을수 있음<br> \n",
    "\n",
    "---------------------------------------------------------------------------------\n",
    "# 과정 개요\n",
    "\n",
    "### 앞으로 배울 내용들\n",
    "- SQL - 관경(정형) 데이터를 다루는 언어\n",
    "- 데이터 전처리\n",
    "- 데이터 수집 (웹 크롤링), machine learning이 학습하기/분석하기 좋게 만들기.\n",
    "- 판다스 - SQL과 비슷\n",
    "- 넘파이 - vector처리, machine learning...\n",
    "- 머신러닝 - 데이터 기반 예측모델\n",
    "- 딥러닝 - type of machine learning algorithm 50s -> 90s-> 2000년대 실용\n",
    "- Django - 파이썬 프레임워크\n",
    "- VUE.JS - 자바 스크립트 라이브러리. 화면만들기 기술. 반응형 웹.\n",
    "--------------------------------------------------------------------------------\n",
    "\n",
    "# Tools\n",
    "\n",
    "### 파이썬\n",
    "- 주피터 노트북 (파이썬 기초)\n",
    "- visual studio code (코드 에디터; 일괄실용; 웹)\n",
    "- google colab (cloud base; GPU 제공)\n",
    "\n",
    "### SQL\n",
    " - oracle XE 11g\n",
    " - SQL Developer (에디터 역할 툴)\n",
    "\n",
    "# Python\n",
    "\n",
    "- Anaconda - python 개발/실행환경, python 배포판 (core+여러 라이브러리, tool, package 를 미리 묶어 배포해 놓음)\n",
    "- 파이썬 2점대, 3점대 문법이 다름. \n",
    "- 프로그래밍 언어 interpreted(번역) 방식: (고급언어 -> 번역 -> 저급/기계어)\n",
    "\n",
    "### 프로그래밍 언어 방식:\n",
    "- Interpreted 방식(대화형, 스크립트 언어): 단위별로 바꾸기 (e.g. jupyter notebook). interpreter (실행 환경) 필요. 장: O/S독립적 단: 느리다.\n",
    "- Compile 방식: 통째로 바꾸기 (e.g. visual studio code) 번역이 끝난 언어를 O/S에서 실행.  장: 빠르다. 단: O/S 종속 <br>\n",
    "\n",
    "대화형 코딩\n",
    "REPL\n",
    "READ `1+1`\n",
    "Eval `2`\n",
    "Print `2`\n",
    "Loop\n",
    "\n",
    "\n",
    "# Jupyter Notebook\n",
    "\n",
    "- 대화형 (interpreted) 방식\n",
    "- ***.md -> markdown (스타일, 문서작성 가능) 처리결과를 중간 중간 보여줄 수 있음\n",
    "\n",
    "### 단축키\n",
    "Help -> keyboard\n",
    "- Run (ctrl+enter/ shift+enter)\n",
    "- 명령모드: 셀에대한 상태를 바꿀때 (m) <-> (y)\n",
    "- A B add line\n",
    "- X delete <-> Z undo\n",
    "- esc <-> enter\n",
    "\n",
    "\n",
    "# Python 툴 설치\n",
    "\n",
    "- Python 라이브러리 배포: Pypi.org\n",
    "- 아나콘다 배포: anaconda.org/anaconda/repo 이곳의 툴은 조금 더 안정적이다.\n",
    "\n",
    "*위의 웹사이트에서 명령어를 따온 후 명령 프롬트에서 실행하면 설치됨*\n"
   ]
  },
  {
   "cell_type": "markdown",
   "metadata": {},
   "source": [
    "________________________________________________________________________________________________"
   ]
  },
  {
   "cell_type": "markdown",
   "metadata": {},
   "source": [
    "# Data\n",
    "\n",
    "## - 변수 (variable): \n",
    "- RAM에 저장할 공간을 만들고, 값을 저장. 이름을 붙여서 값을 불러냄. \n",
    "- 이름 = 초기값 (초기값에 이름을 주어라)\n",
    "- 튜플대입: `이름 (변수), 이름, 이름 = 값,값,값` <br>\n",
    "- python은 동적 타입 언어\n",
    "    - **동적 타입 언어**: e.g.) age = 10 / age = \"스무살\" 둘다 사용 가능.\n",
    "    - **정적 타입 언어**: 변수를 만들때 변수의 type를 정함 e.g.) C++; var type 정수  ->  나중에 텍스트 넣을수 없음 \n",
    "    - **상수** \n",
    "    - **literal value**:표현식 자체가 값 e.g) 1+2: literal 값이 아님; 3: literal 값"
   ]
  },
  {
   "cell_type": "markdown",
   "metadata": {},
   "source": [
    "### 변수선언및 초기화\n",
    "`변수명 = 값`\n",
    "- 처음 정의한 값 = 초기값\n",
    "- 변수는 반드시 선언하면서 값을 대입해야 한다.\n",
    "- 선언시 대입할 값이 없으면 None을 대입 (`name = None`)"
   ]
  },
  {
   "cell_type": "code",
   "execution_count": 276,
   "metadata": {},
   "outputs": [],
   "source": [
    "name = None #None: 값이 없다란 의미의 값.\n",
    "name"
   ]
  },
  {
   "cell_type": "markdown",
   "metadata": {},
   "source": [
    "- 가능한 구체적으로!\n",
    "- 이름을 만들때 규칙과 관례가 있다.\n",
    "    - 규칙: 어기면 에러남 <br>\n",
    "    e.g.)`name2 = \"김영수\"` <br> 가능\n",
    " `3name = \"박영희\"`  변수명은 숫자로 시작할수 없다.<br>\n",
    " `name$3 = \"박영희\"` 특수문자는 _ 만 가능\n",
    "    - 관례: 어기면 에러는 안나는데 서로 헷갈림; 소문자, _로 단어구별. <br>e.g.) customer_name: snake 표기. (customerName: camel표기는 python에서 사용X)"
   ]
  },
  {
   "cell_type": "markdown",
   "metadata": {},
   "source": [
    "### 변수사용\n",
    "- 조회: 변수명을 쓰면 그 변수가 가진 값을 조회해 사용한다. `변수명`\n",
    "- 변경: `변수명 = 새값`"
   ]
  },
  {
   "cell_type": "code",
   "execution_count": 280,
   "metadata": {},
   "outputs": [
    {
     "data": {
      "text/plain": [
       "30"
      ]
     },
     "execution_count": 280,
     "metadata": {},
     "output_type": "execute_result"
    }
   ],
   "source": [
    "# 주석(코드에 설명. 실행되지 않음) 시작, 끝: 엔터 -> 한줄주석\n",
    "\n",
    "age = 20 # 변수 선언; 초기값 20\n",
    "age = 30 #변경\n",
    "age # 변수조회"
   ]
  },
  {
   "cell_type": "markdown",
   "metadata": {},
   "source": [
    "- 변수에 값 대입\n",
    "    1. 여러 변수에 동일한 값 대입<br>\n",
    "     `a = b = c = 30`\n",
    "    1. 여러 변수에 다른 값 대입을 한 구문으로 처리<br>\n",
    "    `a, b, c = 10, 20, 30`"
   ]
  },
  {
   "cell_type": "markdown",
   "metadata": {},
   "source": [
    "- 제거: `del 변수명`"
   ]
  },
  {
   "cell_type": "code",
   "execution_count": 281,
   "metadata": {},
   "outputs": [
    {
     "ename": "NameError",
     "evalue": "name 'age' is not defined",
     "output_type": "error",
     "traceback": [
      "\u001b[1;31m---------------------------------------------------------------------------\u001b[0m",
      "\u001b[1;31mNameError\u001b[0m                                 Traceback (most recent call last)",
      "\u001b[1;32m<ipython-input-281-7061f09ae097>\u001b[0m in \u001b[0;36m<module>\u001b[1;34m\u001b[0m\n\u001b[0;32m      1\u001b[0m \u001b[1;32mdel\u001b[0m \u001b[0mage\u001b[0m \u001b[1;31m#변수 age를 제거\u001b[0m\u001b[1;33m\u001b[0m\u001b[1;33m\u001b[0m\u001b[0m\n\u001b[1;32m----> 2\u001b[1;33m \u001b[0mage\u001b[0m\u001b[1;33m\u001b[0m\u001b[1;33m\u001b[0m\u001b[0m\n\u001b[0m",
      "\u001b[1;31mNameError\u001b[0m: name 'age' is not defined"
     ]
    }
   ],
   "source": [
    "del age #변수 age를 제거\n",
    "age"
   ]
  },
  {
   "cell_type": "markdown",
   "metadata": {},
   "source": [
    "## - 처리 \n",
    "- 연산자 (기호)  e.g) +, -\n",
    "- 함수 (기능을 프로그램으로 작성)  e.g) sum"
   ]
  },
  {
   "cell_type": "code",
   "execution_count": 283,
   "metadata": {},
   "outputs": [
    {
     "data": {
      "text/plain": [
       "5"
      ]
     },
     "execution_count": 283,
     "metadata": {},
     "output_type": "execute_result"
    }
   ],
   "source": [
    "num2, num3 = 3,2\n",
    "num2 + num3"
   ]
  },
  {
   "cell_type": "code",
   "execution_count": 284,
   "metadata": {
    "scrolled": false
   },
   "outputs": [
    {
     "ename": "TypeError",
     "evalue": "can only concatenate str (not \"int\") to str",
     "output_type": "error",
     "traceback": [
      "\u001b[1;31m---------------------------------------------------------------------------\u001b[0m",
      "\u001b[1;31mTypeError\u001b[0m                                 Traceback (most recent call last)",
      "\u001b[1;32m<ipython-input-284-eb96c113259c>\u001b[0m in \u001b[0;36m<module>\u001b[1;34m\u001b[0m\n\u001b[0;32m      1\u001b[0m \u001b[0mnum2\u001b[0m \u001b[1;33m=\u001b[0m \u001b[1;34m\"삼십\"\u001b[0m\u001b[1;33m\u001b[0m\u001b[1;33m\u001b[0m\u001b[0m\n\u001b[1;32m----> 2\u001b[1;33m \u001b[0mnum2\u001b[0m\u001b[1;33m+\u001b[0m\u001b[0mnum3\u001b[0m\u001b[1;33m\u001b[0m\u001b[1;33m\u001b[0m\u001b[0m\n\u001b[0m",
      "\u001b[1;31mTypeError\u001b[0m: can only concatenate str (not \"int\") to str"
     ]
    }
   ],
   "source": [
    "num2 = \"삼십\"\n",
    "num2+num3"
   ]
  },
  {
   "cell_type": "code",
   "execution_count": 13,
   "metadata": {},
   "outputs": [
    {
     "data": {
      "text/plain": [
       "str"
      ]
     },
     "execution_count": 13,
     "metadata": {},
     "output_type": "execute_result"
    }
   ],
   "source": [
    "type(num2) #변수가 가진 값의 데이터타입 조회\n",
    "# str: 문자열, int: 정수, float: 실수, bool: 논리형"
   ]
  },
  {
   "cell_type": "code",
   "execution_count": 14,
   "metadata": {},
   "outputs": [
    {
     "data": {
      "text/plain": [
       "int"
      ]
     },
     "execution_count": 14,
     "metadata": {},
     "output_type": "execute_result"
    }
   ],
   "source": [
    "type(num3)"
   ]
  },
  {
   "cell_type": "markdown",
   "metadata": {},
   "source": [
    "_________________________________________________________________________________\n"
   ]
  },
  {
   "cell_type": "markdown",
   "metadata": {},
   "source": [
    "# Data type - 값(data) 분류\n",
    "\n",
    "data type 에 따라 표현식, 처리(연산자, 함수)가 달라짐.\n",
    "\n",
    "### 1. 숫자형 \n",
    "- 정수 (*int*) <font color = \"blue\"> 표현식: 1, 2, 3 </font>\n",
    "- 실수 (*float*) <font color = \"blue\">표현식: .7, 0.7, 5.7, 7.5e10</font>\n",
    "- 8진수 <font color = \"blue\">표현식: 0o34, 0o23</font>\n",
    "- 16진수 <font color = \"blue\">표현식: 0x2A, 0xFF</font>\n",
    "- 연산자: `** 제곱`; `// 나누기 몫`; `% 나머지`\n",
    "\n",
    "### 2. 문자열\n",
    "- string (*str*)\n",
    "\n",
    "### 3. 논리형\n",
    "- 참/거짓 표현 (*bool*)\n",
    "- 값(Value) 표현식:\n",
    "    - True: 참: 나머지\n",
    "    - False: 거짓: 0, None\n",
    "- 주로 조건문에서 많이 사용\n",
    "- bool(값) 함수\n",
    "\n",
    "- 연산자:\n",
    "    - **비교 연산자**: 결과를 논리형. `== 같다`, `!= 같지 않다`, `>= 크거나 같다`, `> =`는 맞지 않는 표현 \n",
    "    - **논리 연산자**: 피연산자, 결과 모두 논리형. 여러 논리 연산자를 묶을때 사용. `& (and): true+true -> Frue, otherwise False`. `| (or): False+False -> False, otherwise True`, `^: 두 값이 다르면 -> True, 두 값이 같으면 -> False` `not: True -> False, False -> True`e.g.) 스무살이 아닌 사람 `not(age == 20)`\n",
    "    - **조건 연산자 (삼항 연산자)**: 조건이 true, false 이냐에 따라 결과값을 반환.  `Value1 if 조건식 else Value2: if 조건식이 True -> Value1, if 조건식이 False -> Value2`\n",
    "    \n",
    "\n",
    "### 4. 사용자정의 data type\n",
    "- class (객체지향 프로그램)\n",
    "\n",
    "\n",
    "\n"
   ]
  },
  {
   "cell_type": "code",
   "execution_count": 15,
   "metadata": {},
   "outputs": [
    {
     "data": {
      "text/plain": [
       "'음수'"
      ]
     },
     "execution_count": 15,
     "metadata": {},
     "output_type": "execute_result"
    }
   ],
   "source": [
    "num = -3\n",
    "str = '양수' if num >= 0 else '음수'\n",
    "str"
   ]
  },
  {
   "cell_type": "code",
   "execution_count": 16,
   "metadata": {},
   "outputs": [
    {
     "name": "stdout",
     "output_type": "stream",
     "text": [
      "택시\n"
     ]
    }
   ],
   "source": [
    "money = True\n",
    "if money:\n",
    "    print (\"택시\")\n",
    "else:\n",
    "        print (\"걸어라\")"
   ]
  },
  {
   "cell_type": "code",
   "execution_count": 17,
   "metadata": {},
   "outputs": [
    {
     "name": "stdout",
     "output_type": "stream",
     "text": [
      "걸어라\n"
     ]
    }
   ],
   "source": [
    "money = False\n",
    "if money:\n",
    "    print (\"택시\")\n",
    "else:\n",
    "        print (\"걸어라\")"
   ]
  },
  {
   "cell_type": "code",
   "execution_count": 19,
   "metadata": {},
   "outputs": [
    {
     "name": "stdout",
     "output_type": "stream",
     "text": [
      "걸어라\n"
     ]
    }
   ],
   "source": [
    "money = None\n",
    "if money:\n",
    "    print (\"택시\")\n",
    "else:\n",
    "        print (\"걸어라\")"
   ]
  },
  {
   "cell_type": "code",
   "execution_count": 23,
   "metadata": {},
   "outputs": [
    {
     "ename": "TypeError",
     "evalue": "'>=' not supported between instances of 'NoneType' and 'int'",
     "output_type": "error",
     "traceback": [
      "\u001b[1;31m---------------------------------------------------------------------------\u001b[0m",
      "\u001b[1;31mTypeError\u001b[0m                                 Traceback (most recent call last)",
      "\u001b[1;32m<ipython-input-23-fb3134c1241a>\u001b[0m in \u001b[0;36m<module>\u001b[1;34m\u001b[0m\n\u001b[0;32m      2\u001b[0m \u001b[0mcard\u001b[0m \u001b[1;33m=\u001b[0m \u001b[1;32mFalse\u001b[0m\u001b[1;33m\u001b[0m\u001b[1;33m\u001b[0m\u001b[0m\n\u001b[0;32m      3\u001b[0m \u001b[1;33m\u001b[0m\u001b[0m\n\u001b[1;32m----> 4\u001b[1;33m \u001b[1;32mif\u001b[0m \u001b[0mmoney\u001b[0m \u001b[1;33m>=\u001b[0m \u001b[1;36m4000\u001b[0m \u001b[1;32mor\u001b[0m \u001b[0mcard\u001b[0m\u001b[1;33m:\u001b[0m\u001b[1;33m\u001b[0m\u001b[1;33m\u001b[0m\u001b[0m\n\u001b[0m\u001b[0;32m      5\u001b[0m     \u001b[0mprint\u001b[0m \u001b[1;33m(\u001b[0m\u001b[1;34m\"택시\"\u001b[0m\u001b[1;33m)\u001b[0m\u001b[1;33m\u001b[0m\u001b[1;33m\u001b[0m\u001b[0m\n\u001b[0;32m      6\u001b[0m     \u001b[0mprint\u001b[0m \u001b[1;33m(\u001b[0m\u001b[1;34m\"타라\"\u001b[0m\u001b[1;33m)\u001b[0m\u001b[1;33m\u001b[0m\u001b[1;33m\u001b[0m\u001b[0m\n",
      "\u001b[1;31mTypeError\u001b[0m: '>=' not supported between instances of 'NoneType' and 'int'"
     ]
    }
   ],
   "source": [
    "money = None  # None 은 부등식 >, = ... 을 조건으로 사용 불가능\n",
    "card = False\n",
    "\n",
    "if money >= 4000 or card:\n",
    "    print (\"택시\")\n",
    "    print (\"타라\")\n",
    "else:\n",
    "        print (\"걸어라\")"
   ]
  },
  {
   "cell_type": "code",
   "execution_count": 20,
   "metadata": {},
   "outputs": [
    {
     "data": {
      "text/plain": [
       "'택시'"
      ]
     },
     "execution_count": 20,
     "metadata": {},
     "output_type": "execute_result"
    }
   ],
   "source": [
    "money = 100\n",
    "\"택시\" if money else \"걸어라\""
   ]
  },
  {
   "cell_type": "code",
   "execution_count": 21,
   "metadata": {},
   "outputs": [
    {
     "data": {
      "text/plain": [
       "3"
      ]
     },
     "execution_count": 21,
     "metadata": {},
     "output_type": "execute_result"
    }
   ],
   "source": [
    "num3"
   ]
  },
  {
   "cell_type": "markdown",
   "metadata": {},
   "source": [
    "**Note** 주피터 노트북 껐다 키면 변수들이 메모리에서 지워짐. <br>\n",
    "다시 모든 코드를 실행해야 함 <br>\n",
    "`Menu -> Cell -> Run All/Run All Above...`"
   ]
  },
  {
   "cell_type": "markdown",
   "metadata": {},
   "source": [
    "## 1. 숫자형 (정수, 실수)"
   ]
  },
  {
   "cell_type": "markdown",
   "metadata": {},
   "source": [
    "##### 실수형"
   ]
  },
  {
   "cell_type": "code",
   "execution_count": 26,
   "metadata": {},
   "outputs": [
    {
     "data": {
      "text/plain": [
       "0.5"
      ]
     },
     "execution_count": 26,
     "metadata": {},
     "output_type": "execute_result"
    }
   ],
   "source": [
    ".5"
   ]
  },
  {
   "cell_type": "markdown",
   "metadata": {},
   "source": [
    "##### 16진수: `0x`\n",
    "- RGB색 지정할때 사용 (1 2 3 4 5 6 7 8 9 10 A B C D E F)"
   ]
  },
  {
   "cell_type": "code",
   "execution_count": 254,
   "metadata": {},
   "outputs": [
    {
     "data": {
      "text/plain": [
       "44852"
      ]
     },
     "execution_count": 254,
     "metadata": {},
     "output_type": "execute_result"
    }
   ],
   "source": [
    "0XAF34"
   ]
  },
  {
   "cell_type": "markdown",
   "metadata": {},
   "source": [
    "##### 8진수 : `0o`"
   ]
  },
  {
   "cell_type": "code",
   "execution_count": 28,
   "metadata": {},
   "outputs": [
    {
     "data": {
      "text/plain": [
       "59"
      ]
     },
     "execution_count": 28,
     "metadata": {},
     "output_type": "execute_result"
    }
   ],
   "source": [
    "0o73 #8진수 0o"
   ]
  },
  {
   "cell_type": "markdown",
   "metadata": {},
   "source": [
    "##### 연산자:\n",
    "곱셈: `*`"
   ]
  },
  {
   "cell_type": "code",
   "execution_count": 29,
   "metadata": {},
   "outputs": [
    {
     "data": {
      "text/plain": [
       "10"
      ]
     },
     "execution_count": 29,
     "metadata": {},
     "output_type": "execute_result"
    }
   ],
   "source": [
    "2 * 5"
   ]
  },
  {
   "cell_type": "markdown",
   "metadata": {},
   "source": [
    "제곱: `**`"
   ]
  },
  {
   "cell_type": "code",
   "execution_count": 256,
   "metadata": {},
   "outputs": [
    {
     "data": {
      "text/plain": [
       "32"
      ]
     },
     "execution_count": 256,
     "metadata": {},
     "output_type": "execute_result"
    }
   ],
   "source": [
    "2 ** 5 #2의 5승"
   ]
  },
  {
   "cell_type": "markdown",
   "metadata": {},
   "source": [
    "나누기: `/`"
   ]
  },
  {
   "cell_type": "code",
   "execution_count": 40,
   "metadata": {},
   "outputs": [
    {
     "data": {
      "text/plain": [
       "2.5"
      ]
     },
     "execution_count": 40,
     "metadata": {},
     "output_type": "execute_result"
    }
   ],
   "source": [
    "10 / 4 "
   ]
  },
  {
   "cell_type": "markdown",
   "metadata": {},
   "source": [
    "몫: `//`"
   ]
  },
  {
   "cell_type": "code",
   "execution_count": 41,
   "metadata": {},
   "outputs": [
    {
     "data": {
      "text/plain": [
       "2"
      ]
     },
     "execution_count": 41,
     "metadata": {},
     "output_type": "execute_result"
    }
   ],
   "source": [
    "10 // 4 "
   ]
  },
  {
   "cell_type": "markdown",
   "metadata": {},
   "source": [
    "나머지(remainder): `%` "
   ]
  },
  {
   "cell_type": "code",
   "execution_count": 257,
   "metadata": {},
   "outputs": [
    {
     "data": {
      "text/plain": [
       "2"
      ]
     },
     "execution_count": 257,
     "metadata": {},
     "output_type": "execute_result"
    }
   ],
   "source": [
    "10 % 4 #나머지 Remainder"
   ]
  },
  {
   "cell_type": "markdown",
   "metadata": {},
   "source": [
    "- 나머지 연산자는 어떤 숫자의 배수를 확인할때 사용 할 수 있다"
   ]
  },
  {
   "cell_type": "code",
   "execution_count": 35,
   "metadata": {},
   "outputs": [
    {
     "data": {
      "text/plain": [
       "False"
      ]
     },
     "execution_count": 35,
     "metadata": {},
     "output_type": "execute_result"
    }
   ],
   "source": [
    "num = 10\n",
    "# 3의 배수\n",
    "(num % 3) == 0 "
   ]
  },
  {
   "cell_type": "markdown",
   "metadata": {},
   "source": [
    "## 2. 논리형 \n",
    "\n",
    "### `bool` 자료형\n",
    "- 값: True, False\n",
    "- False: `0, \"\", None`\n",
    "- True: `0, \"\", None`를 제외한 나머지"
   ]
  },
  {
   "cell_type": "code",
   "execution_count": 44,
   "metadata": {},
   "outputs": [
    {
     "data": {
      "text/plain": [
       "False"
      ]
     },
     "execution_count": 44,
     "metadata": {},
     "output_type": "execute_result"
    }
   ],
   "source": [
    "bool(0)"
   ]
  },
  {
   "cell_type": "code",
   "execution_count": 46,
   "metadata": {},
   "outputs": [
    {
     "data": {
      "text/plain": [
       "True"
      ]
     },
     "execution_count": 46,
     "metadata": {},
     "output_type": "execute_result"
    }
   ],
   "source": [
    "bool(-5)"
   ]
  },
  {
   "cell_type": "code",
   "execution_count": 47,
   "metadata": {},
   "outputs": [
    {
     "data": {
      "text/plain": [
       "True"
      ]
     },
     "execution_count": 47,
     "metadata": {},
     "output_type": "execute_result"
    }
   ],
   "source": [
    "bool(\"a\")"
   ]
  },
  {
   "cell_type": "code",
   "execution_count": 48,
   "metadata": {},
   "outputs": [
    {
     "data": {
      "text/plain": [
       "False"
      ]
     },
     "execution_count": 48,
     "metadata": {},
     "output_type": "execute_result"
    }
   ],
   "source": [
    "bool(\"\")"
   ]
  },
  {
   "cell_type": "code",
   "execution_count": 50,
   "metadata": {},
   "outputs": [
    {
     "data": {
      "text/plain": [
       "True"
      ]
     },
     "execution_count": 50,
     "metadata": {},
     "output_type": "execute_result"
    }
   ],
   "source": [
    "bool(\" \") # space도 글자로 인식"
   ]
  },
  {
   "cell_type": "code",
   "execution_count": 52,
   "metadata": {},
   "outputs": [
    {
     "data": {
      "text/plain": [
       "False"
      ]
     },
     "execution_count": 52,
     "metadata": {},
     "output_type": "execute_result"
    }
   ],
   "source": [
    "bool(None)"
   ]
  },
  {
   "cell_type": "markdown",
   "metadata": {},
   "source": [
    "### `input()` \n",
    "- 사용자한테 값을 입력받을때 사용"
   ]
  },
  {
   "cell_type": "code",
   "execution_count": 1,
   "metadata": {},
   "outputs": [
    {
     "name": "stdout",
     "output_type": "stream",
     "text": [
      "ㅗㅗ\n"
     ]
    },
    {
     "data": {
      "text/plain": [
       "'ㅗㅗ'"
      ]
     },
     "execution_count": 1,
     "metadata": {},
     "output_type": "execute_result"
    }
   ],
   "source": [
    "input() #사용자한테 값을 입력받을때 사용"
   ]
  },
  {
   "cell_type": "code",
   "execution_count": 286,
   "metadata": {},
   "outputs": [
    {
     "name": "stdout",
     "output_type": "stream",
     "text": [
      "이름:\n"
     ]
    }
   ],
   "source": [
    "name=input(\"이름:\") # 사용자한테 입력값에 대해 알려줌"
   ]
  },
  {
   "cell_type": "code",
   "execution_count": 287,
   "metadata": {},
   "outputs": [
    {
     "data": {
      "text/plain": [
       "''"
      ]
     },
     "execution_count": 287,
     "metadata": {},
     "output_type": "execute_result"
    }
   ],
   "source": [
    "name"
   ]
  },
  {
   "cell_type": "code",
   "execution_count": 2,
   "metadata": {},
   "outputs": [
    {
     "name": "stdout",
     "output_type": "stream",
     "text": [
      "이름:\n"
     ]
    }
   ],
   "source": [
    "name2=input(\"이름:\")"
   ]
  },
  {
   "cell_type": "code",
   "execution_count": 12,
   "metadata": {},
   "outputs": [
    {
     "data": {
      "text/plain": [
       "False"
      ]
     },
     "execution_count": 12,
     "metadata": {},
     "output_type": "execute_result"
    }
   ],
   "source": [
    "bool(name2)"
   ]
  },
  {
   "cell_type": "code",
   "execution_count": 289,
   "metadata": {},
   "outputs": [
    {
     "data": {
      "text/plain": [
       "'이름 입력하세요'"
      ]
     },
     "execution_count": 289,
     "metadata": {},
     "output_type": "execute_result"
    }
   ],
   "source": [
    "name if name else \"이름 입력하세요\" #name이 True (값이 있으며)면, name. else \"이름 입력하세요\" "
   ]
  },
  {
   "cell_type": "markdown",
   "metadata": {},
   "source": [
    "**NB** 논리형 앞에 variable 지정 가능"
   ]
  },
  {
   "cell_type": "code",
   "execution_count": 290,
   "metadata": {},
   "outputs": [],
   "source": [
    "name3 = name2 if name2 else input(\"이름 입력하세요\")"
   ]
  },
  {
   "cell_type": "code",
   "execution_count": 291,
   "metadata": {},
   "outputs": [
    {
     "data": {
      "text/plain": [
       "'김영수'"
      ]
     },
     "execution_count": 291,
     "metadata": {},
     "output_type": "execute_result"
    }
   ],
   "source": [
    "name2"
   ]
  },
  {
   "cell_type": "markdown",
   "metadata": {},
   "source": [
    "### 비교연산\n",
    "- `a > b ` -> `True` 나 `False`로 나타냄<br>\n",
    "- e.g.) `10 > 5` --> `True`"
   ]
  },
  {
   "cell_type": "code",
   "execution_count": 17,
   "metadata": {},
   "outputs": [
    {
     "data": {
      "text/plain": [
       "True"
      ]
     },
     "execution_count": 17,
     "metadata": {},
     "output_type": "execute_result"
    }
   ],
   "source": [
    "# 비교연산\n",
    "10 > 5 #왼쪽항 기준으로, 왼쪽이 오른쪽보다 크면 -> True"
   ]
  },
  {
   "cell_type": "code",
   "execution_count": 18,
   "metadata": {},
   "outputs": [
    {
     "data": {
      "text/plain": [
       "True"
      ]
     },
     "execution_count": 18,
     "metadata": {},
     "output_type": "execute_result"
    }
   ],
   "source": [
    "age = 20\n",
    "age > 19"
   ]
  },
  {
   "cell_type": "code",
   "execution_count": 23,
   "metadata": {},
   "outputs": [],
   "source": [
    "age = 20\n",
    "name = \"홍길동\""
   ]
  },
  {
   "cell_type": "code",
   "execution_count": 36,
   "metadata": {
    "scrolled": true
   },
   "outputs": [
    {
     "ename": "TypeError",
     "evalue": "unsupported operand type(s) for &: 'int' and 'str'",
     "output_type": "error",
     "traceback": [
      "\u001b[1;31m---------------------------------------------------------------------------\u001b[0m",
      "\u001b[1;31mTypeError\u001b[0m                                 Traceback (most recent call last)",
      "\u001b[1;32m<ipython-input-36-35681261ae29>\u001b[0m in \u001b[0;36m<module>\u001b[1;34m\u001b[0m\n\u001b[0;32m      1\u001b[0m \u001b[1;31m# 나이가 19세 이상이고 이름은 홍길동인가?\u001b[0m\u001b[1;33m\u001b[0m\u001b[1;33m\u001b[0m\u001b[1;33m\u001b[0m\u001b[0m\n\u001b[1;32m----> 2\u001b[1;33m \u001b[0mage\u001b[0m \u001b[1;33m>=\u001b[0m \u001b[1;36m19\u001b[0m \u001b[1;33m&\u001b[0m \u001b[0mname\u001b[0m \u001b[1;33m==\u001b[0m \u001b[1;34m\"홍길동\"\u001b[0m \u001b[1;31m# &: 피연산자 둘다 True일때만 True. 하나라도 False면 False\u001b[0m\u001b[1;33m\u001b[0m\u001b[1;33m\u001b[0m\u001b[0m\n\u001b[0m",
      "\u001b[1;31mTypeError\u001b[0m: unsupported operand type(s) for &: 'int' and 'str'"
     ]
    }
   ],
   "source": [
    "# 나이가 19세 이상이고 이름은 홍길동인가?b\n",
    "age >= 19 & name == \"홍길동\" # &: 피연산자 둘다 True일때만 True. 하나라도 False면 False"
   ]
  },
  {
   "cell_type": "markdown",
   "metadata": {},
   "source": [
    "*---> &가 비트연산을 하기 때문에 19 와 name을 먼저 연산 함. 괄호로 묶어서 연산의 우선순위를 정해야만 함*"
   ]
  },
  {
   "cell_type": "code",
   "execution_count": 31,
   "metadata": {},
   "outputs": [
    {
     "data": {
      "text/plain": [
       "True"
      ]
     },
     "execution_count": 31,
     "metadata": {},
     "output_type": "execute_result"
    }
   ],
   "source": [
    "# 나이가 19세 이상이고 이름은 홍길동인가?\n",
    "(age >= 19 ) & (name == \"홍길동\") # &: 피연산자 둘다 True일때만 True. 하나라도 False면 False"
   ]
  },
  {
   "cell_type": "code",
   "execution_count": 37,
   "metadata": {},
   "outputs": [
    {
     "data": {
      "text/plain": [
       "True"
      ]
     },
     "execution_count": 37,
     "metadata": {},
     "output_type": "execute_result"
    }
   ],
   "source": [
    "# 나이가 19세 이상이고 이름은 홍길동인가?\n",
    "age >= 19  and name == \"홍길동\" # &: 피연산자 둘다 True일때만 True. 하나라도 False면 False"
   ]
  },
  {
   "cell_type": "code",
   "execution_count": 43,
   "metadata": {},
   "outputs": [
    {
     "data": {
      "text/plain": [
       "True"
      ]
     },
     "execution_count": 43,
     "metadata": {},
     "output_type": "execute_result"
    }
   ],
   "source": [
    "age >= 19  or name == \"이순신\" # 둘중 하나만 True 면 True  \n",
    "(age >= 19)  | (name == \"이순신\") #혹은"
   ]
  },
  {
   "cell_type": "code",
   "execution_count": 53,
   "metadata": {},
   "outputs": [
    {
     "data": {
      "text/plain": [
       "False"
      ]
     },
     "execution_count": 53,
     "metadata": {},
     "output_type": "execute_result"
    }
   ],
   "source": [
    "# 나이가 20세 이상이 아닌가?\n",
    "not age >= 20\n",
    "age <19 #혹은"
   ]
  },
  {
   "cell_type": "code",
   "execution_count": 54,
   "metadata": {},
   "outputs": [
    {
     "data": {
      "text/plain": [
       "0"
      ]
     },
     "execution_count": 54,
     "metadata": {},
     "output_type": "execute_result"
    }
   ],
   "source": [
    "0 and 0"
   ]
  },
  {
   "cell_type": "code",
   "execution_count": 55,
   "metadata": {},
   "outputs": [],
   "source": [
    "None and 0"
   ]
  },
  {
   "cell_type": "code",
   "execution_count": 56,
   "metadata": {},
   "outputs": [
    {
     "data": {
      "text/plain": [
       "0"
      ]
     },
     "execution_count": 56,
     "metadata": {},
     "output_type": "execute_result"
    }
   ],
   "source": [
    "True and 0"
   ]
  },
  {
   "cell_type": "code",
   "execution_count": 57,
   "metadata": {},
   "outputs": [
    {
     "data": {
      "text/plain": [
       "False"
      ]
     },
     "execution_count": 57,
     "metadata": {},
     "output_type": "execute_result"
    }
   ],
   "source": [
    "True and False"
   ]
  },
  {
   "cell_type": "code",
   "execution_count": 58,
   "metadata": {},
   "outputs": [
    {
     "data": {
      "text/plain": [
       "False"
      ]
     },
     "execution_count": 58,
     "metadata": {},
     "output_type": "execute_result"
    }
   ],
   "source": [
    "False and 0"
   ]
  },
  {
   "cell_type": "code",
   "execution_count": 59,
   "metadata": {},
   "outputs": [
    {
     "data": {
      "text/plain": [
       "0"
      ]
     },
     "execution_count": 59,
     "metadata": {},
     "output_type": "execute_result"
    }
   ],
   "source": [
    "True and 0"
   ]
  },
  {
   "cell_type": "code",
   "execution_count": 60,
   "metadata": {},
   "outputs": [],
   "source": [
    "True and None"
   ]
  },
  {
   "cell_type": "markdown",
   "metadata": {},
   "source": [
    "### None\n",
    "- 아무 값도 없음을 나타내는 값\n",
    "- 다른 언어에서는 `Null` 사용"
   ]
  },
  {
   "cell_type": "markdown",
   "metadata": {},
   "source": [
    "## 3. 문자열형 (string) \n",
    "`\"`,`'` 둘다 사용 가능. --> 한줄안에서만 사용 가능."
   ]
  },
  {
   "cell_type": "code",
   "execution_count": 297,
   "metadata": {},
   "outputs": [
    {
     "name": "stdout",
     "output_type": "stream",
     "text": [
      "C's store\n",
      "I said \"Stop it\"\n"
     ]
    }
   ],
   "source": [
    "print(\"C's store\")\n",
    "print('I said \"Stop it\"')"
   ]
  },
  {
   "cell_type": "markdown",
   "metadata": {},
   "source": [
    "여러줄이면 `'''` 혹은 `\"\"\"` 으로 감싼다"
   ]
  },
  {
   "cell_type": "code",
   "execution_count": 301,
   "metadata": {},
   "outputs": [
    {
     "name": "stdout",
     "output_type": "stream",
     "text": [
      "1234+56789\n",
      "48595+0797\n",
      "123\n",
      "456\n",
      "123＼4456\n"
     ]
    }
   ],
   "source": [
    "print(\"\"\"1234+56789\n",
    "48595+0797\"\"\")\n",
    "print(\"\"\"123\\n456\"\"\")\n",
    "print('''123＼4456''')"
   ]
  },
  {
   "cell_type": "markdown",
   "metadata": {},
   "source": [
    "Note: font에 따라 \\n이나＼이 줄바꿈으로 사용가능"
   ]
  },
  {
   "cell_type": "markdown",
   "metadata": {},
   "source": [
    "print(  ,  , `end = \"-\"`): \"-\"로 출력이 끝나고 다음 출력이 같은 줄로 이어서 나옴"
   ]
  },
  {
   "cell_type": "code",
   "execution_count": 302,
   "metadata": {},
   "outputs": [
    {
     "name": "stdout",
     "output_type": "stream",
     "text": [
      "1 2 3*5 4\n"
     ]
    }
   ],
   "source": [
    "print(1,2,3, end=\"*\")\n",
    "print(5,4)"
   ]
  },
  {
   "cell_type": "markdown",
   "metadata": {},
   "source": [
    "print(,, `sep = \"-\"`): 출력값 구분자 지정. \"-\"가 출력값 사이에 옴"
   ]
  },
  {
   "cell_type": "code",
   "execution_count": 305,
   "metadata": {},
   "outputs": [
    {
     "name": "stdout",
     "output_type": "stream",
     "text": [
      "A-b-C\n"
     ]
    }
   ],
   "source": [
    "print(\"A\",\"b\",\"C\", sep = \"-\") # 출력값 구분자 지정. 여러개 출력 가능"
   ]
  },
  {
   "cell_type": "markdown",
   "metadata": {},
   "source": [
    "`str(\"숫자\")`: 숫자를 문자열로 바꾸기"
   ]
  },
  {
   "cell_type": "code",
   "execution_count": 66,
   "metadata": {},
   "outputs": [
    {
     "data": {
      "text/plain": [
       "'200나이'"
      ]
     },
     "execution_count": 66,
     "metadata": {},
     "output_type": "execute_result"
    }
   ],
   "source": [
    "str(\"200\")+\"나이\" # 숫자 200을 문자열로 바꿈 "
   ]
  },
  {
   "cell_type": "markdown",
   "metadata": {},
   "source": [
    "**`n*문자열`: 문자열을 n회 반복**"
   ]
  },
  {
   "cell_type": "code",
   "execution_count": 306,
   "metadata": {},
   "outputs": [
    {
     "data": {
      "text/plain": [
       "'--------------------'"
      ]
     },
     "execution_count": 306,
     "metadata": {},
     "output_type": "execute_result"
    }
   ],
   "source": [
    "\"-\"*20 #문자열 20회 반복"
   ]
  },
  {
   "cell_type": "markdown",
   "metadata": {},
   "source": [
    "**`len(\"문자열\")`: 문자열의 글자수 세기**"
   ]
  },
  {
   "cell_type": "code",
   "execution_count": 308,
   "metadata": {},
   "outputs": [
    {
     "data": {
      "text/plain": [
       "3"
      ]
     },
     "execution_count": 308,
     "metadata": {},
     "output_type": "execute_result"
    }
   ],
   "source": [
    "len(\"홍길동\")"
   ]
  },
  {
   "cell_type": "markdown",
   "metadata": {},
   "source": [
    "**`in`/`not in`: 특정 문자열이 있는지/없는지 확인  -> True/False 로 return**"
   ]
  },
  {
   "cell_type": "code",
   "execution_count": 312,
   "metadata": {},
   "outputs": [
    {
     "data": {
      "text/plain": [
       "True"
      ]
     },
     "execution_count": 312,
     "metadata": {},
     "output_type": "execute_result"
    }
   ],
   "source": [
    "'he' in \"hello\""
   ]
  },
  {
   "cell_type": "code",
   "execution_count": 325,
   "metadata": {},
   "outputs": [
    {
     "data": {
      "text/plain": [
       "True"
      ]
     },
     "execution_count": 325,
     "metadata": {},
     "output_type": "execute_result"
    }
   ],
   "source": [
    "\"서초구\" not in \"서울시 강남구\""
   ]
  },
  {
   "cell_type": "markdown",
   "metadata": {},
   "source": [
    "### 문자열 인덱싱과 슬라이싱\n",
    "\n",
    "- 인덱싱: 여러개중 하나만 조회  0000000000000000000000`0`0000000;        h`e`llo\n",
    "- 슬라이싱: 범위로 조회   0000000000000000000000`00000000000`;         he`ll`o"
   ]
  },
  {
   "cell_type": "markdown",
   "metadata": {},
   "source": [
    "**index**<br>\n",
    " - 각 원소를 수분하는 식별자로 0부터 1씩 증가하는 값. \n",
    " - 자동생성. \n",
    " - 대괄호 `[]` 사용. \n",
    " - 조회: `문자열 [index]` <br>\n",
    "- e.g.) 안녕하세요 <br>\n",
    "index:0  1  2  3  4 (앞에서 0부터 시작. 파이썬에서는 0이 양수) <br>\n",
    "index:     -5 -4 -3 -2 -1 (뒤에서 -1 부터 시작)\n",
    "<img src=\"1_1.jpg\" style = \"width:500px\">"
   ]
  },
  {
   "cell_type": "code",
   "execution_count": 313,
   "metadata": {},
   "outputs": [
    {
     "data": {
      "text/plain": [
       "'안'"
      ]
     },
     "execution_count": 313,
     "metadata": {},
     "output_type": "execute_result"
    }
   ],
   "source": [
    "s = \"안녕하세요\"\n",
    "s[0] # 첫번째 글자"
   ]
  },
  {
   "cell_type": "code",
   "execution_count": 315,
   "metadata": {},
   "outputs": [
    {
     "name": "stdout",
     "output_type": "stream",
     "text": [
      "하 세\n"
     ]
    }
   ],
   "source": [
    "print(s[2], s[-2]) # 앞에서 3번째, 뒤에서 2번째 글자"
   ]
  },
  {
   "cell_type": "markdown",
   "metadata": {},
   "source": [
    "- 없는 인덱스는 조회 불가능"
   ]
  },
  {
   "cell_type": "code",
   "execution_count": 316,
   "metadata": {},
   "outputs": [
    {
     "ename": "IndexError",
     "evalue": "string index out of range",
     "output_type": "error",
     "traceback": [
      "\u001b[1;31m---------------------------------------------------------------------------\u001b[0m",
      "\u001b[1;31mIndexError\u001b[0m                                Traceback (most recent call last)",
      "\u001b[1;32m<ipython-input-316-bba4ff0a152e>\u001b[0m in \u001b[0;36m<module>\u001b[1;34m\u001b[0m\n\u001b[1;32m----> 1\u001b[1;33m \u001b[0mprint\u001b[0m\u001b[1;33m(\u001b[0m\u001b[0ms\u001b[0m\u001b[1;33m[\u001b[0m\u001b[1;36m30\u001b[0m\u001b[1;33m]\u001b[0m\u001b[1;33m)\u001b[0m \u001b[1;31m# 없는 인덱스는 조회 불가능\u001b[0m\u001b[1;33m\u001b[0m\u001b[1;33m\u001b[0m\u001b[0m\n\u001b[0m",
      "\u001b[1;31mIndexError\u001b[0m: string index out of range"
     ]
    }
   ],
   "source": [
    "print(s[30]) # 없는 인덱스는 조회 불가능"
   ]
  },
  {
   "cell_type": "markdown",
   "metadata": {},
   "source": [
    "- 조회만 가능. 변경은 불가능 "
   ]
  },
  {
   "cell_type": "code",
   "execution_count": 77,
   "metadata": {
    "scrolled": true
   },
   "outputs": [
    {
     "ename": "NameError",
     "evalue": "name '이' is not defined",
     "output_type": "error",
     "traceback": [
      "\u001b[1;31m---------------------------------------------------------------------------\u001b[0m",
      "\u001b[1;31mNameError\u001b[0m                                 Traceback (most recent call last)",
      "\u001b[1;32m<ipython-input-77-f19cd0bd198d>\u001b[0m in \u001b[0;36m<module>\u001b[1;34m\u001b[0m\n\u001b[1;32m----> 1\u001b[1;33m \u001b[0mvalue\u001b[0m\u001b[1;33m[\u001b[0m\u001b[1;36m0\u001b[0m\u001b[1;33m]\u001b[0m \u001b[1;33m=\u001b[0m \u001b[0m이\u001b[0m \u001b[1;31m#조회만 가능. 변경은 불가능\u001b[0m\u001b[1;33m\u001b[0m\u001b[1;33m\u001b[0m\u001b[0m\n\u001b[0m",
      "\u001b[1;31mNameError\u001b[0m: name '이' is not defined"
     ]
    }
   ],
   "source": [
    "value[0] = 이 #조회만 가능. 변경은 불가능"
   ]
  },
  {
   "cell_type": "markdown",
   "metadata": {},
   "source": [
    "**slice**<br>\n",
    "`문자열 [시작:끝: 증강increment]` \n",
    "NB: \n",
    "- 시작: 시작 index\n",
    "- 끝 - 1: 종료 index"
   ]
  },
  {
   "cell_type": "markdown",
   "metadata": {},
   "source": [
    "생략가능\n",
    "- 시작 생략: 0부터\n",
    "- 끝 생략: 마지막 까지 다\n",
    "- 증강 생략: 증강 = 1\n",
    "- `문자열[:]`: 모두 다 "
   ]
  },
  {
   "cell_type": "code",
   "execution_count": 319,
   "metadata": {},
   "outputs": [
    {
     "data": {
      "text/plain": [
       "'01234'"
      ]
     },
     "execution_count": 319,
     "metadata": {},
     "output_type": "execute_result"
    }
   ],
   "source": [
    "t = \"0123456789\"\n",
    "t[0:5] #시작 index = 0 ~ 종료 index = 4"
   ]
  },
  {
   "cell_type": "code",
   "execution_count": 320,
   "metadata": {},
   "outputs": [
    {
     "data": {
      "text/plain": [
       "'안녕하세요'"
      ]
     },
     "execution_count": 320,
     "metadata": {},
     "output_type": "execute_result"
    }
   ],
   "source": [
    "t[:5]"
   ]
  },
  {
   "cell_type": "code",
   "execution_count": 154,
   "metadata": {},
   "outputs": [
    {
     "data": {
      "text/plain": [
       "'56789'"
      ]
     },
     "execution_count": 154,
     "metadata": {},
     "output_type": "execute_result"
    }
   ],
   "source": [
    "t[5:]"
   ]
  },
  {
   "cell_type": "code",
   "execution_count": 156,
   "metadata": {},
   "outputs": [
    {
     "data": {
      "text/plain": [
       "'0369'"
      ]
     },
     "execution_count": 156,
     "metadata": {},
     "output_type": "execute_result"
    }
   ],
   "source": [
    "t[::3] #처음~끝, 3씩 증가"
   ]
  },
  {
   "cell_type": "code",
   "execution_count": 161,
   "metadata": {},
   "outputs": [
    {
     "data": {
      "text/plain": [
       "'234567'"
      ]
     },
     "execution_count": 161,
     "metadata": {},
     "output_type": "execute_result"
    }
   ],
   "source": [
    "t[2:-2]"
   ]
  },
  {
   "cell_type": "markdown",
   "metadata": {},
   "source": [
    "증강이 -1이면 뒤에서부터 불러옴"
   ]
  },
  {
   "cell_type": "code",
   "execution_count": 322,
   "metadata": {
    "scrolled": true
   },
   "outputs": [
    {
     "name": "stdout",
     "output_type": "stream",
     "text": [
      "012 98765432\n"
     ]
    }
   ],
   "source": [
    "print(t[0:3],t[9:1:-1])"
   ]
  },
  {
   "cell_type": "markdown",
   "metadata": {},
   "source": [
    "범위 외의 값은 blank"
   ]
  },
  {
   "cell_type": "code",
   "execution_count": 323,
   "metadata": {
    "scrolled": true
   },
   "outputs": [
    {
     "data": {
      "text/plain": [
       "''"
      ]
     },
     "execution_count": 323,
     "metadata": {},
     "output_type": "execute_result"
    }
   ],
   "source": [
    "s[9:1]"
   ]
  },
  {
   "cell_type": "markdown",
   "metadata": {},
   "source": [
    "### 문자열과 숫자를 합쳐서 새로운 variable을 만들때\n",
    "\n",
    "`name+age` ---> `str` + `int` ----> 에러 <br>\n",
    "age를 string type로 바꾸어 주어야 함"
   ]
  },
  {
   "cell_type": "code",
   "execution_count": 3,
   "metadata": {},
   "outputs": [],
   "source": [
    "name, address, age = \"홍길동\", \"서울시 서초구\", 20"
   ]
  },
  {
   "cell_type": "code",
   "execution_count": 331,
   "metadata": {},
   "outputs": [
    {
     "data": {
      "text/plain": [
       "'이름:홍길동, 나이:20, 주소:서울시 서초구'"
      ]
     },
     "execution_count": 331,
     "metadata": {},
     "output_type": "execute_result"
    }
   ],
   "source": [
    "info = \"이름:\" + name + \", 나이:\" + str(age) + \", 주소:\" + address\n",
    "info"
   ]
  },
  {
   "cell_type": "code",
   "execution_count": 332,
   "metadata": {},
   "outputs": [
    {
     "data": {
      "text/plain": [
       "int"
      ]
     },
     "execution_count": 332,
     "metadata": {},
     "output_type": "execute_result"
    }
   ],
   "source": [
    "type(age)"
   ]
  },
  {
   "cell_type": "markdown",
   "metadata": {},
   "source": [
    "## 문자열 formatting\n",
    "- 문자열에 문장 형태를 미리 만들어 놓고 값은 나중에 대입하는 방식으로 문자열을 만드는 것\n",
    "- 위의 방법으로 문자열을 합칠 경우 일일이 type를 바꾸어 주어야 하므로 번거롭다"
   ]
  },
  {
   "cell_type": "markdown",
   "metadata": {},
   "source": [
    "- format() 함수 이용"
   ]
  },
  {
   "cell_type": "markdown",
   "metadata": {},
   "source": [
    "#### format 함수이용 첫번째 방식\n",
    "- `\"서식문자열{}, , .. \".format(var, , )`\n",
    "- variable 대신 값을 넣어도 됨"
   ]
  },
  {
   "cell_type": "code",
   "execution_count": 333,
   "metadata": {},
   "outputs": [
    {
     "data": {
      "text/plain": [
       "'이름: 홍길동, 나이:20, 주소:서울시 서초구'"
      ]
     },
     "execution_count": 333,
     "metadata": {},
     "output_type": "execute_result"
    }
   ],
   "source": [
    "info2 = \"이름: {}, 나이:{}, 주소:{}\".format(name, age, address) \n",
    "info2"
   ]
  },
  {
   "cell_type": "markdown",
   "metadata": {},
   "source": [
    "#### format 함수이용 두번째 방식:\n",
    "- 괄호가 많아지면:\n",
    "- 동일한 값을 여러군데에서 사용할 경우 번호 지정해 사용\n",
    "- `\"서식문자열{0},서식문자열{1}, \".format(var, , )`"
   ]
  },
  {
   "cell_type": "code",
   "execution_count": 334,
   "metadata": {},
   "outputs": [
    {
     "data": {
      "text/plain": [
       "'이름: 홍길동, 나이:20, 주소: 서울시 서초구,20'"
      ]
     },
     "execution_count": 334,
     "metadata": {},
     "output_type": "execute_result"
    }
   ],
   "source": [
    "info3 = '이름: {0}, 나이:{1}, 주소: {2},{1}'.format(name, age, address)\n",
    "info3"
   ]
  },
  {
   "cell_type": "markdown",
   "metadata": {},
   "source": [
    "#### format 함수이용 세번째 방식\n",
    "- variable이 너무 많아서 순서를 맞추기 힘들 때\n",
    "- format 안에서 순서가 바뀌어도 괜찮음\n",
    "- `\"서식문자열{var}, , \".format(var = 값, , )`"
   ]
  },
  {
   "cell_type": "code",
   "execution_count": 336,
   "metadata": {},
   "outputs": [
    {
     "data": {
      "text/plain": [
       "'이름: 홍길동, 나이: 20, 주소: 서울시 서초구, 서울시 서초구'"
      ]
     },
     "execution_count": 336,
     "metadata": {},
     "output_type": "execute_result"
    }
   ],
   "source": [
    "info4 = \"이름: {name}, 나이: {age}, 주소: {address}, {address}\".format(name=name, address=address, age=age)\n",
    "info4"
   ]
  },
  {
   "cell_type": "markdown",
   "metadata": {},
   "source": [
    "#### format 함수이용시 정렬\n",
    "- `\"{0:<총자릿수}\".format()`: 왼쪽으로 정렬. \n",
    "- `\"{0:>총자릿수}\".format()`: 오른쪽으로 정렬.\n",
    "- `\"{0:^총자릿수}\".format()`: 가운데로 정렬.\n",
    "- `\"{0:*<총자릿수}\".format()`: *로 공백채우기, 가운데로 정렬\n",
    "- `\"{0:총자릿수.소숫점f}\".format(숫자)`: 숫자의 소숫점을 나타냄\n",
    "- `\"{{문자열}}\".format()`: {문자열}를 문자 그대로 사용할때\n"
   ]
  },
  {
   "cell_type": "code",
   "execution_count": 16,
   "metadata": {},
   "outputs": [
    {
     "name": "stdout",
     "output_type": "stream",
     "text": [
      "hi        \n",
      "********hi\n",
      "    hi    \n",
      "****hi****\n",
      "     134.903200\n",
      "{그거슨아니지} 23\n"
     ]
    }
   ],
   "source": [
    "print(\"{0:<10}\".format(\"hi\"))\n",
    "print(\"{0:*>10}\".format(\"hi\"))\n",
    "print(\"{0:^10}\".format(\"hi\"))\n",
    "print(\"{0:*^10}\".format(\"hi\"))\n",
    "print(\"{0:15.6f}\".format(134.9032))\n",
    "print(\"{{그거슨아니지}} {}\".format(23))"
   ]
  },
  {
   "cell_type": "markdown",
   "metadata": {},
   "source": [
    "#### 문자열 formating 연산자 `%` 사용\n",
    "- 값이 들어갈 부분을 값의 타입과 매칭되는 형식문자를 사용\n",
    "- 들어가는 부분의 타입이 확실해야 할때 사용\n",
    "- %s: 문자열, %d: 정수, %f: 실수, %c: 문자 한개\n",
    "- 넣어줄 값은    `\"서식문자열%data_type, , ..\"%(var,값 , , ...)` 순서대로 들어감\n",
    "- %%: %\n",
    "- *%s: 자동으로 %뒤의 값을 문자열로 바꿈*"
   ]
  },
  {
   "cell_type": "code",
   "execution_count": 9,
   "metadata": {
    "scrolled": true
   },
   "outputs": [
    {
     "data": {
      "text/plain": [
       "'이름: 홍길동, 나이:    20, 주소: 서울시 서초구, 키: 175.80'"
      ]
     },
     "execution_count": 9,
     "metadata": {},
     "output_type": "execute_result"
    }
   ],
   "source": [
    "info5 = \"이름: %s, 나이: %5d, 주소: %s, 키: %.2f\" % (name,age,address,175.8) #.2 -> 소숫점 2자리 까지\n",
    "info5"
   ]
  },
  {
   "cell_type": "code",
   "execution_count": 11,
   "metadata": {},
   "outputs": [
    {
     "data": {
      "text/plain": [
       "'점수는 90   % 입니다'"
      ]
     },
     "execution_count": 11,
     "metadata": {},
     "output_type": "execute_result"
    }
   ],
   "source": [
    "\"점수는 %-5s%% 입니다\" % (90)"
   ]
  },
  {
   "cell_type": "markdown",
   "metadata": {},
   "source": [
    "#### 문자열 formating 연산자 % 사용시 정렬\n",
    "- `'정렬%5d' % 10`: 문자열:\"정렬\" %data/-type:digit 5자리 띄우기 값:10  "
   ]
  },
  {
   "cell_type": "code",
   "execution_count": 344,
   "metadata": {},
   "outputs": [
    {
     "data": {
      "text/plain": [
       "'정렬   10'"
      ]
     },
     "execution_count": 344,
     "metadata": {},
     "output_type": "execute_result"
    }
   ],
   "source": [
    "'정렬 %5d' % 10 #자릿수 5 채우기"
   ]
  },
  {
   "cell_type": "code",
   "execution_count": 231,
   "metadata": {},
   "outputs": [
    {
     "data": {
      "text/plain": [
       "'10   '"
      ]
     },
     "execution_count": 231,
     "metadata": {},
     "output_type": "execute_result"
    }
   ],
   "source": [
    "'%-5d' % 10 #자릿수 반대쪽으로 5 채우기"
   ]
  },
  {
   "cell_type": "markdown",
   "metadata": {},
   "source": [
    "소숫점 맞추기\n",
    "- `'0.5f' % 10`: 10을 소숫점 5자리까지 표기하기"
   ]
  },
  {
   "cell_type": "code",
   "execution_count": 349,
   "metadata": {},
   "outputs": [
    {
     "data": {
      "text/plain": [
       "'10.00000'"
      ]
     },
     "execution_count": 349,
     "metadata": {},
     "output_type": "execute_result"
    }
   ],
   "source": [
    "\"%0.5f\" % 10"
   ]
  },
  {
   "cell_type": "code",
   "execution_count": 350,
   "metadata": {},
   "outputs": [
    {
     "data": {
      "text/plain": [
       "'몸무게:67.70, 키:180.67'"
      ]
     },
     "execution_count": 350,
     "metadata": {},
     "output_type": "execute_result"
    }
   ],
   "source": [
    "'몸무게:{:.2f}, 키:{:.2f}'.format(67.7, 180.6666) #소숫점 2자리까지 표기"
   ]
  },
  {
   "cell_type": "markdown",
   "metadata": {},
   "source": [
    "#### python 3.6부터 추가된 방식\n",
    "- 앞에 f를 붙임으로 string 을 서식문자열로 바꿈 \n",
    "- `f\"문자열 {var/value}, 문자열 {var/value}, ...\"`"
   ]
  },
  {
   "cell_type": "code",
   "execution_count": 240,
   "metadata": {},
   "outputs": [
    {
     "data": {
      "text/plain": [
       "'이름: 홍길동, 나이: 20, 주소: 서울시 서초구'"
      ]
     },
     "execution_count": 240,
     "metadata": {},
     "output_type": "execute_result"
    }
   ],
   "source": [
    "info6 = f\"이름: {name}, 나이: {age}, 주소: {address}\" \n",
    "info6"
   ]
  },
  {
   "cell_type": "markdown",
   "metadata": {},
   "source": [
    "## string 주요 메소드\n",
    "\n",
    "메소드 - 함수열과 비슷한 일을 하지만 형식이 다르다\n",
    "\n",
    "`함수(피연산자)` --> 결과값\n",
    "\n",
    "`피연산자.메소드()` --> 결과값"
   ]
  },
  {
   "cell_type": "code",
   "execution_count": 338,
   "metadata": {},
   "outputs": [
    {
     "data": {
      "text/plain": [
       "'        a       '"
      ]
     },
     "execution_count": 338,
     "metadata": {},
     "output_type": "execute_result"
    }
   ],
   "source": [
    "s1 = \"        a       \"\n",
    "s1"
   ]
  },
  {
   "cell_type": "markdown",
   "metadata": {},
   "source": [
    "`.strip` 좌우 공백을 없앰\n",
    "\n",
    "`.lstrip` 왼쪽 공백을 없앰\n",
    "\n",
    "`.rstrip` 오른쪽 공백을 없앰"
   ]
  },
  {
   "cell_type": "code",
   "execution_count": 339,
   "metadata": {},
   "outputs": [
    {
     "data": {
      "text/plain": [
       "'a'"
      ]
     },
     "execution_count": 339,
     "metadata": {},
     "output_type": "execute_result"
    }
   ],
   "source": [
    "s1.strip() #좌우 공백을 없앰"
   ]
  },
  {
   "cell_type": "code",
   "execution_count": 340,
   "metadata": {},
   "outputs": [
    {
     "name": "stdout",
     "output_type": "stream",
     "text": [
      "이름:\n"
     ]
    }
   ],
   "source": [
    "s2 = input(\"이름:\")"
   ]
  },
  {
   "cell_type": "code",
   "execution_count": 246,
   "metadata": {},
   "outputs": [
    {
     "data": {
      "text/plain": [
       "8"
      ]
     },
     "execution_count": 246,
     "metadata": {},
     "output_type": "execute_result"
    }
   ],
   "source": [
    "len(s2)"
   ]
  },
  {
   "cell_type": "code",
   "execution_count": 247,
   "metadata": {},
   "outputs": [
    {
     "data": {
      "text/plain": [
       "0"
      ]
     },
     "execution_count": 247,
     "metadata": {},
     "output_type": "execute_result"
    }
   ],
   "source": [
    "len(s2.strip())"
   ]
  },
  {
   "cell_type": "markdown",
   "metadata": {},
   "source": [
    "`.count(\" \")` \"\"안의 값이 몇개 들어있는지 셈 "
   ]
  },
  {
   "cell_type": "code",
   "execution_count": 356,
   "metadata": {},
   "outputs": [
    {
     "data": {
      "text/plain": [
       "1"
      ]
     },
     "execution_count": 356,
     "metadata": {},
     "output_type": "execute_result"
    }
   ],
   "source": [
    "s1.count(\"a\")"
   ]
  },
  {
   "cell_type": "code",
   "execution_count": 358,
   "metadata": {},
   "outputs": [
    {
     "data": {
      "text/plain": [
       "15"
      ]
     },
     "execution_count": 358,
     "metadata": {},
     "output_type": "execute_result"
    }
   ],
   "source": [
    "s1.count(\" \")"
   ]
  },
  {
   "cell_type": "code",
   "execution_count": 359,
   "metadata": {},
   "outputs": [],
   "source": [
    "s2 = \"aaaaassssssdfdf\""
   ]
  },
  {
   "cell_type": "code",
   "execution_count": 360,
   "metadata": {},
   "outputs": [
    {
     "data": {
      "text/plain": [
       "1"
      ]
     },
     "execution_count": 360,
     "metadata": {},
     "output_type": "execute_result"
    }
   ],
   "source": [
    "s2.count('as')"
   ]
  },
  {
   "cell_type": "markdown",
   "metadata": {},
   "source": [
    "`.replace(\"전\",\"후\")`: 문자열중 전을 후로 바꾸기"
   ]
  },
  {
   "cell_type": "code",
   "execution_count": 30,
   "metadata": {},
   "outputs": [
    {
     "data": {
      "text/plain": [
       "'python is the worst choice'"
      ]
     },
     "execution_count": 30,
     "metadata": {},
     "output_type": "execute_result"
    }
   ],
   "source": [
    "a = \"python is the best choice\"\n",
    "a.replace(\"best\",\"worst\")"
   ]
  },
  {
   "cell_type": "markdown",
   "metadata": {},
   "source": [
    "`.split(\"구분자\")` list형태로 구분자로 나눠서 return\n",
    "- 생략하면 공백을 기준으로 나눔"
   ]
  },
  {
   "cell_type": "code",
   "execution_count": 368,
   "metadata": {},
   "outputs": [
    {
     "data": {
      "text/plain": [
       "['사과', '귤', '배', ' 수박']"
      ]
     },
     "execution_count": 368,
     "metadata": {},
     "output_type": "execute_result"
    }
   ],
   "source": [
    "s3 = \"사과,귤,배, 수박\"\n",
    "s3.split(\",\") # list형태로 , 로 나눠서 return. 생략하면 공백을 기준으로 나눔"
   ]
  },
  {
   "cell_type": "code",
   "execution_count": 370,
   "metadata": {},
   "outputs": [
    {
     "data": {
      "text/plain": [
       "['사과,귤,배,', '수박']"
      ]
     },
     "execution_count": 370,
     "metadata": {},
     "output_type": "execute_result"
    }
   ],
   "source": [
    "s3.split(\" \")"
   ]
  },
  {
   "cell_type": "markdown",
   "metadata": {},
   "source": [
    "`.find('문자')`: 처음으로 '문자'가 나온 위치(index) 반환\n",
    "- 만약 찾는 문자가 없으면 -1을 반환"
   ]
  },
  {
   "cell_type": "code",
   "execution_count": 20,
   "metadata": {},
   "outputs": [
    {
     "name": "stdout",
     "output_type": "stream",
     "text": [
      "0 -1 7 19\n"
     ]
    }
   ],
   "source": [
    "a = \"python is the best choice\"\n",
    "a1 = a.find(\"p\")\n",
    "a2 = a.find(\"u\")\n",
    "a3 = a.find(\"is\")\n",
    "a4 = a.find(\"c\")\n",
    "print(a1,a2,a3,a4)"
   ]
  },
  {
   "cell_type": "markdown",
   "metadata": {},
   "source": [
    "`.index('문자')`: 처음으로 '문자'가 나온 위치(index) 반환\n",
    "- 만약 찾는 문자가 없으면 에러남"
   ]
  },
  {
   "cell_type": "code",
   "execution_count": 22,
   "metadata": {},
   "outputs": [
    {
     "name": "stdout",
     "output_type": "stream",
     "text": [
      "0 7 19\n"
     ]
    },
    {
     "ename": "ValueError",
     "evalue": "substring not found",
     "output_type": "error",
     "traceback": [
      "\u001b[1;31m---------------------------------------------------------------------------\u001b[0m",
      "\u001b[1;31mValueError\u001b[0m                                Traceback (most recent call last)",
      "\u001b[1;32m<ipython-input-22-edf6e1ce16ba>\u001b[0m in \u001b[0;36m<module>\u001b[1;34m\u001b[0m\n\u001b[0;32m      4\u001b[0m \u001b[0ma4\u001b[0m \u001b[1;33m=\u001b[0m \u001b[0ma\u001b[0m\u001b[1;33m.\u001b[0m\u001b[0mindex\u001b[0m\u001b[1;33m(\u001b[0m\u001b[1;34m\"c\"\u001b[0m\u001b[1;33m)\u001b[0m\u001b[1;33m\u001b[0m\u001b[1;33m\u001b[0m\u001b[0m\n\u001b[0;32m      5\u001b[0m \u001b[0mprint\u001b[0m\u001b[1;33m(\u001b[0m\u001b[0ma1\u001b[0m\u001b[1;33m,\u001b[0m\u001b[0ma3\u001b[0m\u001b[1;33m,\u001b[0m\u001b[0ma4\u001b[0m\u001b[1;33m)\u001b[0m\u001b[1;33m\u001b[0m\u001b[1;33m\u001b[0m\u001b[0m\n\u001b[1;32m----> 6\u001b[1;33m \u001b[0ma2\u001b[0m \u001b[1;33m=\u001b[0m \u001b[0ma\u001b[0m\u001b[1;33m.\u001b[0m\u001b[0mindex\u001b[0m\u001b[1;33m(\u001b[0m\u001b[1;34m\"u\"\u001b[0m\u001b[1;33m)\u001b[0m\u001b[1;33m\u001b[0m\u001b[1;33m\u001b[0m\u001b[0m\n\u001b[0m",
      "\u001b[1;31mValueError\u001b[0m: substring not found"
     ]
    }
   ],
   "source": [
    "a = \"python is the best choice\"\n",
    "a1 = a.index(\"p\")\n",
    "a3 = a.index(\"is\")\n",
    "a4 = a.index(\"c\")\n",
    "print(a1,a3,a4)\n",
    "a2 = a.index(\"u\")"
   ]
  },
  {
   "cell_type": "markdown",
   "metadata": {},
   "source": [
    "`\"삽입문자\".join(\"문자열\")`: 문자열의 각 문자 사이에 삽입문자 삽입"
   ]
  },
  {
   "cell_type": "code",
   "execution_count": 29,
   "metadata": {},
   "outputs": [
    {
     "name": "stdout",
     "output_type": "stream",
     "text": [
      "p0*y0*t0*h0*o0*n0* 0*i0*s0* 0*t0*h0*e0* 0*b0*e0*s0*t0* 0*c0*h0*o0*i0*c0*e\n",
      "a$$b$$cedf\n"
     ]
    }
   ],
   "source": [
    "print(\"0*\".join(a))\n",
    "print(\"$$\".join([\"a\",\"b\",\"cedf\"]))"
   ]
  },
  {
   "cell_type": "markdown",
   "metadata": {},
   "source": [
    "### 변환 함수\n",
    "정수로 변환: `int(값)`\n",
    "실수로 변환: `float(값)`\n",
    "문자열로 변환: `str(값)`\n",
    "bool(값)\n"
   ]
  },
  {
   "cell_type": "code",
   "execution_count": 259,
   "metadata": {},
   "outputs": [
    {
     "name": "stdout",
     "output_type": "stream",
     "text": [
      "num1:1\n",
      "num2:2\n"
     ]
    },
    {
     "data": {
      "text/plain": [
       "'12'"
      ]
     },
     "execution_count": 259,
     "metadata": {},
     "output_type": "execute_result"
    }
   ],
   "source": [
    "num1 = input(\"num1:\") # 문자열로 입력받는다\n",
    "num2 = input(\"num2:\")\n",
    "num1+num2"
   ]
  },
  {
   "cell_type": "code",
   "execution_count": 271,
   "metadata": {},
   "outputs": [
    {
     "name": "stdout",
     "output_type": "stream",
     "text": [
      "num1:1\n",
      "num2:1\n"
     ]
    },
    {
     "data": {
      "text/plain": [
       "2"
      ]
     },
     "execution_count": 271,
     "metadata": {},
     "output_type": "execute_result"
    }
   ],
   "source": [
    "num1 = input(\"num1:\") # 문자열로 입력받는다\n",
    "num1 = int(num1)\n",
    "num2 = int(input(\"num2:\"))\n",
    "num1+num2"
   ]
  },
  {
   "cell_type": "code",
   "execution_count": 269,
   "metadata": {},
   "outputs": [
    {
     "name": "stdout",
     "output_type": "stream",
     "text": [
      "num1:1\n",
      "num2:1\n"
     ]
    },
    {
     "data": {
      "text/plain": [
       "2"
      ]
     },
     "execution_count": 269,
     "metadata": {},
     "output_type": "execute_result"
    }
   ],
   "source": [
    "num1 = input(\"num1:\") # 문자열로 입력받는다\n",
    "num1 = int(num1)\n",
    "num2 = input(\"num2:\")\n",
    "num2 = int(num2)\n",
    "num1+num2"
   ]
  },
  {
   "cell_type": "code",
   "execution_count": 267,
   "metadata": {},
   "outputs": [
    {
     "data": {
      "text/plain": [
       "2.0"
      ]
     },
     "execution_count": 267,
     "metadata": {},
     "output_type": "execute_result"
    }
   ],
   "source": [
    "num2 = float(num2)\n",
    "num1+num2"
   ]
  },
  {
   "cell_type": "code",
   "execution_count": 266,
   "metadata": {},
   "outputs": [
    {
     "name": "stdout",
     "output_type": "stream",
     "text": [
      "1\n",
      "0\n"
     ]
    }
   ],
   "source": [
    "#int('aaa')\n",
    "print(int(True))\n",
    "print(int(False))"
   ]
  }
 ],
 "metadata": {
  "kernelspec": {
   "display_name": "Python 3",
   "language": "python",
   "name": "python3"
  },
  "language_info": {
   "codemirror_mode": {
    "name": "ipython",
    "version": 3
   },
   "file_extension": ".py",
   "mimetype": "text/x-python",
   "name": "python",
   "nbconvert_exporter": "python",
   "pygments_lexer": "ipython3",
   "version": "3.7.3"
  }
 },
 "nbformat": 4,
 "nbformat_minor": 2
}
