{
 "cells": [
  {
   "cell_type": "markdown",
   "metadata": {},
   "source": [
    "# 객체지향 프로그래밍\n",
    "<img src=\"5_1.jpg\">\n",
    "\n",
    "#### 객체지향:\n",
    "    - 순서를 보기 전에 각각의 일을 하는 프로그래밍을 짜고 추후에 순서에 맞추어서 실행. \n",
    "    - 분업가능.\n",
    "    - 재사용성이 높아짐.\n",
    "    - 유지, 보수가 쉬움.\n",
    "    - 설계가 어려움.\n",
    "    - 프로그램이 커질수록 유지, 보수가 힘들어 지기 때문에 정리하기 위해 \n",
    "    - 연관성 있는 함수들과 변수들을 묶어놓음 \n",
    "#### 절차지향: \n",
    "    - 순서에 포커스를 두어서 프로그램을 짜기.\n",
    "\n",
    "\n",
    "<img src=\"5_2.jpg\">"
   ]
  },
  {
   "cell_type": "markdown",
   "metadata": {},
   "source": [
    "## 파이썬과 객체지향\n",
    "- 어느정도 지원은 하지만 아주 복잡한 관계성을 만들기 쉽진 않다"
   ]
  },
  {
   "cell_type": "markdown",
   "metadata": {},
   "source": [
    "## 클래스(class)와 객체(Instance)\n",
    "\n",
    "## 클래스: \n",
    "- 객체의 속성과 메소드를 정의한 설계도\n",
    "- 사용자정의 데이터 타입 (필요에 따른 데이터의 종류)을 정의하고 분류\n",
    "\n",
    "### 객체(instance):\n",
    "- class가 설계한 속성에 따라 값을 가지고 일을 함.\n",
    "- 프로그램 모듈\n",
    "- 속성(Attribute)와 메소드(Method)를 갖는다.\n",
    "    - 속성 (instance 변수):\n",
    "         - 객체의 데이터\n",
    "         - 객체의 상태\n",
    "    - 메소드 (instance 메소드):\n",
    "         - 객체가 제공하는 기능 (함수)\n",
    "         - 함수가 객체의 기능으로 들어가면 메소드라고 불림\n",
    "\n",
    "### 인스턴스화(instantiate):\n",
    "- 클래스에 따라 객체를 만드는 것\n"
   ]
  },
  {
   "cell_type": "markdown",
   "metadata": {},
   "source": [
    "### 클래스 구현\n",
    "```python\n",
    "class 이름:  # 클래스 이름\n",
    "   구현      # 클래스 코드블록\n",
    "```\n",
    "\n",
    "### 객체(instance) 생성\n",
    "```pythin\n",
    "변수 = 클래스이름()\n",
    "```"
   ]
  },
  {
   "cell_type": "markdown",
   "metadata": {},
   "source": [
    "빈 클라스에 객체만 생성\n",
    "\n",
    "<img src=\"5_3.jpg\"> "
   ]
  },
  {
   "cell_type": "code",
   "execution_count": 5,
   "metadata": {},
   "outputs": [],
   "source": [
    "class Person: #Person이라는 클래스를 만듦\n",
    "    pass"
   ]
  },
  {
   "cell_type": "code",
   "execution_count": 6,
   "metadata": {},
   "outputs": [],
   "source": [
    "p = Person() #Person 클래스의 객체 생성"
   ]
  },
  {
   "cell_type": "code",
   "execution_count": 17,
   "metadata": {},
   "outputs": [],
   "source": [
    "class Person: #Person이라는 클래스를 만듦\n",
    "    def __init__(self, name=\"이름\", age=0):\n",
    "        pass"
   ]
  },
  {
   "cell_type": "markdown",
   "metadata": {},
   "source": [
    "### 속성(Attribute)을 추가.\n",
    "- instance (member) 변수 \n",
    "- `객체.변수명 = 값` (추천하는 방법은 아님)\n",
    "    - 객체가 이미 가지고 있는 변수일 경우는 **변경**, 없는 변수면 **추가**\n",
    "    - 추천하는 방식은 아님. 객체가 서로 다른 속성의 변수를 만들 수 있음. 일관성이 떨어짐.\n",
    "- 생성자/메소드를 통해 변수 추가 (추천하는 방식)\n",
    "    - 생성자: 값을 초기화 후 추가. 객체 만들때 사용. 한번만 사용 \n",
    "    - 메소드: 값을 조회, 변경, 여러번 사용. 객체가 제공하는 기능\n",
    "- 속성을 조회(사용)\n",
    "    - `객체.변수명`"
   ]
  },
  {
   "cell_type": "code",
   "execution_count": 18,
   "metadata": {},
   "outputs": [],
   "source": [
    "p.name = \"홍길동\" # attribute 추가\n",
    "p.age = 20\n",
    "p.address = \"서울\""
   ]
  },
  {
   "cell_type": "code",
   "execution_count": 19,
   "metadata": {},
   "outputs": [
    {
     "name": "stdout",
     "output_type": "stream",
     "text": [
      "홍길동\n",
      "20\n",
      "서울\n"
     ]
    }
   ],
   "source": [
    "print(p.name)\n",
    "print(p.age)\n",
    "print(p.address)"
   ]
  },
  {
   "cell_type": "code",
   "execution_count": 20,
   "metadata": {},
   "outputs": [
    {
     "name": "stdout",
     "output_type": "stream",
     "text": [
      "이순신\n",
      "박영수\n"
     ]
    }
   ],
   "source": [
    "# p2.name이 존재하는 Attribute 변경\n",
    "p2 = Person()\n",
    "p2.name = \"이순신\"\n",
    "print(p2.name)\n",
    "p2.name = \"박영수\"\n",
    "p2.email = \"abc@fa.com\"\n",
    "print(p2.name)"
   ]
  },
  {
   "cell_type": "markdown",
   "metadata": {},
   "source": [
    "### 생성자\n",
    "- 클래스에서 객체를 생성할 때 호출되는 기능 (이때 딱 한번 호출 됨)\n",
    "- Attribute(instance변수)의 값을 **초기화**하는 코드를 구현\n",
    "\n",
    "```python\n",
    "def __init__(self,매개변수):   # 관례적으로 self라는 첫번째 매개변수를 선언\n",
    "    구현                       # -> attribute 초기화\n",
    "```\n",
    "- 매개변수를 선언: 객체 생성하는 곳에서 속성에 넣어줄 값을 받을경우 선언.\n",
    "\n",
    "### self\n",
    "- 생성자/instance 메소드의 첫번째 매개변수로 선언.\n",
    "    - 관례적으로 self로 선언\n",
    "- 생성자/instance 메소드를 가지고 있는 객체 자체를 가리킨다.\n",
    "- self를 이용해 생성자나 메소드가 attribute 또는 다른 instance메소드 호출할 수 있다.\n",
    "- 갇은 객체 안의 다른 메소드를 서로 연결하는 역할을 함.\n",
    "- 클래스로부터 만들어진 객체를 가리킴\n",
    "\n",
    "<img src=\"5_4.jpg\">"
   ]
  },
  {
   "cell_type": "code",
   "execution_count": 314,
   "metadata": {},
   "outputs": [],
   "source": [
    "class Person2:   \n",
    "    def __init__(self): #정해진 메소드이름. 바꿀 수 없음. \n",
    "        # 속성을 정의\n",
    "        self.name = None\n",
    "        self.age = 0\n",
    "        self.address = \"서울\""
   ]
  },
  {
   "cell_type": "code",
   "execution_count": 315,
   "metadata": {},
   "outputs": [
    {
     "name": "stdout",
     "output_type": "stream",
     "text": [
      "None 서울\n"
     ]
    }
   ],
   "source": [
    "Person2()      #클래스의 생성자 (__init__)가 호출된다\n",
    "p3 = Person2() #객체생성\n",
    "print(p3.name, p3.address)"
   ]
  },
  {
   "cell_type": "code",
   "execution_count": 317,
   "metadata": {},
   "outputs": [],
   "source": [
    "# 매개변수가 있는 생성자\n",
    "class Person3:\n",
    "    def __init__(self, name, age=0, address=None):\n",
    "        self.name = name\n",
    "        self.age = age\n",
    "        self.address = address"
   ]
  },
  {
   "cell_type": "code",
   "execution_count": 318,
   "metadata": {},
   "outputs": [
    {
     "ename": "TypeError",
     "evalue": "__init__() missing 1 required positional argument: 'name'",
     "output_type": "error",
     "traceback": [
      "\u001b[1;31m---------------------------------------------------------------------------\u001b[0m",
      "\u001b[1;31mTypeError\u001b[0m                                 Traceback (most recent call last)",
      "\u001b[1;32m<ipython-input-318-42903935f7bc>\u001b[0m in \u001b[0;36m<module>\u001b[1;34m\u001b[0m\n\u001b[1;32m----> 1\u001b[1;33m \u001b[0mp4\u001b[0m \u001b[1;33m=\u001b[0m \u001b[0mPerson3\u001b[0m\u001b[1;33m(\u001b[0m\u001b[1;33m)\u001b[0m\u001b[1;33m\u001b[0m\u001b[1;33m\u001b[0m\u001b[0m\n\u001b[0m\u001b[0;32m      2\u001b[0m \u001b[1;33m\u001b[0m\u001b[0m\n\u001b[0;32m      3\u001b[0m \u001b[1;31m#-->매개변수 name 정의하지 않았으므로 (default 가 없음) 에러남.\u001b[0m\u001b[1;33m\u001b[0m\u001b[1;33m\u001b[0m\u001b[1;33m\u001b[0m\u001b[0m\n",
      "\u001b[1;31mTypeError\u001b[0m: __init__() missing 1 required positional argument: 'name'"
     ]
    }
   ],
   "source": [
    "p4 = Person3()\n",
    "\n",
    "#-->매개변수 name 정의하지 않았으므로 (default 가 없음) 에러남."
   ]
  },
  {
   "cell_type": "code",
   "execution_count": 319,
   "metadata": {},
   "outputs": [
    {
     "name": "stdout",
     "output_type": "stream",
     "text": [
      "김명수 0 인천\n"
     ]
    }
   ],
   "source": [
    "p4 = Person3(\"김명수\", address = \"인천\")\n",
    "print(p4.name, p4.age, p4.address)"
   ]
  },
  {
   "cell_type": "markdown",
   "metadata": {},
   "source": [
    "1) 공간: self에 객체가 대입되어 공간을 만듦\n",
    "\n",
    "2) 생성자: class에서 지정된 변수에 값을 넣어줌"
   ]
  },
  {
   "cell_type": "code",
   "execution_count": 116,
   "metadata": {},
   "outputs": [
    {
     "name": "stdout",
     "output_type": "stream",
     "text": [
      "이철수 20 None\n"
     ]
    }
   ],
   "source": [
    "p5 = Person3(\"이철수\",20)\n",
    "print(p5.name, p5.age, p5.address)"
   ]
  },
  {
   "cell_type": "markdown",
   "metadata": {},
   "source": [
    "### Instance 메소드\n",
    "- 객체가 제공하는 기능 (동작)\n",
    "- 주로 attribute(instance 변수)와 관련된 작업을 처리한다\n",
    "\n",
    "```python\n",
    "def 이름(self,매개변수):\n",
    "    구현\n",
    "```\n",
    "\n",
    "호출: `객체.메소드이름(인자)`"
   ]
  },
  {
   "cell_type": "code",
   "execution_count": 378,
   "metadata": {},
   "outputs": [],
   "source": [
    "# 생성자 + 메소드\n",
    "#--> 데이터 타입을 정의함.\n",
    "class Person4:\n",
    "    def __init__(self, name, age, address=None):\n",
    "        self.name = name\n",
    "        self.age = age\n",
    "        self.address = address\n",
    "    \n",
    "    def get_person_info(self):\n",
    "        \"\"\"Attribute들을 하나의 문자열로 묶어서 리턴하는 메소드\n",
    "        매개변수\n",
    "        리턴값\n",
    "            str: 이름, 나이, 주소를 문자열로 묶어 반환\"\"\" #doc string (설명)\n",
    "        info = \"이름: {}, 나이: {}, 주소: {}\".format(self.name, self.age, self.address)\n",
    "        return info\n",
    "    \n",
    "# 속성의 값을 변경하는 메소드: set_속성명    -> 관례적으로 이렇게 이름을 붙임\n",
    "    def set_name(self, name):\n",
    "        if name.strip(): #len(name) !=0\n",
    "            self.name = name\n",
    "        else:\n",
    "            print(\"이름을 한글자 이상 넣으시오\")\n",
    "        \n",
    "    def set_age(self, age):\n",
    "        if  int(age) >= 0:\n",
    "            self.age = int(age)\n",
    "        else:\n",
    "            print(\"나이에 0이상 정수를 넣으세요.\")\n",
    "        \n",
    "    def set_address(self,address):\n",
    "        set_address = address\n",
    "    \n",
    "# 속성의 값을 리턴하는 메소드: get_속성명()  \n",
    "    def get_name(self):\n",
    "        return self.name\n",
    "    \n",
    "    def get_age(self):\n",
    "        return self.age   \n",
    "    \n",
    "    def get_address(self):\n",
    "        return self.addres"
   ]
  },
  {
   "cell_type": "code",
   "execution_count": 321,
   "metadata": {},
   "outputs": [
    {
     "name": "stdout",
     "output_type": "stream",
     "text": [
      "이름: 홍길동, 나이: 30, 주소: None\n"
     ]
    },
    {
     "data": {
      "text/plain": [
       "'홍길동'"
      ]
     },
     "execution_count": 321,
     "metadata": {},
     "output_type": "execute_result"
    }
   ],
   "source": [
    "p6 = Person4(\"홍길동\",30)\n",
    "info = p6.get_person_info() #tab: 자동완선, shift_tab(x2): 설명\n",
    "print(info)\n",
    "p6.age = 300 # attribute 변경\n",
    "p6.age\n",
    "\n",
    "p6.get_name() # 매개변수 넣으면 암됨. 정의할 때 객체만 매개변수로 정의되어 있음"
   ]
  },
  {
   "cell_type": "code",
   "execution_count": 325,
   "metadata": {},
   "outputs": [
    {
     "data": {
      "text/plain": [
       "'이름: 이순신, 나이: 300, 주소: None'"
      ]
     },
     "execution_count": 325,
     "metadata": {},
     "output_type": "execute_result"
    }
   ],
   "source": [
    "p6.set_name(\"이순신\")\n",
    "p6.set_address(\"서울\")\n",
    "p6.get_person_info()"
   ]
  },
  {
   "cell_type": "code",
   "execution_count": 326,
   "metadata": {},
   "outputs": [
    {
     "name": "stdout",
     "output_type": "stream",
     "text": [
      "이름을 한글자 이상 넣으시오\n"
     ]
    },
    {
     "data": {
      "text/plain": [
       "'이름: 이순신, 나이: 300, 주소: None'"
      ]
     },
     "execution_count": 326,
     "metadata": {},
     "output_type": "execute_result"
    }
   ],
   "source": [
    "p6.set_name(\"   \")\n",
    "p6.get_person_info()"
   ]
  },
  {
   "cell_type": "code",
   "execution_count": 327,
   "metadata": {},
   "outputs": [
    {
     "name": "stdout",
     "output_type": "stream",
     "text": [
      "나이에 0이상 정수를 넣으세요.\n",
      "이름을 한글자 이상 넣으시오\n"
     ]
    }
   ],
   "source": [
    "p7 = Person4(\"홍길동\",30)\n",
    "p7.set_age(-10)\n",
    "p7.set_name(\"\")\n",
    "p7.get_person_info()\n",
    "p7.email = \"new@mail.com\""
   ]
  },
  {
   "cell_type": "markdown",
   "metadata": {},
   "source": [
    "`객체.__dict__`\n",
    "- 객체의 속성들을 딕셔너리로 반환해서 조회"
   ]
  },
  {
   "cell_type": "code",
   "execution_count": 328,
   "metadata": {},
   "outputs": [
    {
     "data": {
      "text/plain": [
       "{'name': '홍길동', 'age': 30, 'address': None, 'email': 'new@mail.com'}"
      ]
     },
     "execution_count": 328,
     "metadata": {},
     "output_type": "execute_result"
    }
   ],
   "source": [
    "p7.__dict__"
   ]
  },
  {
   "cell_type": "markdown",
   "metadata": {},
   "source": [
    "## 객체의 속성(Attribute)\n",
    "- 가변적\n"
   ]
  },
  {
   "cell_type": "markdown",
   "metadata": {},
   "source": [
    "## 정보은닉\n",
    "- 캡슐화(encapsulation) :객체 안에 변수들이 들어있음.\n",
    "- 캡슐화된 객체의 변수를 클래스 외부에서 호출하지 못하게 만드는 것\n",
    "     - 데이터 보호\n",
    "- 파이썬은 접근제한자 기능이 없음.\n",
    "- `self. __변수 = 변수`: 변수를 외부에서 호출할 수 없음 \n",
    "- `__`변수를 이름을 바꿈으로 감춤. \n"
   ]
  },
  {
   "cell_type": "code",
   "execution_count": 118,
   "metadata": {},
   "outputs": [],
   "source": [
    "class Test:\n",
    "    def __init__(self, age):\n",
    "        self.__age = age \n",
    "    def set_age(self,age):\n",
    "        self.__age = age\n",
    "    def get_age(self):\n",
    "        return self.__age"
   ]
  },
  {
   "cell_type": "code",
   "execution_count": 131,
   "metadata": {},
   "outputs": [
    {
     "name": "stdout",
     "output_type": "stream",
     "text": [
      "10\n"
     ]
    },
    {
     "ename": "AttributeError",
     "evalue": "'Test' object has no attribute '__age'",
     "output_type": "error",
     "traceback": [
      "\u001b[1;31m---------------------------------------------------------------------------\u001b[0m",
      "\u001b[1;31mAttributeError\u001b[0m                            Traceback (most recent call last)",
      "\u001b[1;32m<ipython-input-131-04a97950a2d5>\u001b[0m in \u001b[0;36m<module>\u001b[1;34m\u001b[0m\n\u001b[0;32m      2\u001b[0m \u001b[0mprint\u001b[0m\u001b[1;33m(\u001b[0m\u001b[0mt\u001b[0m\u001b[1;33m.\u001b[0m\u001b[0mget_age\u001b[0m\u001b[1;33m(\u001b[0m\u001b[1;33m)\u001b[0m\u001b[1;33m)\u001b[0m\u001b[1;33m\u001b[0m\u001b[1;33m\u001b[0m\u001b[0m\n\u001b[0;32m      3\u001b[0m \u001b[0mt\u001b[0m\u001b[1;33m.\u001b[0m\u001b[0mage\u001b[0m \u001b[1;33m=\u001b[0m \u001b[1;36m50\u001b[0m\u001b[1;33m\u001b[0m\u001b[1;33m\u001b[0m\u001b[0m\n\u001b[1;32m----> 4\u001b[1;33m \u001b[0mprint\u001b[0m\u001b[1;33m(\u001b[0m\u001b[0mt\u001b[0m\u001b[1;33m.\u001b[0m\u001b[0m__age\u001b[0m\u001b[1;33m)\u001b[0m \u001b[1;31m# __age가 실행이 안됨\u001b[0m\u001b[1;33m\u001b[0m\u001b[1;33m\u001b[0m\u001b[0m\n\u001b[0m",
      "\u001b[1;31mAttributeError\u001b[0m: 'Test' object has no attribute '__age'"
     ]
    }
   ],
   "source": [
    "t = Test(10)\n",
    "print(t.get_age())\n",
    "print(t.__age) # __age가 실행이 안됨\n"
   ]
  },
  {
   "cell_type": "code",
   "execution_count": 133,
   "metadata": {},
   "outputs": [
    {
     "data": {
      "text/plain": [
       "{'_Test__age': 10, 'age': 50, '__age': 30}"
      ]
     },
     "execution_count": 133,
     "metadata": {},
     "output_type": "execute_result"
    }
   ],
   "source": [
    "t.__age = 30  # 완벽하게 막아지지 않음. 의미표현 정도로만 지원됨\n",
    "t.age = 50\n",
    "t.__dict__"
   ]
  },
  {
   "cell_type": "markdown",
   "metadata": {},
   "source": [
    "# 상속\n",
    "- 기존 클래스를 물려받아 속성이나 메소드를 추가한 새로운 클래스를 만드는 것.\n",
    "- 메소드와 변수는 상속이 되지만 default 매개변수는 상속이 되지 않음\n",
    "```python\n",
    "class 이름(상위클래스이름1,상위클래스이름2, ..)\n",
    "```\n",
    "- 파이썬은 다중상속을 지원 (여러 클래스로부터 상속 가능)\n",
    "<img src=\"5_5.jpg\">"
   ]
  },
  {
   "cell_type": "code",
   "execution_count": 336,
   "metadata": {},
   "outputs": [],
   "source": [
    "# (name, age, address)-Person4, level\n",
    "class Member1(Person4):\n",
    "    pass"
   ]
  },
  {
   "cell_type": "code",
   "execution_count": 338,
   "metadata": {},
   "outputs": [
    {
     "name": "stdout",
     "output_type": "stream",
     "text": [
      "이름: 새회원1, 나이: 20, 주소: None\n"
     ]
    }
   ],
   "source": [
    "m1 = Member1(\"새회원1\",10)\n",
    "m1.set_age(20)\n",
    "print(m1.get_person_info())"
   ]
  },
  {
   "cell_type": "code",
   "execution_count": 339,
   "metadata": {},
   "outputs": [],
   "source": [
    "# (name, age, address)-Person4, level\n",
    "class Member(Person4):\n",
    "    def __init__(self, name, age, address, level=0):\n",
    "       # self.name = name # 새로 이름 다시 정의. \n",
    "       # super(): 부모 객체를 반환\n",
    "        super().__init__(name, age, address) # 부모객체의 생성자 호출\n",
    "        self.level = level\n",
    "        \n",
    "    # 부모클래스에 정의된 메소드와 동일한 이름의 메소드 정의\n",
    "    # 같은일을 하지만 자식 클래스의 특징을 추가 해야 하는 경우 같은 이름으로 구현.\n",
    "    # 메소드 재정의 (method overriding)"
   ]
  },
  {
   "cell_type": "code",
   "execution_count": 340,
   "metadata": {},
   "outputs": [
    {
     "ename": "TypeError",
     "evalue": "__init__() missing 1 required positional argument: 'address'",
     "output_type": "error",
     "traceback": [
      "\u001b[1;31m---------------------------------------------------------------------------\u001b[0m",
      "\u001b[1;31mTypeError\u001b[0m                                 Traceback (most recent call last)",
      "\u001b[1;32m<ipython-input-340-a0cf174b4b1a>\u001b[0m in \u001b[0;36m<module>\u001b[1;34m\u001b[0m\n\u001b[1;32m----> 1\u001b[1;33m \u001b[0mm2\u001b[0m \u001b[1;33m=\u001b[0m \u001b[0mMember\u001b[0m\u001b[1;33m(\u001b[0m\u001b[1;34m\"새회원\"\u001b[0m\u001b[1;33m,\u001b[0m\u001b[1;36m10\u001b[0m\u001b[1;33m)\u001b[0m\u001b[1;33m\u001b[0m\u001b[1;33m\u001b[0m\u001b[0m\n\u001b[0m\u001b[0;32m      2\u001b[0m \u001b[0mm2\u001b[0m\u001b[1;33m.\u001b[0m\u001b[0mset_age\u001b[0m\u001b[1;33m(\u001b[0m\u001b[1;36m20\u001b[0m\u001b[1;33m)\u001b[0m\u001b[1;33m\u001b[0m\u001b[1;33m\u001b[0m\u001b[0m\n\u001b[0;32m      3\u001b[0m \u001b[0mprint\u001b[0m\u001b[1;33m(\u001b[0m\u001b[0mm2\u001b[0m\u001b[1;33m.\u001b[0m\u001b[0mget_person_info\u001b[0m\u001b[1;33m(\u001b[0m\u001b[1;33m)\u001b[0m\u001b[1;33m)\u001b[0m\u001b[1;33m\u001b[0m\u001b[1;33m\u001b[0m\u001b[0m\n",
      "\u001b[1;31mTypeError\u001b[0m: __init__() missing 1 required positional argument: 'address'"
     ]
    }
   ],
   "source": [
    "m2 = Member(\"새회원\",10)\n",
    "m2.set_age(20)\n",
    "print(m2.get_person_info())"
   ]
  },
  {
   "cell_type": "code",
   "execution_count": 342,
   "metadata": {},
   "outputs": [
    {
     "name": "stdout",
     "output_type": "stream",
     "text": [
      "이름: 새회원, 나이: 20, 주소: 서울\n",
      "준회원\n"
     ]
    }
   ],
   "source": [
    "m = Member(\"새회원\", 10,\"서울\",\"준회원\")\n",
    "m.set_age(20)\n",
    "print(m.get_person_info()) #--> level; 준회원이 빠져있음. 상위클래스 person의 정보만 조회.\n",
    "print(m.level)\n"
   ]
  },
  {
   "cell_type": "markdown",
   "metadata": {},
   "source": [
    "## 메소드 재정의(overriding)\n",
    "- 부모클래스에 정의된 메소드와 동일한 이름의 메소드 정의\n",
    "- 같은일을 하지만 자식 클래스의 특징을 추가 해야 하는 경우 같은 이름으로 구현."
   ]
  },
  {
   "cell_type": "code",
   "execution_count": 343,
   "metadata": {},
   "outputs": [],
   "source": [
    "# (name, age, address)-Person4, level\n",
    "class Member(Person4):\n",
    "    def __init__(self, name, age, address, level=0):\n",
    "       # self.name = name # 새로 이름 다시 정의. \n",
    "       # super(): 부모 객체를 반환\n",
    "        super().__init__(name, age, address) # 부모객체의 생성자 호출\n",
    "        self.level = level\n",
    "        \n",
    "\n",
    "    # 메소드 재정의 (method overriding)\n",
    "    def get_person_info(self):\n",
    "        \"\"\" 회원 정보를 묶어서 반환하는 string으로 메소드\"\"\"\n",
    "        base_info = super().get_person_info() #상위클래스에 정의된 메소드 호출\n",
    "        info = \"{}, 등급: {}\".format(base_info, self.level)\n",
    "        return info"
   ]
  },
  {
   "cell_type": "code",
   "execution_count": 344,
   "metadata": {},
   "outputs": [
    {
     "name": "stdout",
     "output_type": "stream",
     "text": [
      "이름: 새회원, 나이: 20, 주소: 서울, 등급: 준회원\n"
     ]
    }
   ],
   "source": [
    "m = Member(\"새회원\", 10,\"서울\",\"준회원\")\n",
    "m.set_age(20)\n",
    "print(m.get_person_info()) #--> level; 준회원 포함. 상, 하위 클래스의 정보 모두 조회하도록 재정의됨."
   ]
  },
  {
   "cell_type": "markdown",
   "metadata": {},
   "source": [
    "## 특수 메소드 (Special Method)\n",
    "- __로 시작하는 메소드로 특정 상황에서 파이썬실행환경이 자동으로 호출해 주는 메소드들.\n",
    "    - 실행환경이 호출하는 메소드를 call back 메소드라고도 한다.\n",
    "- `__메소드이름__`\n",
    "- \"Dunder\"(Double underscore) 메소드로 불림\n",
    "\n",
    "예)\n",
    "\n",
    "- `__gt__(self,other)`: >   \n",
    "- `__ge__(self,other)`: >=\n",
    "- `__lt__(self,other)`: <\n",
    "- `__le__(self,other)`: <=\n",
    "- `__ne__(self,other)`: !=\n",
    "- `__add__(self,other)`: self 와 other를 더함\n",
    "- `__sub__(self,other)`: -\n",
    "- `__mul__(self,other)`: *\n",
    "- `__truediv__(self,other)`: / 나누기\n",
    "- `__floordiv__(self,other)`: // 몫 나누기\n",
    "- `__mod__(self,other)`: % 나머지 나누기"
   ]
  },
  {
   "cell_type": "markdown",
   "metadata": {},
   "source": [
    "값을 조회할 때"
   ]
  },
  {
   "cell_type": "code",
   "execution_count": 347,
   "metadata": {},
   "outputs": [],
   "source": [
    "class Point:\n",
    "    #생성자 -> 특수메소드: 객체생성시 Point(10,20) 호출\n",
    "    def __init__(self, x, y):\n",
    "        self.x = x\n",
    "        self.y = y    "
   ]
  },
  {
   "cell_type": "code",
   "execution_count": 353,
   "metadata": {},
   "outputs": [
    {
     "name": "stdout",
     "output_type": "stream",
     "text": [
      "10 20\n",
      "<__main__.Point object at 0x000002014F0770F0>\n",
      "10 20\n"
     ]
    }
   ],
   "source": [
    "pt = Point(10,20)\n",
    "print(pt.x, pt.y)\n",
    "print(str(pt))               # --> pt의 클라스, 메모리 위치 등 정보를 string으로 출력\n",
    "print(str(pt.x),str(pt.y))   # --> 값을 string으로 출력하고 싶을땐 각각 조회해서 string 으로 바꿔서 출력.\n",
    "                             # --> 귀찮다....\n",
    "                             # 특수 메소드__str__로 외부에서 str이 하는 일을 정의해 줄 수 있음"
   ]
  },
  {
   "cell_type": "markdown",
   "metadata": {},
   "source": [
    "`__str__(self)`: 객체를 문자열로 변환"
   ]
  },
  {
   "cell_type": "code",
   "execution_count": 19,
   "metadata": {},
   "outputs": [],
   "source": [
    "class Point2:\n",
    "    #생성자 -> 특수메소드: 객체생성시 Point(10,20) 호출\n",
    "    def __init__(self, x, y):\n",
    "        self.x = x\n",
    "        self.y = y\n",
    "        \n",
    "        #객체를 문자열로 변환할 때 호출되는 메소드\n",
    "    def __str__(self):  \n",
    "        return \"X:{}, Y:{}\".format(self.x, self.y)"
   ]
  },
  {
   "cell_type": "code",
   "execution_count": 20,
   "metadata": {},
   "outputs": [
    {
     "data": {
      "text/plain": [
       "(10, 20)"
      ]
     },
     "execution_count": 20,
     "metadata": {},
     "output_type": "execute_result"
    }
   ],
   "source": [
    "pt1 = Point2(10,20)\n",
    "pt1.x, pt1.y"
   ]
  },
  {
   "cell_type": "code",
   "execution_count": 21,
   "metadata": {
    "scrolled": true
   },
   "outputs": [
    {
     "data": {
      "text/plain": [
       "'X:10, Y:20'"
      ]
     },
     "execution_count": 21,
     "metadata": {},
     "output_type": "execute_result"
    }
   ],
   "source": [
    "str(pt1) # 포인트의 객체를 문자열로 변환"
   ]
  },
  {
   "cell_type": "markdown",
   "metadata": {},
   "source": [
    "비교할 때"
   ]
  },
  {
   "cell_type": "code",
   "execution_count": 27,
   "metadata": {},
   "outputs": [
    {
     "name": "stdout",
     "output_type": "stream",
     "text": [
      "False\n",
      "True\n",
      "True\n"
     ]
    },
    {
     "data": {
      "text/plain": [
       "True"
      ]
     },
     "execution_count": 27,
     "metadata": {},
     "output_type": "execute_result"
    }
   ],
   "source": [
    "pt1 = Point2(10,20)\n",
    "pt2 = Point2(10,20)\n",
    "print(pt1 == pt2)             # 두 객체가 같은 객체인지 비교 (같은 메모리를 사용하는지 비교) --> 다른 객체임\n",
    "print(str(pt1) == str(pt2))   # 두 객체가 리턴하는 값이 같은지 비교  --> 값은 같음\n",
    "pt3 = pt1                      \n",
    "print(pt3 == pt1)          \n",
    "pt3.__dict__ == pt2.__dict__"
   ]
  },
  {
   "cell_type": "markdown",
   "metadata": {},
   "source": [
    "`__eq__(self, other)`: == 연산자의 정의가 같은 객체인지 비교하는 대신 값을 비교하는 것으로 바뀜"
   ]
  },
  {
   "cell_type": "code",
   "execution_count": 16,
   "metadata": {},
   "outputs": [],
   "source": [
    "class Point3:\n",
    "    #생성자 -> 특수메소드: 객체생성시 Point(10,20) 호출\n",
    "    def __init__(self, x, y):\n",
    "        self.x = x\n",
    "        self.y = y\n",
    "        \n",
    "        #객체를 문자열로 변환할 때 호출되는 메소드\n",
    "    def __str__(self):\n",
    "        return \"X:{}, Y:{}\".format(self.x, self.y)\n",
    "    \n",
    "    # point객체_A == point객체_B : == 연산자로 비교시 호출\n",
    "    def __eq__(self, other): #self = A, other = B\n",
    "        return (self.x == other.x) & (self.y == other.y) # x,y 값이 같을 때 True 리턴"
   ]
  },
  {
   "cell_type": "code",
   "execution_count": 18,
   "metadata": {},
   "outputs": [
    {
     "name": "stdout",
     "output_type": "stream",
     "text": [
      "True\n",
      "True\n",
      "True\n"
     ]
    }
   ],
   "source": [
    "pt1 = Point3(10,20)\n",
    "pt2 = Point3(10,20)\n",
    "print(pt1 == pt2)             # 두 객체가 같은 값을 가졌는지 비교\n",
    "print(str(pt1) == str(pt2))   # 두 객체가 리턴하는 값이 같은지 비교  --> 값은 같음\n",
    "pt3 = pt1                      \n",
    "print(pt3 == pt1)  "
   ]
  },
  {
   "cell_type": "markdown",
   "metadata": {},
   "source": [
    "`__add__(self,other)`: +를 사용했을때 self 와 other를 더함"
   ]
  },
  {
   "cell_type": "code",
   "execution_count": 5,
   "metadata": {},
   "outputs": [],
   "source": [
    "class Point3:\n",
    "    #생성자 -> 특수메소드: 객체생성시 Point(10,20) 호출\n",
    "    def __init__(self, x, y):\n",
    "        self.x = x\n",
    "        self.y = y\n",
    "    \n",
    "    def __add__(self, other):\n",
    "        new_x = self.x + other.x\n",
    "        new_y = self.y + other.y\n",
    "        return Point3(new_x,new_y) "
   ]
  },
  {
   "cell_type": "code",
   "execution_count": 10,
   "metadata": {},
   "outputs": [
    {
     "data": {
      "text/plain": [
       "{'x': 11, 'y': 22}"
      ]
     },
     "execution_count": 10,
     "metadata": {},
     "output_type": "execute_result"
    }
   ],
   "source": [
    "pt2 = Point3(10,20)\n",
    "pt3 = Point3(1,2)\n",
    "p = pt2 + pt3 \n",
    "p.__dict__"
   ]
  },
  {
   "cell_type": "markdown",
   "metadata": {},
   "source": [
    "`__sub__(self, other)`: -로 뺄셈을 함\n",
    "- other가 정수도 될 수 있음"
   ]
  },
  {
   "cell_type": "code",
   "execution_count": 13,
   "metadata": {},
   "outputs": [],
   "source": [
    "class Point4:\n",
    "    #생성자 -> 특수메소드: 객체생성시 Point(10,20) 호출\n",
    "    def __init__(self, x, y):\n",
    "        self.x = x\n",
    "        self.y = y\n",
    "    \n",
    "    def __sub__(self, other):\n",
    "        \"\"\"self: point객체, other:정수\"\"\"\n",
    "        n_x = self.x - other\n",
    "        n_y = self.y - other\n",
    "        return Point4(n_x,n_y)"
   ]
  },
  {
   "cell_type": "code",
   "execution_count": 30,
   "metadata": {},
   "outputs": [
    {
     "name": "stdout",
     "output_type": "stream",
     "text": [
      "<__main__.Point4 object at 0x00000236A5D0FEF0>\n",
      "{'x': 11, 'y': 22}\n",
      "{'x': 6, 'y': 16}\n"
     ]
    }
   ],
   "source": [
    "pt2 = Point4(10,20)\n",
    "p2 = pt2 - 4\n",
    "print(p2)\n",
    "print(p.__dict__)\n",
    "print(p2.__dict__)"
   ]
  },
  {
   "cell_type": "markdown",
   "metadata": {},
   "source": [
    "겍체(Instance)를 사용하는 이유\n",
    "\n",
    "객체는 변수(attribution)와 메소드(method)를 갖는다.\n",
    "\n",
    "클래스: 필요한 (데이터-동작)을 묶어서 자체적으로 처리하는 코드.\n",
    "객체: 클래스를 이용해서 생성한 묶여서 나온 값들.\n",
    "\n",
    "생성자는 객체가 생성될 때 호출\n",
    "`p = Person()` \n",
    "`p.get_info()` self 는 p\n",
    "\n"
   ]
  },
  {
   "cell_type": "markdown",
   "metadata": {},
   "source": [
    "## 다중상속"
   ]
  },
  {
   "cell_type": "code",
   "execution_count": 33,
   "metadata": {},
   "outputs": [],
   "source": [
    "class Super1:\n",
    "    def m(self):\n",
    "        print(\"Super1.m()\")\n",
    "\n",
    "class Super2:\n",
    "    def m(self):\n",
    "        print(\"Super1.m2()\")\n",
    "        \n",
    "    def m2(self):\n",
    "        print(\"Super2.m2()\")\n"
   ]
  },
  {
   "cell_type": "markdown",
   "metadata": {},
   "source": [
    "같은 이름의 메소드가 두 부모클래스에 있으면 앞의 부모클래스가 가진 값이 호출 됨"
   ]
  },
  {
   "cell_type": "code",
   "execution_count": 37,
   "metadata": {},
   "outputs": [
    {
     "name": "stdout",
     "output_type": "stream",
     "text": [
      "Super1.m()\n"
     ]
    }
   ],
   "source": [
    "class Sub(Super1,Super2):\n",
    "    pass\n",
    "\n",
    "s = Sub() \n",
    "s.m()  # "
   ]
  },
  {
   "cell_type": "code",
   "execution_count": 38,
   "metadata": {},
   "outputs": [
    {
     "name": "stdout",
     "output_type": "stream",
     "text": [
      "Super1.m2()\n"
     ]
    }
   ],
   "source": [
    "class Sub(Super2,Super1):\n",
    "    pass\n",
    "\n",
    "s = Sub() \n",
    "s.m()  # "
   ]
  },
  {
   "cell_type": "markdown",
   "metadata": {},
   "source": [
    "Super1.m()는 불러올 수 없음 --> 다중상속의 단점. 같은 이름의 메소드가 상속되면 먼저 상속하는 것만 남는다."
   ]
  },
  {
   "cell_type": "code",
   "execution_count": 68,
   "metadata": {},
   "outputs": [],
   "source": [
    "class Super1:\n",
    "    def m(self):\n",
    "        print(\"Super1.m()\")\n",
    "\n",
    "class Super2:\n",
    "    def m(self):\n",
    "        print(\"Super1.m2()\")\n",
    "        \n",
    "    def m2(self):\n",
    "        print(\"Super2.m2()\")\n",
    "        \n",
    "class Sub(Super2,Super1):\n",
    "    def method(self):\n",
    "        super().m()\n",
    "        super().m2()\n",
    "\n",
    "class Super3:\n",
    "    @classmethod\n",
    "    def m2(self):\n",
    "        print(\"Super3.m3()\")"
   ]
  },
  {
   "cell_type": "code",
   "execution_count": 63,
   "metadata": {},
   "outputs": [
    {
     "name": "stdout",
     "output_type": "stream",
     "text": [
      "Super1.m2()\n",
      "Super2.m2()\n"
     ]
    }
   ],
   "source": [
    "s = Sub()\n",
    "s.method()"
   ]
  },
  {
   "cell_type": "code",
   "execution_count": 67,
   "metadata": {},
   "outputs": [
    {
     "name": "stdout",
     "output_type": "stream",
     "text": [
      "Super2.m2()\n"
     ]
    }
   ],
   "source": [
    "s2 = Super2()\n",
    "s2.m2()"
   ]
  },
  {
   "cell_type": "code",
   "execution_count": 70,
   "metadata": {},
   "outputs": [
    {
     "name": "stdout",
     "output_type": "stream",
     "text": [
      "Super3.m3()\n"
     ]
    }
   ],
   "source": [
    "Super3.m2()"
   ]
  },
  {
   "cell_type": "markdown",
   "metadata": {},
   "source": [
    "클래스 메소드와 변수:\n",
    "- 객체가 아닌 클래스 자체의 메소드와 변수\n",
    "- 모든 객체들이 같은 값을 가지거나 동작을 할 때: 객체의 속성이라기 보다는 클래스의 속성임\n",
    "- 프로그램에서 고정해야 하는 값을 설정할 때 유용\n",
    "\n",
    "\n",
    "메소드\n",
    "- 객체: 각 객체가 다른 매개변수를 받아서 다른 일을 함\n",
    "- 클래스: 클래스 변수를 쓰는 메소드. 모든 객체가 같은 변수로 같은 일을 함\n",
    "- 스태틱: 클래스변수를 쓰지 않는 메소드. 모든 객체가 다른 매개변수를 받아서 같은 일을 함\n",
    "- 호출: \n",
    "    - `클래스이름.메소드()`\n",
    "\n",
    "\n",
    "속성\n",
    "- 객체\n",
    "- 클래스\n"
   ]
  },
  {
   "cell_type": "markdown",
   "metadata": {},
   "source": [
    "## Class변수, Class메소드\n",
    "- 클래스의 변수(속성), 클래스의 동작 (객체와 관계없다)\n",
    "- 클래스 변수\n",
    "    - class block에 변수로 선언\n",
    "- 클래스 메소드\n",
    "    - 메소드 선언부에 @classmethod (데코레이션)을 붙인다.\n",
    "    - 첫번째 매개변수로 클래스자체를 받는 변수를 선언한다. (이 변수를 이용해 클래스 변수 호출)\n",
    "    \n",
    "## Static메소드\n",
    "- 클래스의 동작\n",
    "- 클래스 변수와 관련없는 기능을 수행한다.\n",
    "- 구현\n",
    "    - 메소드 선언부에 @staticmethod (데토레이션)을 붙인다.\n",
    "    - 매개변수에 대한 제약이 없다."
   ]
  },
  {
   "cell_type": "code",
   "execution_count": 52,
   "metadata": {},
   "outputs": [],
   "source": [
    "class Calc:\n",
    "    \n",
    "    #클래스 블럭에 선언한 변수 --> class변수. 호출: Class이름.변수\n",
    "    PI = 3.14\n",
    "    raise_num = 5\n",
    "    \n",
    "    @staticmethod                        # decoration 장식자\n",
    "    def add(num1, num2):                 # 받아올 값만 호출. self 필요없음. \n",
    "        return num1 + num2\n",
    "        \n",
    "    def add1(self, num1, num2):                  \n",
    "        return num1 + num2\n",
    "    \n",
    "    @classmethod\n",
    "    def circleSize(clz, radius):   # 첫번째 매가변수: 클래스. clz를 관례로 쓴다.\n",
    "        return radius * radius * clz.PI   # clz(클래스의) PI값"
   ]
  },
  {
   "cell_type": "code",
   "execution_count": 45,
   "metadata": {},
   "outputs": [
    {
     "data": {
      "text/plain": [
       "3"
      ]
     },
     "execution_count": 45,
     "metadata": {},
     "output_type": "execute_result"
    }
   ],
   "source": [
    "# static method 호출\n",
    "Calc.add(1,2)"
   ]
  },
  {
   "cell_type": "code",
   "execution_count": 79,
   "metadata": {},
   "outputs": [
    {
     "name": "stdout",
     "output_type": "stream",
     "text": [
      "3\n",
      "3.14\n"
     ]
    },
    {
     "data": {
      "text/plain": [
       "28.26"
      ]
     },
     "execution_count": 79,
     "metadata": {},
     "output_type": "execute_result"
    }
   ],
   "source": [
    "# instance method 호출\n",
    "c = Calc()\n",
    "print(c.add1(1,2))\n",
    "print(c.PI)                  #instance 통해서 클래스 변수 호출\n",
    "c.circleSize(3)              #instance 통해서 클래스 함수 호출"
   ]
  },
  {
   "cell_type": "code",
   "execution_count": 51,
   "metadata": {},
   "outputs": [
    {
     "data": {
      "text/plain": [
       "(3.14, 5)"
      ]
     },
     "execution_count": 51,
     "metadata": {},
     "output_type": "execute_result"
    }
   ],
   "source": [
    "# Class 변수 호출 \n",
    "Calc.PI, Calc.raise_num"
   ]
  },
  {
   "cell_type": "code",
   "execution_count": 56,
   "metadata": {},
   "outputs": [
    {
     "data": {
      "text/plain": [
       "(3.14, 12.56)"
      ]
     },
     "execution_count": 56,
     "metadata": {},
     "output_type": "execute_result"
    }
   ],
   "source": [
    "# class 메소드 - class이름.메소드호출()\n",
    "Calc.circleSize(1), Calc.circleSize(2)"
   ]
  },
  {
   "cell_type": "markdown",
   "metadata": {},
   "source": []
  },
  {
   "cell_type": "markdown",
   "metadata": {},
   "source": [
    "\n"
   ]
  },
  {
   "cell_type": "markdown",
   "metadata": {},
   "source": []
  },
  {
   "cell_type": "code",
   "execution_count": 82,
   "metadata": {},
   "outputs": [
    {
     "name": "stdout",
     "output_type": "stream",
     "text": [
      "30\n",
      "4\n"
     ]
    }
   ],
   "source": [
    "import test as test"
   ]
  },
  {
   "cell_type": "code",
   "execution_count": null,
   "metadata": {},
   "outputs": [],
   "source": [
    "패키지.모듈 "
   ]
  }
 ],
 "metadata": {
  "kernelspec": {
   "display_name": "Python 3",
   "language": "python",
   "name": "python3"
  },
  "language_info": {
   "codemirror_mode": {
    "name": "ipython",
    "version": 3
   },
   "file_extension": ".py",
   "mimetype": "text/x-python",
   "name": "python",
   "nbconvert_exporter": "python",
   "pygments_lexer": "ipython3",
   "version": "3.7.3"
  }
 },
 "nbformat": 4,
 "nbformat_minor": 2
}
