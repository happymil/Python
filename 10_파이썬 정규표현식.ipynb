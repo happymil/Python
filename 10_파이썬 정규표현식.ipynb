{
 "cells": [
  {
   "cell_type": "markdown",
   "metadata": {},
   "source": [
    "문자열변경: 함수를 이용해 어느정도 변경 가능"
   ]
  },
  {
   "cell_type": "code",
   "execution_count": 2,
   "metadata": {},
   "outputs": [
    {
     "data": {
      "text/plain": [
       "True"
      ]
     },
     "execution_count": 2,
     "metadata": {},
     "output_type": "execute_result"
    }
   ],
   "source": [
    "txt = \"111-222-333\"\n",
    "\"222\" in txt"
   ]
  },
  {
   "cell_type": "code",
   "execution_count": 3,
   "metadata": {},
   "outputs": [
    {
     "data": {
      "text/plain": [
       "'111-###-333'"
      ]
     },
     "execution_count": 3,
     "metadata": {},
     "output_type": "execute_result"
    }
   ],
   "source": [
    "txt.replace(\"222\",\"###\")"
   ]
  },
  {
   "cell_type": "code",
   "execution_count": 4,
   "metadata": {},
   "outputs": [
    {
     "data": {
      "text/plain": [
       "True"
      ]
     },
     "execution_count": 4,
     "metadata": {},
     "output_type": "execute_result"
    }
   ],
   "source": [
    "txt.startswith(\"111\")"
   ]
  },
  {
   "cell_type": "code",
   "execution_count": 5,
   "metadata": {},
   "outputs": [
    {
     "data": {
      "text/plain": [
       "False"
      ]
     },
     "execution_count": 5,
     "metadata": {},
     "output_type": "execute_result"
    }
   ],
   "source": [
    "txt.startswith(\"222\")"
   ]
  },
  {
   "cell_type": "markdown",
   "metadata": {},
   "source": [
    "- 모든 숫자를 바꾸거나 공백을 바꾸는 것은 함수로 가능하지 않음\n",
    "- 정규표현식을 이용해 서 할 수 있다"
   ]
  },
  {
   "cell_type": "markdown",
   "metadata": {
    "slideshow": {
     "slide_type": "slide"
    }
   },
   "source": [
    "# <font size=50>정규 표현식 (Regular Expression)</font>"
   ]
  },
  {
   "cell_type": "markdown",
   "metadata": {
    "slideshow": {
     "slide_type": "slide"
    }
   },
   "source": [
    "# 1. 정규 표현식(Regular Expression) 개요"
   ]
  },
  {
   "cell_type": "markdown",
   "metadata": {
    "slideshow": {
     "slide_type": "subslide"
    }
   },
   "source": [
    "## 1.1. 정규 표현식이란\n",
    "- 텍스트에서 특정한 형태나 규칙을 가지는 문자열을 찾기 위해 그 형태나 규칙을 정의하는 것.\n",
    "- **파이썬 뿐만 아니라 문자열을 다루는 모든 곳에서 사용된다.**\n",
    "- **정규식, Regexp**이라고도 한다."
   ]
  },
  {
   "cell_type": "markdown",
   "metadata": {
    "slideshow": {
     "slide_type": "fragment"
    }
   },
   "source": [
    "## 1.2. 기본개념\n",
    "- 패턴 \n",
    "    - 정규 표현식이라고 한다.\n",
    "    - 문장내에서 찾기위한 문구의 형태에 대한 표현식.\n",
    "    \n",
    "- 패턴의 종류\n",
    "    - 메타문자: \n",
    "        - 패턴을 기술하기 위해 사용되는 특별한 의미를 가지는 문자\n",
    "        - 예) `a*` : a가 0회 이상 반복을 뜻한다. a, aa, aaaa\n",
    "    - 리터럴\n",
    "        - 표현식이 값 자체를 의미하는 것\n",
    "        - 예) `a`는 `a` 자체를 의미한다.    "
   ]
  },
  {
   "cell_type": "markdown",
   "metadata": {
    "slideshow": {
     "slide_type": "slide"
    }
   },
   "source": [
    "# 2. 정규 표현식 메타 문자\n",
    "- 패턴을 기술하기 위한 문자"
   ]
  },
  {
   "cell_type": "markdown",
   "metadata": {
    "slideshow": {
     "slide_type": "subslide"
    }
   },
   "source": [
    "## 2.1 문자 클래스 :  [  ]\n",
    "- `[ ]` 사이의 문자들과 매칭\n",
    "    - `[abc]` : a, b, c 중 **하나의 문자**와 매치\n",
    "- `-`를 이용해 범위로 설정할 수 있다.\n",
    "    - `[a-z]` : 알파벳소문자중 하나의 문자와 매치\n",
    "    - `[a-zA-Z0-9]` : 알파벳대소문자와 숫자 중 하나의 문자와 매치\n",
    "    - `[가-힣]` : 한글\n",
    "    - `[ㄱ-ㅎ]` : 자음\n",
    "- `[^ 패턴]` : ^ 으로 시작하는 경우 반대의 의미\n",
    "    - `[^abc]` : a, b, c를 제외한 나머지 문자들 중 하나와 매치.\n",
    "    - `[^a-z]` : 알파벳 소문자를 제외한 나머지 문자들 중 하나와 매치"
   ]
  },
  {
   "cell_type": "markdown",
   "metadata": {
    "slideshow": {
     "slide_type": "subslide"
    }
   },
   "source": [
    "## 2.2 미리 정의된 문자 클래스\n",
    "자주 사용되는 문자클래스를 미리 정의된 별도 표기법으로 제공한다.\n",
    "- `\\소문자`  <-> `\\대문자`\n",
    "- `\\d` : 숫자와 매치. [0-9]와 동일\n",
    "- `\\D` : `\\d`의 반대. 숫자가 아닌 문자와 매치.  [^0-9]와 동일\n",
    "- `\\w` : 문자와 숫자, _(underscore)와 매치. `[a-zA-Z0-9_]`와 동일\n",
    "- `\\W` : `\\w`의 반대. 문자와 숫자와 _ 가 아닌 문자와 매치.  `[^a-zA-Z0-9_]`와 동일\n",
    "- `\\s` : 공백문자와 매치. tab,줄바꿈,공백문자와 일치\n",
    "- `\\S` : `\\s`와 반대. 공백을 제외한 문자열과 매치.\n",
    "- `\\b` : 단어 경계(word boundary) 표시. 보통 단어 경계로 공백을 의미\n",
    "    - `\\b가족\\b` => 우리 가족 만세(O), 우리가족만세 (X)\n",
    "- `\\B` : `\\b`의 반대. 단어 경계로 구분된 단어가 아닌 경우\n",
    "    - `\\B가족\\B` => 우리 가족 만세(X), 우리가족만세 (O)"
   ]
  },
  {
   "cell_type": "markdown",
   "metadata": {
    "slideshow": {
     "slide_type": "subslide"
    }
   },
   "source": [
    "## 2.3. 글자수와 관련된 메타문자\n",
    "- `.` : 한개의 모든 문자(\\n-줄바꿈 제외) (`a.b`)\n",
    "- `*` : 앞의 문자(패턴)과 일치하는 문자가 0개 이상인 경우. (`a*b`)\n",
    "- `+` : 앞의 문자(패턴)과 일치하는 문자가 1개이상인 경우.  (`a+b`)\n",
    "- `?` :  앞의 문자(패턴)과 일치하는 문자가 한개 있거나 없는 경우. (`a?b`)\n",
    "- `{m}` : 앞의 문자(패턴)가 m개. (`a{3}b`)\n",
    "- `{m,}` : 앞의 문자(패턴)이 m개 이상. (`a{3,}b`)\n",
    "    - , 뒤에 공백이 들어오지 않도록 한다.\n",
    "- `{m,n}` : 앞의 문자(패턴)이 m개이상 n개 이하. (`a{2,5}b`)    \n",
    "- `.`, `*`, `+`, `?` 를 리터럴로 표현할 경우 `\\`를 붙인다."
   ]
  },
  {
   "cell_type": "markdown",
   "metadata": {
    "ExecuteTime": {
     "end_time": "2019-05-15T10:08:16.413433Z",
     "start_time": "2019-05-15T10:08:16.407394Z"
    },
    "slideshow": {
     "slide_type": "subslide"
    }
   },
   "source": [
    "## 2.4. 문장의 시작과 끝 표현\n",
    "- `^` 문자열의 시작 (`^abc`)\n",
    "    - 문자 클래스([ ])의 ^와는 의미가 다르다.\n",
    "- `$` : 문자열의 끝 (`abc$`)"
   ]
  },
  {
   "cell_type": "markdown",
   "metadata": {
    "ExecuteTime": {
     "end_time": "2019-05-15T10:08:16.413433Z",
     "start_time": "2019-05-15T10:08:16.407394Z"
    },
    "slideshow": {
     "slide_type": "fragment"
    }
   },
   "source": [
    "## 2.5. 기타\n",
    "- `|` : 둘중 하나 (OR) (010|011|016|019)\n",
    "    - 보통 ( )로 묶어서 사용한다. --> 생략가능 \n",
    "    - 010|016-111 : 010 또는 016-111 이 된다. \n",
    "- `(  )` : 패턴내 하위그룹을 만들때 사용"
   ]
  },
  {
   "cell_type": "markdown",
   "metadata": {
    "slideshow": {
     "slide_type": "slide"
    }
   },
   "source": [
    "# 3. re 모듈\n",
    "- 파이썬에서 정규 표현식을 지원하기 위한 모듈\n",
    "- 파이썬 기본 라이브러리"
   ]
  },
  {
   "cell_type": "markdown",
   "metadata": {
    "slideshow": {
     "slide_type": "subslide"
    }
   },
   "source": [
    "## 3.1 코딩패턴\n",
    "1. 모듈 import\n",
    "    - import re\n",
    "2. 패턴 객체 생성\n",
    "    - 패턴 컴파일\n",
    "    - 패턴을 가지고 있는 객체 생성\n",
    "3. 텍스트에서 패턴 문자열 검색또는 변경 작업\n",
    "\n",
    "> ### raw string\n",
    "> - 패턴을 지정하는 문자열 앞에 r 표시구분자를 붙인 것을 말한다.\n",
    "> - `\\`를 일반문자로 처리\n",
    ">    - `re.compile('\\b가족\\b')` : `\\b`를 escape 문자 b(백스페이스)로 인식\n",
    ">    - `re.compile(r'\\b가족\\b')` : `\\b`가 일반문자가 되어 컴파일시 정규식 메타문자로 처리된다.\n"
   ]
  },
  {
   "cell_type": "code",
   "execution_count": 52,
   "metadata": {},
   "outputs": [
    {
     "name": "stdout",
     "output_type": "stream",
     "text": [
      "a\tb\n",
      "\\c\b\n",
      "a\tb\n",
      "\\c\\b\n"
     ]
    }
   ],
   "source": [
    "txt = 'a\\tb\\n\\c\\b' # \\b:지우기: 이스케이프 문자\n",
    "print(txt)\n",
    "txt = 'a\\tb\\n\\c\\\\b' # \\을 \\b앞에 하나 붙여줌으로 스트링으로 바꿈 \n",
    "print(txt)"
   ]
  },
  {
   "cell_type": "markdown",
   "metadata": {},
   "source": [
    "`r\" \"`: raw string으로 바꿈"
   ]
  },
  {
   "cell_type": "code",
   "execution_count": 13,
   "metadata": {},
   "outputs": [
    {
     "name": "stdout",
     "output_type": "stream",
     "text": [
      "a\\tb\\n\\c\\b\n"
     ]
    }
   ],
   "source": [
    "txt = r'a\\tb\\n\\c\\b'\n",
    "print(txt)"
   ]
  },
  {
   "cell_type": "markdown",
   "metadata": {},
   "source": [
    "**정규식을 만들땐 raw string을 이용해 문자열로 만든다**"
   ]
  },
  {
   "cell_type": "markdown",
   "metadata": {
    "slideshow": {
     "slide_type": "subslide"
    }
   },
   "source": [
    "> ### 정규식 관련 함수 구문의 두 형태\n",
    "1. pattern객체.함수(매개변수) *--> 객체지향적 호출방식*\n",
    "    - 같은 패턴을 여러번 사용할 때 편리함\n",
    "    ```python\n",
    "        p = re.compile(r'\\d+') # 패턴을 만드는 함수 객체\n",
    "        p.search('abc123def')  # 패턴을 찾는 함수\n",
    "    ```\n",
    "2. re.정규식사용함수(패턴, 매개변수) *--> 함수형 호출방식*\n",
    "    ```python\n",
    "        re.search(r'\\d+', 'abc123def')\n",
    "    ```"
   ]
  },
  {
   "cell_type": "markdown",
   "metadata": {
    "slideshow": {
     "slide_type": "slide"
    }
   },
   "source": [
    "## 3.2. 검색함수\n",
    "- `match()` : 패턴과 일차하는 문장으로 **시작하는지** 확인\n",
    "- `search()` : 패턴과 일치하는 문장이 **있는지 여부**를 확인할 때 사용\n",
    "- `findall()` : 패턴과 일치하는 문장을 **모두 찾을 때** 사용"
   ]
  },
  {
   "cell_type": "markdown",
   "metadata": {
    "slideshow": {
     "slide_type": "subslide"
    }
   },
   "source": [
    "### 3.2.1. Match 객체\n",
    "- **검색 결과를** 담아 반환되는 객체\n",
    "    - match(), search() 의 반환타\n",
    "- 패턴과 일치한 문자열과 대상문자열 내에서의 위치를 가지고 있는 객체\n",
    "- 주요 메소드\n",
    "    - **group()** : 매치된 문자열들을 튜플로 반환\n",
    "    - **group(subgroup 번호)** : 패턴에 하위그룹이 지정된 경우 특정 그룹의 문자열 반환\n",
    "    - **start(), end()** : 대상 문자열내에서 시작, 끝 index 반환\n",
    "    - **span()** : 대상 문자열 내에서 시작, 끝 index를 tuple로 반환"
   ]
  },
  {
   "cell_type": "markdown",
   "metadata": {
    "slideshow": {
     "slide_type": "subslide"
    }
   },
   "source": [
    "### 3.2.2 match(대상문자열 [, pos=0])\n",
    "- 대상 문자열의 시작 부터 정규식과 일치하는 것이 있는지 조회\n",
    "- pos : 시작 index 지정\n",
    "- 반환값\n",
    "    - Match 객체: 일치하는 문자열이 있는 경우\n",
    "    - None: 일치하는 문자열이 없는 경우"
   ]
  },
  {
   "cell_type": "markdown",
   "metadata": {},
   "source": [
    "re정규식 활용"
   ]
  },
  {
   "cell_type": "code",
   "execution_count": 54,
   "metadata": {},
   "outputs": [
    {
     "name": "stdout",
     "output_type": "stream",
     "text": [
      "<re.Match object; span=(0, 5), match='안녕하세요'>\n",
      "안녕하세요\n",
      "(0, 5)\n",
      "0\n",
      "5\n"
     ]
    }
   ],
   "source": [
    "import re\n",
    "\n",
    "txt = \"안녕하세요. 제 나이는 20세 입니다.\"\n",
    "#txt가 안녕하세요, 반갑습니다 로 **시작**하는지?   => match()\n",
    "m = re.match(r\"안녕하세요|반갑습니다\",txt)\n",
    "m\n",
    "print(m)\n",
    "print(m.group())\n",
    "print(m.span())\n",
    "print(m.start())\n",
    "print(m.end())"
   ]
  },
  {
   "cell_type": "markdown",
   "metadata": {},
   "source": [
    "패턴객체 이용 정규식 사용"
   ]
  },
  {
   "cell_type": "code",
   "execution_count": 74,
   "metadata": {},
   "outputs": [
    {
     "name": "stdout",
     "output_type": "stream",
     "text": [
      "못찾았다\n",
      "<re.Match object; span=(4, 9), match='안녕하세요'>\n",
      "안녕하세요\n",
      "['반갑습니다']\n"
     ]
    }
   ],
   "source": [
    "txt = \"안녕하세용 반갑습니다\"\n",
    "p = re.compile(r'안녕하세요|반갑습니다')\n",
    "m = p.match(txt)\n",
    "if m:\n",
    "    print(m.group())\n",
    "else: \n",
    "    print(\"못찾았다\")\n",
    "m2 = p.search(\"abc 안녕하세요 abc\")\n",
    "print(m2)\n",
    "print(m2.group())\n",
    "f = p.findall(txt)\n",
    "print(f)"
   ]
  },
  {
   "cell_type": "markdown",
   "metadata": {},
   "source": [
    "span = 찾은 문자열 위치 match = 검색결과"
   ]
  },
  {
   "cell_type": "code",
   "execution_count": 20,
   "metadata": {},
   "outputs": [
    {
     "data": {
      "text/plain": [
       "<re.Match object; span=(0, 5), match='반갑습니다'>"
      ]
     },
     "execution_count": 20,
     "metadata": {},
     "output_type": "execute_result"
    }
   ],
   "source": [
    "import re\n",
    "\n",
    "txt = \"반갑습니다. 제 나이는 20세 입니다.\"\n",
    "#txt가 안녕하세요, 반갑습니다 로 **시작**하는지?   => match()\n",
    "m = re.match(r\"안녕하세요|반갑습니다\",txt)\n",
    "m"
   ]
  },
  {
   "cell_type": "code",
   "execution_count": 21,
   "metadata": {},
   "outputs": [
    {
     "name": "stdout",
     "output_type": "stream",
     "text": [
      "None\n"
     ]
    }
   ],
   "source": [
    "import re\n",
    "\n",
    "txt = \" 제 나이는 20세 입니다.\"\n",
    "#txt가 안녕하세요, 반갑습니다 로 **시작**하는지?   => match()\n",
    "m = re.match(r\"안녕하세요|반갑습니다\",txt)\n",
    "print(m)"
   ]
  },
  {
   "cell_type": "code",
   "execution_count": 29,
   "metadata": {},
   "outputs": [
    {
     "name": "stdout",
     "output_type": "stream",
     "text": [
      "None\n"
     ]
    }
   ],
   "source": [
    "import re\n",
    "\n",
    "txt = \"제 나이는 20세 입니다. 안녕하세요.\"\n",
    "#txt가 안녕하세요, 반갑습니다 로 **시작**하는지?   => match()\n",
    "m = re.match(r\"안녕하세요|반갑습니다\",txt)\n",
    "print(m)"
   ]
  },
  {
   "cell_type": "code",
   "execution_count": 31,
   "metadata": {},
   "outputs": [
    {
     "name": "stdout",
     "output_type": "stream",
     "text": [
      "3\n"
     ]
    }
   ],
   "source": [
    "txt2 = \"30으로 시작합니다\"\n",
    "m = re.match(r\"\\d\", txt2) #\\d => 정수하나\n",
    "if m: #None이 아니면\n",
    "    print(m.group())\n",
    "else:\n",
    "    print(\"숫자로 시작 안함\")\n",
    "    "
   ]
  },
  {
   "cell_type": "code",
   "execution_count": 32,
   "metadata": {},
   "outputs": [
    {
     "name": "stdout",
     "output_type": "stream",
     "text": [
      "30\n"
     ]
    }
   ],
   "source": [
    "txt2 = \"30으로 시작합니다\"\n",
    "m = re.match(r\"\\d{2}\", txt2) #\\d{2} => 정수 두개\n",
    "if m: #None이 아니면\n",
    "    print(m.group())\n",
    "else:\n",
    "    print(\"숫자로 시작 안함\")\n",
    "    "
   ]
  },
  {
   "cell_type": "code",
   "execution_count": 4,
   "metadata": {},
   "outputs": [
    {
     "name": "stdout",
     "output_type": "stream",
     "text": [
      "숫자한자리로 시작 안함\n"
     ]
    }
   ],
   "source": [
    "import re\n",
    "txt2 = \"3으로 시작합니다\"\n",
    "m = re.match(r\"\\d{2}\", txt2) #\\d{2} => 정수 두개\n",
    "if m: #None이 아니면\n",
    "    print(m.group())\n",
    "else:\n",
    "    print(\"숫자한자리로 시작 안함\")"
   ]
  },
  {
   "cell_type": "code",
   "execution_count": null,
   "metadata": {},
   "outputs": [],
   "source": []
  },
  {
   "cell_type": "markdown",
   "metadata": {
    "slideshow": {
     "slide_type": "subslide"
    }
   },
   "source": [
    "### 3.2.3 search(대상문자열 [, pos=0])\n",
    "- 대상문자열 전체 안에서 정규식과 일치하는 것이 있는지 조회\n",
    "- pos: 찾기 시작하는 index 지정\n",
    "- 반환값\n",
    "    - Match 객체: 일치하는 문자열이 있는 경우\n",
    "    - None: 일치하는 문자열이 없는 경우|"
   ]
  },
  {
   "cell_type": "code",
   "execution_count": 39,
   "metadata": {},
   "outputs": [
    {
     "name": "stdout",
     "output_type": "stream",
     "text": [
      "<re.Match object; span=(13, 15), match='20'>\n"
     ]
    }
   ],
   "source": [
    "txt = \"안녕하세요. 제 나이는 20세 입니다.30,40\"\n",
    "m = re.search(r'\\d{2}',txt)\n",
    "print(m)\n",
    "\n",
    "# 첫번째로 일차하는 패턴만 조회"
   ]
  },
  {
   "cell_type": "code",
   "execution_count": 40,
   "metadata": {},
   "outputs": [
    {
     "name": "stdout",
     "output_type": "stream",
     "text": [
      "<re.Match object; span=(21, 23), match='30'>\n"
     ]
    }
   ],
   "source": [
    "p = re.compile(r'\\d{2}')\n",
    "m = p.search(txt,pos=15)  #15번쨰 글자부터 찾아라\n",
    "print(m)"
   ]
  },
  {
   "cell_type": "markdown",
   "metadata": {},
   "source": [
    "search는 아래의 함수를 사용하는 것과 같은 역할을 함"
   ]
  },
  {
   "cell_type": "code",
   "execution_count": 49,
   "metadata": {},
   "outputs": [],
   "source": [
    "def my_search(pattern, txt):\n",
    "    p = re.compile(pattern)\n",
    "    m = p.search(txt)\n",
    "    return m"
   ]
  },
  {
   "cell_type": "code",
   "execution_count": 50,
   "metadata": {},
   "outputs": [
    {
     "name": "stdout",
     "output_type": "stream",
     "text": [
      "<re.Match object; span=(4, 6), match='20'>\n"
     ]
    }
   ],
   "source": [
    "m = my_search(r'\\d{2}','aaa 20 aaa')\n",
    "print(m)"
   ]
  },
  {
   "cell_type": "markdown",
   "metadata": {
    "slideshow": {
     "slide_type": "subslide"
    }
   },
   "source": [
    "### 3.2.4. findall(대상문자열)\n",
    "- 대상문자열에서 정규식과 매칭되는 문자열들을 리스트로 반환\n",
    "- 반환값\n",
    "    - 리스트(List) : 일치하는 문자열들을 가진 리스트를 반환\n",
    "    - 일치하는 문자열이 없는 경우 빈 리스트 반환"
   ]
  },
  {
   "cell_type": "code",
   "execution_count": 70,
   "metadata": {},
   "outputs": [
    {
     "name": "stdout",
     "output_type": "stream",
     "text": [
      "<re.Match object; span=(0, 1), match='L'>\n",
      "['L', 'i', 'f', 'e', 'i', 's', 's', 'h', 'o', 'r', 't', 'Y', 'o', 'u', 'n', 'e', 'e', 'd', 'p', 'y', 't', 'h', 'o', 'n']\n",
      "['Life', 'is', 'short', 'You', 'need', 'python']\n"
     ]
    }
   ],
   "source": [
    "import re\n",
    "txt = 'Life is short. You need python.'\n",
    "# 대괄호[]: or\n",
    "# p = re.compile(r'[abcde]')  # a,b,c,d,e 중 하나  = r'[a-e]'\n",
    "p = re.compile(r'[a-zA-z]')\n",
    "s = p.search(txt)\n",
    "print(s)\n",
    "r = p.findall(txt)\n",
    "print(r)\n",
    "\n",
    "#여러글자를 찾고싶은 경우\n",
    "p = re.compile(r'[a-zA-z]+') #앞의 것이 1번이상 반복\n",
    "r = p.findall(txt)\n",
    "print(r)"
   ]
  },
  {
   "cell_type": "code",
   "execution_count": 75,
   "metadata": {},
   "outputs": [
    {
     "name": "stdout",
     "output_type": "stream",
     "text": [
      "['Life', 'shor', 'need', 'pyth']\n"
     ]
    }
   ],
   "source": [
    "import re\n",
    "txt = 'Life is short. You need python.'\n",
    "# 대괄호[]: or\n",
    "# p = re.compile(r'[abcde]')  # a,b,c,d,e 중 하나  = r'[a-e]'\n",
    "p = re.compile(r'[a-zA-z]')\n",
    "r2 = re.findall(r'[a-zA-z]{4}', txt) #{4}: 앞의 패턴이 4개\n",
    "print(r2)"
   ]
  },
  {
   "cell_type": "markdown",
   "metadata": {
    "slideshow": {
     "slide_type": "slide"
    }
   },
   "source": [
    "### 예제\n",
    "- info 변수는 한줄에 한사람의 data가 있고 구성은 **`이름 이메일주소 주민번호`** 순서로 되어있다."
   ]
  },
  {
   "cell_type": "code",
   "execution_count": 178,
   "metadata": {},
   "outputs": [],
   "source": [
    "info ='''김정수 kjs@gmail.com 801023-1010221\n",
    "박영수 py-s@gmail.com 700121-1120212\n",
    "이민영 lmy@naver.com 820301-2020122\n",
    "김순희 ksh@daum.net 781223-2012212\n",
    "오주연 ojy@daum.net 900522-1023218\n",
    "'''"
   ]
  },
  {
   "cell_type": "code",
   "execution_count": 179,
   "metadata": {},
   "outputs": [
    {
     "name": "stdout",
     "output_type": "stream",
     "text": [
      "[('s', 'l'), ('-s', 'l'), ('y', 'r'), ('h', 'm'), ('y', 'm')]\n",
      "kjs@gmail.com\n",
      "s\n",
      "l\n",
      "kjs@gmail.com\n"
     ]
    },
    {
     "data": {
      "text/plain": [
       "['kjs@gmail.com',\n",
       " 'py-s@gmail.com',\n",
       " 'lmy@naver.com',\n",
       " 'ksh@daum.net',\n",
       " 'ojy@daum.net']"
      ]
     },
     "execution_count": 179,
     "metadata": {},
     "output_type": "execute_result"
    }
   ],
   "source": [
    "# \\w: [모든글자, 숫자,_]\n",
    "# 이메일 주소만 조회\n",
    "import re\n",
    "# pattern = r\"[a-zA-Z0-9]+@[a-zA-Z]+\\.[a-zA-Z]{2,3}\"\n",
    "# pattern = r\"^[a-zA-Z0-9+-_.]+@[a-zA-Z0-9-]+\\.[a-zA-Z0-9-.]+$\" #인터넷 조회 이메일 패턴\n",
    "\n",
    "pattern2 = r'[0-9a-zA-Z]([-_.]?[0-9a-zA-Z])*@[0-9a-zA-Z]([-_.]?[0-9a-zA-Z])*.[a-zA-Z]{2,3}'\n",
    "p2 = re.compile(pattern2)\n",
    "m2 = p2.search(info)\n",
    "print(p2.findall(info))\n",
    "print(m2.group())\n",
    "print(m2.group(1))\n",
    "print(m2.group(2))\n",
    "\n",
    "# ?: ()안을 하위그뤂이 아닌, 묶어주는 형식으로 \n",
    "pattern = r'[0-9a-zA-Z](?:[-_.]?[0-9a-zA-Z])*@[0-9a-zA-Z](?:[-_.]?[0-9a-zA-Z])*.[a-zA-Z]{2,3}'\n",
    "p = re.compile(pattern)\n",
    "m = p.search(info)\n",
    "#email 주소 있는지 여부 조회\n",
    "if m:\n",
    "    print(m.group())\n",
    "\n",
    "        \n",
    "else:\n",
    "    print(\"이메일 없음\")\n",
    "\n",
    "#모든 이메일 다 조회\n",
    "email_list = p.findall(info)\n",
    "email_list"
   ]
  },
  {
   "cell_type": "code",
   "execution_count": 103,
   "metadata": {},
   "outputs": [
    {
     "data": {
      "text/plain": [
       "['801023-1010221',\n",
       " '700121-1120212',\n",
       " '820301-2020122',\n",
       " '781223-2012212',\n",
       " '900522-1023218']"
      ]
     },
     "execution_count": 103,
     "metadata": {},
     "output_type": "execute_result"
    }
   ],
   "source": [
    "# 주민번호만 출력 {6}, {6,10}, {6,}\n",
    "\n",
    "pattern = r'[0-9]{6}-[1-4][0-9]{6}' # \\d == [0-9]\n",
    "pattern = r'\\d{6}-[1-4]\\d{6}'\n",
    "p = re.compile(pattern)\n",
    "j_list = p.findall(info)\n",
    "j_list"
   ]
  },
  {
   "cell_type": "markdown",
   "metadata": {},
   "source": [
    "### finditer(대상문자열)\n",
    "- 패턴에 일치하는 모든 문자열을 찾아주는 Iterator => for문, list()\n",
    "- 찾은 문자열을 Match 객체로 반환"
   ]
  },
  {
   "cell_type": "code",
   "execution_count": 129,
   "metadata": {
    "scrolled": true
   },
   "outputs": [
    {
     "name": "stdout",
     "output_type": "stream",
     "text": [
      "<re.Match object; span=(18, 32), match='801023-1010221'>\n",
      "801023-1010221 18 32 (18, 32)\n",
      "<re.Match object; span=(51, 65), match='700121-1120212'>\n",
      "700121-1120212 51 65 (51, 65)\n",
      "<re.Match object; span=(84, 98), match='820301-2020122'>\n",
      "820301-2020122 84 98 (84, 98)\n",
      "<re.Match object; span=(116, 130), match='781223-2012212'>\n",
      "781223-2012212 116 130 (116, 130)\n",
      "<re.Match object; span=(148, 162), match='900522-1023218'>\n",
      "900522-1023218 148 162 (148, 162)\n"
     ]
    }
   ],
   "source": [
    "import re\n",
    "pattern = r'\\d{6}-[1234]\\d{6}'\n",
    "p = re.compile(pattern)\n",
    "p.finditer(info)\n",
    "for m in p.finditer(info):\n",
    "    print(m)\n",
    "    print(m.group(),m.start(),m.end(),m.span())"
   ]
  },
  {
   "cell_type": "code",
   "execution_count": 131,
   "metadata": {},
   "outputs": [
    {
     "name": "stdout",
     "output_type": "stream",
     "text": [
      "<re.Match object; span=(18, 32), match='801023-1010221'>\n",
      "<re.Match object; span=(51, 65), match='700121-1120212'>\n",
      "<re.Match object; span=(84, 98), match='820301-2020122'>\n",
      "<re.Match object; span=(116, 130), match='781223-2012212'>\n",
      "<re.Match object; span=(148, 162), match='900522-1023218'>\n"
     ]
    }
   ],
   "source": [
    "for m in re.finditer(pattern,info):\n",
    "    print(m)"
   ]
  },
  {
   "cell_type": "markdown",
   "metadata": {
    "slideshow": {
     "slide_type": "subslide"
    }
   },
   "source": [
    "## 3.3. 문자열 변경\n",
    "- sub(): 변경된 문자열 반환\n",
    "- subn(): 변경된 문자열(바뀐 후 값), 변경개수(num of changed characters) 반환"
   ]
  },
  {
   "cell_type": "markdown",
   "metadata": {
    "slideshow": {
     "slide_type": "subslide"
    }
   },
   "source": [
    "### 3.3.1 sub(바꿀문자열, 대상문자열 [, count=양수])\n",
    "- 대상문자열에서 패턴과 일치하는 것을 바꿀문자열로 변경한다.\n",
    "- count: 변경할 개수를 지정. 기본: 매칭되는 문자열은 다 변경\n",
    "- 반환값: 변경된 문자열\n",
    "\n",
    "### 3.3.2 subn(바꿀문자열, 대상문자열 [, count=양수])\n",
    "- sub()와 동일한 역할.\n",
    "- 반환값 : (변경된 문자열, 변경된문자열개수) 를 tuple로 반환"
   ]
  },
  {
   "cell_type": "markdown",
   "metadata": {
    "slideshow": {
     "slide_type": "slide"
    }
   },
   "source": [
    "### 예제 "
   ]
  },
  {
   "cell_type": "code",
   "execution_count": 139,
   "metadata": {},
   "outputs": [
    {
     "name": "stdout",
     "output_type": "stream",
     "text": [
      "오늘 밥을 먹었다.\n",
      "('오늘 밥을 먹었다.', 2)\n"
     ]
    }
   ],
   "source": [
    "# 띄여 쓰기 여러개를 한개로 변경.\n",
    "txt= \"오늘            밥을           먹었다.\" # \"오늘 밥을 먹었다.\"\n",
    "\n",
    "import re\n",
    "\n",
    "p = re.compile(r'\\s+') #\\s: 모든 공백들\n",
    "txt2 = p.sub(\" \",txt)\n",
    "print(txt2)\n",
    "\n",
    "txt3 = p.subn(\" \",txt)\n",
    "print(txt3)"
   ]
  },
  {
   "cell_type": "code",
   "execution_count": 142,
   "metadata": {},
   "outputs": [
    {
     "data": {
      "text/plain": [
       "('01011112222 01033213201 01032133031', 6)"
      ]
     },
     "execution_count": 142,
     "metadata": {},
     "output_type": "execute_result"
    }
   ],
   "source": [
    "# 전화번호에서 사용된 구분자를 제거. 각 전화번호를 구분하는 공백은 남긴다.\n",
    "tel = '010-1111-2222, 01033213201 (010)3213-3031'\n",
    "\n",
    "pattern = r'[^0-9 ]'\n",
    "p = re.compile(pattern)\n",
    "tel2 = p.subn(\"\",tel)\n",
    "tel2"
   ]
  },
  {
   "cell_type": "markdown",
   "metadata": {
    "slideshow": {
     "slide_type": "subslide"
    }
   },
   "source": [
    "## 3.4 나누기(토큰화)\n",
    "### 3.4.1 split(대상문자열)\n",
    "- pattern을 구분자로 문장을 나눈다.\n",
    "- 반환: 나눈 문자열을 원소로 하는 리스트"
   ]
  },
  {
   "cell_type": "code",
   "execution_count": 152,
   "metadata": {},
   "outputs": [
    {
     "data": {
      "text/plain": [
       "['A', 'B', 'C', 'D', 'Ee', 'F', '0']"
      ]
     },
     "execution_count": 152,
     "metadata": {},
     "output_type": "execute_result"
    }
   ],
   "source": [
    "txt = 'A.B|C.D,Ee:F 0'\n",
    "\n",
    "import re\n",
    "p = re.compile(r'[.|,: ]')\n",
    "l = p.split(txt)\n",
    "l"
   ]
  },
  {
   "cell_type": "code",
   "execution_count": 151,
   "metadata": {},
   "outputs": [
    {
     "data": {
      "text/plain": [
       "['A', 'B', 'C', 'D', 'Ee', 'F', '0']"
      ]
     },
     "execution_count": 151,
     "metadata": {},
     "output_type": "execute_result"
    }
   ],
   "source": [
    "re.split(r'\\W',txt)"
   ]
  },
  {
   "cell_type": "markdown",
   "metadata": {
    "slideshow": {
     "slide_type": "slide"
    }
   },
   "source": [
    "# 4. 그룹핑(Grouping)\n",
    "- 패턴 내에서 하위패턴을 만드는 것.\n",
    "    - 전체 패턴에서 일부 패턴을 묶어준다.\n",
    "- 구문: (패턴)\n",
    "\n",
    "pattern = (group1) - (group2) -  (group3)\n",
    "\n",
    "(1)-(2(3)-(4))-(5(6))"
   ]
  },
  {
   "cell_type": "markdown",
   "metadata": {
    "ExecuteTime": {
     "end_time": "2019-05-16T00:50:03.543080Z",
     "start_time": "2019-05-16T00:50:03.537062Z"
    },
    "slideshow": {
     "slide_type": "subslide"
    }
   },
   "source": [
    "## 4.1. 그룹핑 예"
   ]
  },
  {
   "cell_type": "markdown",
   "metadata": {
    "ExecuteTime": {
     "end_time": "2019-05-16T00:56:13.966065Z",
     "start_time": "2019-05-16T00:56:13.960644Z"
    },
    "slideshow": {
     "slide_type": "subslide"
    }
   },
   "source": [
    "### 4.1.1 전체 패턴 내에서 일부 패턴을 조회"
   ]
  },
  {
   "cell_type": "code",
   "execution_count": 171,
   "metadata": {},
   "outputs": [
    {
     "name": "stdout",
     "output_type": "stream",
     "text": [
      "010-1111-2345\n",
      "010\n",
      "1111\n",
      "2345\n"
     ]
    }
   ],
   "source": [
    "# 전화번호에서 국번만 조회하려는 경우\n",
    "tel = 'tel: 010-1111-2345'\n",
    "pattern = r'(\\d{2,3})-(\\d{3,4})-(\\d{4})'\n",
    "p = re.compile(pattern)\n",
    "m = p.search(tel)\n",
    "if m:\n",
    "    print(m.group())\n",
    "    print(m.group(1))\n",
    "    print(m.group(2))\n",
    "    print(m.group(3))\n"
   ]
  },
  {
   "cell_type": "code",
   "execution_count": 180,
   "metadata": {},
   "outputs": [
    {
     "name": "stdout",
     "output_type": "stream",
     "text": [
      "<re.Match object; span=(5, 18), match='010-1111-2345'>\n",
      "010-1111-2345\n",
      "010\n",
      "1111-2345\n",
      "1111\n",
      "2345\n"
     ]
    }
   ],
   "source": [
    "# 전화번호에서 국번만 조회하려는 경우\n",
    "tel = 'tel: 010-1111-2345'\n",
    "pattern = r'(\\d{2,3})-((\\d{3,4})-(\\d{4}))'\n",
    "p = re.compile(pattern)\n",
    "m = p.search(tel)\n",
    "if m:\n",
    "    print(m)\n",
    "    print(m.group())\n",
    "    print(m.group(1))\n",
    "    print(m.group(2))\n",
    "    print(m.group(3))\n",
    "    print(m.group(4))"
   ]
  },
  {
   "cell_type": "code",
   "execution_count": null,
   "metadata": {},
   "outputs": [],
   "source": [
    "# 중첩 그룹\n",
    "num = '010-1111-2345-9999'\n"
   ]
  },
  {
   "cell_type": "markdown",
   "metadata": {
    "slideshow": {
     "slide_type": "subslide"
    }
   },
   "source": [
    "### 4.1.2 패턴 내에서 하위그룹 참조\n",
    "- `\\번호`\n",
    "- 지정한 '번호' 번째 패턴으로 매칭된 문자열과 같은 문자열을 의미"
   ]
  },
  {
   "cell_type": "code",
   "execution_count": 183,
   "metadata": {
    "scrolled": true
   },
   "outputs": [
    {
     "name": "stdout",
     "output_type": "stream",
     "text": [
      "None\n",
      "<re.Match object; span=(0, 13), match='010-3333-3333'>\n",
      "<re.Match object; span=(0, 13), match='010-3232-3232'>\n"
     ]
    }
   ],
   "source": [
    "import re\n",
    "p = re.compile(r'\\d{2,3}-(\\d{3,4})-\\1') #\\1: 1번 그룹의 패턴으로 찾은 값과 동일한 값 \n",
    "print(p.search('010-2222-3333'))\n",
    "print(p.search('010-3333-3333'))\n",
    "print(p.search('010-3232-3232'))"
   ]
  },
  {
   "cell_type": "code",
   "execution_count": 184,
   "metadata": {},
   "outputs": [
    {
     "name": "stdout",
     "output_type": "stream",
     "text": [
      "None\n",
      "<re.Match object; span=(0, 12), match='010-3333-010'>\n",
      "None\n"
     ]
    }
   ],
   "source": [
    "import re\n",
    "p = re.compile(r'(\\d{2,3})-(\\d{3,4})-\\1') #\\1: 1번 그룹의 패턴으로 찾은 값과 동일한 값 \n",
    "print(p.search('010-2222-3333'))\n",
    "print(p.search('010-3333-010'))\n",
    "print(p.search('010-3232-3232'))"
   ]
  },
  {
   "cell_type": "code",
   "execution_count": 187,
   "metadata": {
    "scrolled": true
   },
   "outputs": [
    {
     "name": "stdout",
     "output_type": "stream",
     "text": [
      "<re.Match object; span=(3, 8), match='정말 정말'>\n",
      "['정말', '너무', '배고']\n"
     ]
    }
   ],
   "source": [
    "p = re.compile(r'(\\w+)\\s\\1')\n",
    "print(p.search('나는 정말 정말 너무 너무 어구배고 배고프다'))\n",
    "print(p.findall('나는 정말 정말 정말 너무 너무 어구배고 배고프다'))"
   ]
  },
  {
   "cell_type": "code",
   "execution_count": 188,
   "metadata": {},
   "outputs": [
    {
     "name": "stdout",
     "output_type": "stream",
     "text": [
      "None\n",
      "['정말']\n"
     ]
    }
   ],
   "source": [
    "p = re.compile(r'(\\w+)\\s\\1\\s\\1')\n",
    "print(p.search('나는 정말 정말 너무 너무 어구배고 배고프다'))\n",
    "print(p.findall('나는 정말 정말 정말 너무 너무 어구배고 배고프다'))"
   ]
  },
  {
   "cell_type": "code",
   "execution_count": 190,
   "metadata": {},
   "outputs": [
    {
     "name": "stdout",
     "output_type": "stream",
     "text": [
      "911123-1******\n",
      "김정수 kjs@gmail.com 801023-1******\n",
      "박영수 py-s@gmail.com 700121-1******\n",
      "이민영 lmy@naver.com 820301-2******\n",
      "김순희 ksh@daum.net 781223-2******\n",
      "오주연 ojy@daum.net 900522-1******\n",
      "\n"
     ]
    }
   ],
   "source": [
    "jumin = '911123-1027212'\n",
    "pattern = r'(\\d{6}-[1-4])\\d{6}'\n",
    "p = re.compile(pattern)\n",
    "print(p.sub('\\g<1>******',jumin))   #\\g<1>: 첫번쩨 그룹은 그대로 써라\n",
    "print(p.sub('\\g<1>******',info))"
   ]
  },
  {
   "cell_type": "code",
   "execution_count": 193,
   "metadata": {
    "scrolled": true
   },
   "outputs": [
    {
     "name": "stdout",
     "output_type": "stream",
     "text": [
      "911123-911123:1027212\n",
      "생년월일:911123\n",
      "뒷자리:1027212\n"
     ]
    }
   ],
   "source": [
    "pattern = r'(\\d{6})-(\\d{7})'\n",
    "p = re.compile(pattern)\n",
    "print(p.sub(r'\\g<1>-\\g<1>:\\g<2>',jumin))\n",
    "print(p.sub(r'생년월일:\\g<1>\\n뒷자리:\\g<2>',jumin))"
   ]
  },
  {
   "cell_type": "markdown",
   "metadata": {},
   "source": [
    "#### Group으로 묶인 것 참조(조회)\n",
    "- 패턴 안에서 참조\n",
    "    - `\\번호`: `r'(\\d{3}) \\1'`   => 중복되는 것을 패턴으로 표현할 때\n",
    "    - match 조회\n",
    "        - match객체.group(번호)\n",
    "    - sub() 함수에서 대체문자로 참조\n",
    "        - `\\g<번호>`"
   ]
  },
  {
   "cell_type": "markdown",
   "metadata": {
    "slideshow": {
     "slide_type": "slide"
    }
   },
   "source": [
    "# 5. Greedy 와 Non-Greedy\n",
    "- Greedy(탐욕스러운-*최대일치*) 의 의미\n",
    "    - 주어진 패턴에 만족하는 문자열을 최대한 넓게(길게) 잡아 찾는다.\n",
    "    - 매칭시 기본 방식\n",
    "- Non-Greedy(*최소일치*)\n",
    "    - 주어진 패턴에 만족하는 문자열을 최초의 일치하는 위치까지 찾는다\n",
    "    - 개수를 나타내는 메타문자에 **`?`**를 붙인다.\n",
    "    - `*?`, `+?`, `{m,n}?`"
   ]
  },
  {
   "cell_type": "markdown",
   "metadata": {},
   "source": [
    "Greedy:"
   ]
  },
  {
   "cell_type": "code",
   "execution_count": 195,
   "metadata": {},
   "outputs": [
    {
     "data": {
      "text/plain": [
       "['<h1>파이썬 정규식<h2>정규식이란</h2></h1>']"
      ]
     },
     "execution_count": 195,
     "metadata": {},
     "output_type": "execute_result"
    }
   ],
   "source": [
    "txt = '<h1>파이썬 정규식<h2>정규식이란</h2></h1>'\n",
    "pattern = r'<.*>' # .*:한글자 이상 \n",
    "p = re.compile(pattern)\n",
    "p.findall(txt)"
   ]
  },
  {
   "cell_type": "markdown",
   "metadata": {},
   "source": [
    "Non-Greedy:"
   ]
  },
  {
   "cell_type": "code",
   "execution_count": 196,
   "metadata": {},
   "outputs": [
    {
     "data": {
      "text/plain": [
       "['<h1>', '<h2>', '</h2>', '</h1>']"
      ]
     },
     "execution_count": 196,
     "metadata": {},
     "output_type": "execute_result"
    }
   ],
   "source": [
    "txt = '<h1>파이썬 정규식<h2>정규식이란</h2></h1>'\n",
    "pattern = r'<.*?>' # .*:한글자 이상 \n",
    "p = re.compile(pattern)\n",
    "p.findall(txt)"
   ]
  },
  {
   "cell_type": "code",
   "execution_count": 197,
   "metadata": {},
   "outputs": [
    {
     "data": {
      "text/plain": [
       "['<h1>파이썬 정', '<h2>정']"
      ]
     },
     "execution_count": 197,
     "metadata": {},
     "output_type": "execute_result"
    }
   ],
   "source": [
    "txt = '<h1>파이썬 정규식<h2>정규식이란</h2></h1>'\n",
    "pattern = r'<.*?정' # .*:한글자 이상 \n",
    "p = re.compile(pattern)\n",
    "p.findall(txt)"
   ]
  }
 ],
 "metadata": {
  "kernelspec": {
   "display_name": "Python 3",
   "language": "python",
   "name": "python3"
  },
  "language_info": {
   "codemirror_mode": {
    "name": "ipython",
    "version": 3
   },
   "file_extension": ".py",
   "mimetype": "text/x-python",
   "name": "python",
   "nbconvert_exporter": "python",
   "pygments_lexer": "ipython3",
   "version": "3.7.3"
  },
  "toc": {
   "base_numbering": 1,
   "nav_menu": {},
   "number_sections": false,
   "sideBar": false,
   "skip_h1_title": false,
   "title_cell": "Table of Contents",
   "title_sidebar": "Contents",
   "toc_cell": false,
   "toc_position": {
    "height": "606.319px",
    "left": "10px",
    "top": "150px",
    "width": "336.889px"
   },
   "toc_section_display": false,
   "toc_window_display": false
  },
  "varInspector": {
   "cols": {
    "lenName": 16,
    "lenType": 16,
    "lenVar": 40
   },
   "kernels_config": {
    "python": {
     "delete_cmd_postfix": "",
     "delete_cmd_prefix": "del ",
     "library": "var_list.py",
     "varRefreshCmd": "print(var_dic_list())"
    },
    "r": {
     "delete_cmd_postfix": ") ",
     "delete_cmd_prefix": "rm(",
     "library": "var_list.r",
     "varRefreshCmd": "cat(var_dic_list()) "
    }
   },
   "types_to_exclude": [
    "module",
    "function",
    "builtin_function_or_method",
    "instance",
    "_Feature"
   ],
   "window_display": false
  }
 },
 "nbformat": 4,
 "nbformat_minor": 2
}
